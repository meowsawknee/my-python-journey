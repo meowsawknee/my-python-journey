{
 "cells": [
  {
   "cell_type": "code",
   "execution_count": 1,
   "id": "d5e338ef",
   "metadata": {},
   "outputs": [],
   "source": [
    "# Building a Spellbook class that holds a set of spells.\n",
    "# The goal is to make it act like a real object using magic methods.\n",
    "# I want to be able to print it, compare it, call it, and more.\n",
    "# A solid exercise to get deeper into OOP and Python internals."
   ]
  },
  {
   "cell_type": "code",
   "execution_count": 2,
   "id": "523daad3",
   "metadata": {},
   "outputs": [],
   "source": [
    "class SpellBook:\n",
    "    \"\"\"\n",
    "    Represents a magical spellbook belonging to a wizard.\n",
    "\n",
    "    Attributes:\n",
    "        name (str): Owner's name.\n",
    "        spells (dict): A dicitionary of spells and their power levels.\n",
    "    \"\"\"\n",
    "    def __init__(self, name, spells):\n",
    "        \"\"\"Initialize the spellbook with a name and dictionary of spells.\"\"\"\n",
    "        self.name = name\n",
    "        self.spells = spells\n",
    "\n",
    "    def __str__(self):\n",
    "        \"\"\"Return a user-friendly description of a spellbook.\"\"\"\n",
    "        return f\"{self.name}'s SpellBook: {len(self.spells)} spells ready.\"\n",
    "    \n",
    "    def __repr__(self):\n",
    "        \"\"\"Return a developer-friendly represntation of the spellbook.\"\"\"\n",
    "        return f\"{self.__class__.__name__}(owener='{self.name}', spells={self.spells})\"\n",
    "    \n",
    "    def __len__(self):\n",
    "        \"\"\"Return the number of spells in the spellbook.\"\"\"\n",
    "        return len(self.spells)\n",
    "    \n",
    "    def __getitem__(self, spell_name):\n",
    "        \"\"\"Return the power of a spell by its name.\"\"\"\n",
    "        return self.spells[spell_name]\n",
    "    def __setitem__(self, spell_name, power):\n",
    "        \"\"\"Add or update a spell with a given power level.\"\"\"\n",
    "        self.spells[spell_name] = power\n",
    "    \n",
    "    def __delitem__(self, spell_name):\n",
    "        \"\"\"Remove a spell from the spellbook.\"\"\"\n",
    "        if spell_name in self.spells:\n",
    "            del self.spells[spell_name]\n",
    "\n",
    "    def __call__(self, spell_name):\n",
    "        \"\"\"Cast a spell by name, printing its effect and power.\"\"\"\n",
    "        if spell_name in self.spells:\n",
    "            power = self.spells[spell_name]\n",
    "            print(f\"Casting {spell_name}... BOOM! 🔥 Power: {power}\")\n",
    "        else:\n",
    "            print(f\"{spell_name} is not in your spellbook!\")\n",
    "\n",
    "    def __eq__(self, other):\n",
    "        \"\"\"Compare two spellbooks based on total power and number of spells.\"\"\"\n",
    "        if not isinstance(other, SpellBook):\n",
    "            return NotImplemented\n",
    "        return sum(self.spells.values()) == sum(other.spells.values()) and len(self.spells) == len(other.spells)\n",
    "\n",
    "    def __add__(self, other):\n",
    "        \"\"\"Merge two spellbooks into a new one, combining powers of shared spells.\"\"\"\n",
    "        if not isinstance(other, SpellBook):\n",
    "            return NotImplemented\n",
    "        new_spells = self.spells.copy() # clone dict to keep original spellbook untouched\n",
    "        for spell, power in other.spells.items():\n",
    "            if spell in new_spells:\n",
    "                new_spells[spell] += power\n",
    "            else:\n",
    "                new_spells[spell] = power\n",
    "        return SpellBook(f\"{self.name}-{other.name}\", new_spells)\n",
    "    \n",
    "    def __contains__(self, spell_name):\n",
    "        \"\"\"Check if a spell exists in the spellbook.\"\"\"\n",
    "        return spell_name in self.spells\n",
    "    \n",
    "    def __iter__(self):\n",
    "        \"\"\"Iterate over spell names in the spellbook.\"\"\"\n",
    "        return iter(self.spells)\n",
    "    \n",
    "    def __del__(self):\n",
    "        \"\"\"Cleanup message when the spellbook is destroyed.\"\"\"\n",
    "        print(f\"The spellbook of {self.name} crumbles into dust...\")\n"
   ]
  },
  {
   "cell_type": "code",
   "execution_count": 3,
   "id": "13ad9c7e",
   "metadata": {},
   "outputs": [],
   "source": [
    "# Create two spellbook instances\n",
    "book_1 = SpellBook(\"Gandalf\", {\"Fireball\": 50, \"Ice Spike\": 30})\n",
    "book_2 = SpellBook(\"Saruman\", {\"Fireball\": 20, \"Lightning\": 40})"
   ]
  },
  {
   "cell_type": "code",
   "execution_count": 4,
   "id": "33032ffb",
   "metadata": {},
   "outputs": [
    {
     "name": "stdout",
     "output_type": "stream",
     "text": [
      "Gandalf's SpellBook: 2 spells ready.\n",
      "SpellBook(owener='Gandalf', spells={'Fireball': 50, 'Ice Spike': 30})\n",
      "2\n"
     ]
    }
   ],
   "source": [
    "# Test __str__ and __repr__\n",
    "print(str(book_1))   # Friendly string representation\n",
    "print(repr(book_1))  # Developer-friendly debug output\n",
    "\n",
    "# Test __len__\n",
    "print(len(book_1))   # Should return 2"
   ]
  },
  {
   "cell_type": "code",
   "execution_count": 5,
   "id": "7673017a",
   "metadata": {},
   "outputs": [
    {
     "name": "stdout",
     "output_type": "stream",
     "text": [
      "50\n",
      "70\n",
      "False\n"
     ]
    }
   ],
   "source": [
    "# Test __getitem__ and __setitem__\n",
    "\n",
    "print(book_1[\"Fireball\"])     # Access spell power\n",
    "book_1[\"Teleport\"] = 70       # Add new spell\n",
    "print(book_1[\"Teleport\"])     # Should return 70\n",
    "\n",
    "# Test __delitem__\n",
    "del book_1[\"Ice Spike\"]       # Remove a spell\n",
    "print(\"Ice Spike\" in book_1)  # Should be False"
   ]
  },
  {
   "cell_type": "code",
   "execution_count": 6,
   "id": "d0668848",
   "metadata": {},
   "outputs": [
    {
     "name": "stdout",
     "output_type": "stream",
     "text": [
      "Casting Fireball... BOOM! 🔥 Power: 50\n",
      "Unknown is not in your spellbook!\n",
      "True\n"
     ]
    }
   ],
   "source": [
    "# Test __call__\n",
    "book_1(\"Fireball\")  # Cast an existing spell\n",
    "book_1(\"Unknown\") # Try Casting a missing spell\n",
    "\n",
    "# Test __eq__\n",
    "book_3 = SpellBook(\"Clone\", {\"Teleport\": 70, \"Fireball\": 50})\n",
    "print(book_1 == book_3) # Should return True"
   ]
  },
  {
   "cell_type": "code",
   "execution_count": 7,
   "id": "cf80c899",
   "metadata": {},
   "outputs": [
    {
     "name": "stdout",
     "output_type": "stream",
     "text": [
      "Gandalf-Saruman\n",
      "70\n",
      "40\n",
      "70\n",
      "True\n",
      "Fireball\n",
      "Teleport\n",
      "Lightning\n"
     ]
    }
   ],
   "source": [
    "# Test __add__\n",
    "merged = book_1 + book_2        # Merge two spellbooks\n",
    "print(merged.name)              # Should be 'Gandalf-Saruman'\n",
    "print(merged[\"Fireball\"])       # Should be 70 (50 + 20)\n",
    "print(merged[\"Lightning\"])      # Should be 40\n",
    "print(merged[\"Teleport\"])       # Should be 70\n",
    "# Test __contains__ and __iter__\n",
    "print(\"Lightning\" in merged)    # Should be True\n",
    "\n",
    "for spell in merged:\n",
    "    print(spell)"
   ]
  },
  {
   "cell_type": "code",
   "execution_count": 8,
   "id": "9caa2ce9",
   "metadata": {},
   "outputs": [
    {
     "name": "stdout",
     "output_type": "stream",
     "text": [
      "The spellbook of Gandalf crumbles into dust...\n"
     ]
    }
   ],
   "source": [
    "# Test __del__ (called automatically when object is deleted)\n",
    "del book_1  # Should print cleanup message"
   ]
  }
 ],
 "metadata": {
  "kernelspec": {
   "display_name": "envone",
   "language": "python",
   "name": "python3"
  },
  "language_info": {
   "codemirror_mode": {
    "name": "ipython",
    "version": 3
   },
   "file_extension": ".py",
   "mimetype": "text/x-python",
   "name": "python",
   "nbconvert_exporter": "python",
   "pygments_lexer": "ipython3",
   "version": "3.13.2"
  }
 },
 "nbformat": 4,
 "nbformat_minor": 5
}
