{
 "cells": [
  {
   "cell_type": "code",
   "execution_count": null,
   "id": "297ca636",
   "metadata": {},
   "outputs": [],
   "source": [
    "# Pytopia exercise - Funtion Return Values\n",
    "# Temperature Conversion Tool with data validation"
   ]
  },
  {
   "cell_type": "code",
   "execution_count": 39,
   "id": "0679e60f",
   "metadata": {},
   "outputs": [],
   "source": [
    "# Temperature Conversion Tool\n",
    "# Includes three functions with input validation and return values:\n",
    "# - c_to_f(): Celsius to Fahrenheit\n",
    "# - f_to_c(): Fahrenheit to Celsius\n",
    "# - water_state(): Determines water state (Solid, Liquid, Gas)\n",
    "# Shows how to use return statements and handle invalid input gracefully."
   ]
  },
  {
   "cell_type": "code",
   "execution_count": 13,
   "id": "5419c53d",
   "metadata": {},
   "outputs": [
    {
     "ename": "SyntaxError",
     "evalue": "invalid syntax (3825899339.py, line 3)",
     "output_type": "error",
     "traceback": [
      "  \u001b[36mCell\u001b[39m\u001b[36m \u001b[39m\u001b[32mIn[13]\u001b[39m\u001b[32m, line 3\u001b[39m\n\u001b[31m    \u001b[39m\u001b[31mif celsius not int or float:\u001b[39m\n                   ^\n\u001b[31mSyntaxError\u001b[39m\u001b[31m:\u001b[39m invalid syntax\n"
     ]
    }
   ],
   "source": [
    "# part 1\n",
    "def c_to_f(celsius):\n",
    "    if celsius not int or float:\n",
    "        print(\"Error: Invalid input. Please enter a numeric value.\")\n",
    "        return None\n",
    "    elif celsius == int or float:\n",
    "        fahrenheit = celsius * (9/5) + 32\n",
    "        return fahrenheit"
   ]
  },
  {
   "cell_type": "code",
   "execution_count": null,
   "id": "955bd869",
   "metadata": {},
   "outputs": [
    {
     "name": "stdout",
     "output_type": "stream",
     "text": [
      "Error: Invalid input. Please enter a numeric value.\n"
     ]
    },
    {
     "data": {
      "text/plain": [
       "90.014"
      ]
     },
     "execution_count": 15,
     "metadata": {},
     "output_type": "execute_result"
    }
   ],
   "source": [
    "# part 1\n",
    "def c_to_f(celsius):\n",
    "    \n",
    "    # if not isinstance(celsius, (int, float)): ---> another way\n",
    "    if not (type(celsius) == int or type(celsius) == float):\n",
    "        print(\"Error: Invalid input. Please enter a numeric value.\")\n",
    "        return None\n",
    "    fahrenheit = celsius * (9/5) + 32\n",
    "    return fahrenheit\n",
    "\n",
    "c_to_f(100)\n",
    "c_to_f(\"twenty\")\n",
    "c_to_f(32.23)\n",
    "\n",
    "# isinstance checks if value belongs to given types (like int or float)\n"
   ]
  },
  {
   "cell_type": "code",
   "execution_count": 18,
   "id": "94a8a1fb",
   "metadata": {},
   "outputs": [
    {
     "name": "stdout",
     "output_type": "stream",
     "text": [
      "0.0\n",
      "Error: Invalid input. Please enter a numeric value.\n",
      "None\n"
     ]
    }
   ],
   "source": [
    "# part 2\n",
    "def f_to_c(fahrenheit):\n",
    "    if not isinstance(fahrenheit, (int, float)):\n",
    "        print(\"Error: Invalid input. Please enter a numeric value.\")\n",
    "        return None\n",
    "    celsius = (fahrenheit - 32) * 5/9\n",
    "    return celsius\n",
    "\n",
    "print(f_to_c(32))\n",
    "print(f_to_c(\"cold\"))"
   ]
  },
  {
   "cell_type": "code",
   "execution_count": 30,
   "id": "c584e8ba",
   "metadata": {},
   "outputs": [
    {
     "name": "stdout",
     "output_type": "stream",
     "text": [
      "Error: Invalid input. Please enter a numeric value.\n"
     ]
    },
    {
     "data": {
      "text/plain": [
       "'Gas'"
      ]
     },
     "execution_count": 30,
     "metadata": {},
     "output_type": "execute_result"
    }
   ],
   "source": [
    "# part 3\n",
    "def water_state(temp):\n",
    "    if not isinstance(temp, (int, float)):\n",
    "        print(\"Error: Invalid input. Please enter a numeric value.\")\n",
    "        return None\n",
    "    if temp < 0:\n",
    "        return \"Solid\"\n",
    "    elif 0 <= temp <= 100:\n",
    "        return \"Liquid\"\n",
    "    else:\n",
    "        return \"Gas\"\n",
    "\n",
    "water_state(-36)\n",
    "water_state(\"Zero\")\n",
    "water_state(50)\n",
    "water_state(134)"
   ]
  },
  {
   "cell_type": "code",
   "execution_count": 38,
   "id": "4272a280",
   "metadata": {},
   "outputs": [
    {
     "name": "stdout",
     "output_type": "stream",
     "text": [
      "100 Celsius is 212.0 Fahrenheit.\n",
      "Error: Invalid input. Please enter a numeric value.\n",
      "------------\n",
      "32 Fahrenheit is 0.0 Celsius.\n",
      "Error: Invalid input. Please enter a numeric value.\n",
      "------------\n",
      "At 25 Celsius, water is in a Liquid state.\n",
      "Error: Invalid input. Please enter a numeric value.\n"
     ]
    }
   ],
   "source": [
    "# Task 4-6\n",
    "\n",
    "print(f\"100 Celsius is {c_to_f(100)} Fahrenheit.\")\n",
    "c_to_f(\"hot\")\n",
    "print(\"------------\")\n",
    "\n",
    "print(f\"32 Fahrenheit is {f_to_c(32)} Celsius.\")\n",
    "f_to_c(\"cold\")\n",
    "print(\"------------\")\n",
    "\n",
    "print(f\"At 25 Celsius, water is in a {water_state(25)} state.\")\n",
    "water_state(\"warm\")\n"
   ]
  }
 ],
 "metadata": {
  "kernelspec": {
   "display_name": "envone",
   "language": "python",
   "name": "python3"
  },
  "language_info": {
   "codemirror_mode": {
    "name": "ipython",
    "version": 3
   },
   "file_extension": ".py",
   "mimetype": "text/x-python",
   "name": "python",
   "nbconvert_exporter": "python",
   "pygments_lexer": "ipython3",
   "version": "3.13.2"
  }
 },
 "nbformat": 4,
 "nbformat_minor": 5
}
