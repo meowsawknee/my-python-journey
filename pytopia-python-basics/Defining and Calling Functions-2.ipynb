{
 "cells": [
  {
   "cell_type": "code",
   "execution_count": 2,
   "id": "00640020",
   "metadata": {},
   "outputs": [],
   "source": [
    "# Shopping List Manager\n",
    "# GPT excercise to deepen what i learned from Pytopia,\n",
    "# 'Defining and Calling Functions' class."
   ]
  },
  {
   "cell_type": "code",
   "execution_count": 3,
   "id": "6caf265b",
   "metadata": {},
   "outputs": [
    {
     "name": "stdout",
     "output_type": "stream",
     "text": [
      "['add item', 'remove item', 'stuff']\n"
     ]
    }
   ],
   "source": [
    "# define menu main function of this shoppin list maneger\n",
    "\n",
    "def menu_list(menu):\n",
    "    print(menu)\n",
    "    return\n",
    "\n",
    "menu = [\"add item\",\n",
    "        \"remove item\",\n",
    "        \"stuff\"\n",
    "        ]\n",
    "\n",
    "menu_list(menu)\n"
   ]
  },
  {
   "cell_type": "code",
   "execution_count": 4,
   "id": "aa73e18f",
   "metadata": {},
   "outputs": [
    {
     "name": "stdout",
     "output_type": "stream",
     "text": [
      "Shopping List Menu\n",
      "1. Add item\n",
      "2. Remove item\n",
      "3. Show list\n",
      "4. Search item\n",
      "5. Find cheapest and most expensive item\n",
      "6. Calculate total price\n",
      "7. Exit\n"
     ]
    }
   ],
   "source": [
    "# gpt revised version\n",
    "\n",
    "menu = [\n",
    "    \"Add item\",\n",
    "    \"Remove item\",\n",
    "    \"Show list\",\n",
    "    \"Search item\",\n",
    "    \"Find cheapest and most expensive item\",\n",
    "    \"Calculate total price\",\n",
    "    \"Exit\"\n",
    "]\n",
    "\n",
    "def menu_list(menu):\n",
    "    print(\"Shopping List Menu\")\n",
    "    for i, option in enumerate(menu, 1): \n",
    "        print(f\"{i}. {option}\")\n",
    "    \n",
    "# No return is needed here because the function just prints the menu.\n",
    "\n",
    "menu_list(menu)\n"
   ]
  },
  {
   "cell_type": "code",
   "execution_count": 5,
   "id": "fbefa03b",
   "metadata": {},
   "outputs": [],
   "source": [
    "# 2\n",
    "# adding item function\n",
    "\n",
    "# I thought I needed just one dictionary,\n",
    "# but actually I need a list of dictionaries.\n",
    "\n",
    "new_items = []\n",
    "\n",
    "def add_item(name, quantity, price):\n",
    "    result = new_items.append({name, quantity, price})\n",
    "    return\n",
    "\n",
    "\n"
   ]
  },
  {
   "cell_type": "code",
   "execution_count": 6,
   "id": "30b321d3",
   "metadata": {},
   "outputs": [
    {
     "name": "stdout",
     "output_type": "stream",
     "text": [
      "Added milk (x2) at $1.5 each.\n",
      "Added bread (x1) at $2.0 each.\n",
      "Added eggs (x12) at $0.1 each.\n"
     ]
    }
   ],
   "source": [
    "# 2\n",
    "# add_item function\n",
    "# gpt revised version\n",
    "\n",
    "new_items = []\n",
    "\n",
    "def add_item(name, quantity, price):\n",
    "    # my first version was actually a set. i need to define it as a dictionaty.\n",
    "    # when you want to create a dictionary, always use key-value pairs.\n",
    "    new_items.append({\n",
    "        \"name\": name,\n",
    "        \"quantity\": quantity,\n",
    "        \"price\": price\n",
    "    })\n",
    "    # there is no need to return\n",
    "    print(f\"Added {name} (x{quantity}) at ${price} each.\")\n",
    "\n",
    "add_item(\"milk\", 2, 1.5)\n",
    "add_item(\"bread\", 1, 2.0)\n",
    "add_item(\"eggs\", 12, 0.1)\n"
   ]
  },
  {
   "cell_type": "code",
   "execution_count": 7,
   "id": "b59743a4",
   "metadata": {},
   "outputs": [],
   "source": [
    "# 3 \n",
    "# remove item\n",
    "def remove_item(name):\n",
    "\n",
    "    for name in new_items:\n",
    "\n",
    "        if name in new_items:\n",
    "            new_items.pop(name)\n",
    "\n",
    "        else:\n",
    "            print(\"there is no such item\")\n"
   ]
  },
  {
   "cell_type": "code",
   "execution_count": 8,
   "id": "b3df42b6",
   "metadata": {},
   "outputs": [
    {
     "name": "stdout",
     "output_type": "stream",
     "text": [
      "Your shopping list is empty.\n"
     ]
    }
   ],
   "source": [
    "# 3 \n",
    "# remove_item function\n",
    "# gpt revised version\n",
    "\n",
    "new_items = [] # just to avoiding error in my notebook\n",
    "\n",
    "def remove_item(item_name):\n",
    "\n",
    "    if not new_items:\n",
    "        print(\"Your shopping list is empty.\")\n",
    "        return\n",
    "\n",
    "    # loop through the list to find the item by its name\n",
    "    for item in new_items:\n",
    "        if item[\"name\"] == item_name: \n",
    "            new_items.remove(item)\n",
    "            print(f\"Removed {item_name} from the list.\")\n",
    "            break # ok we need a break too. because the job is done, no need to keep searching the list\n",
    "        else:\n",
    "            # this else runs if the item was not found in the entire list.\n",
    "            print(\"There is no such item.\")\n",
    "\n",
    "# no need to return because we are just updating the list and showing a message.\n",
    "\n",
    "remove_item('ice cream')"
   ]
  },
  {
   "cell_type": "code",
   "execution_count": 9,
   "id": "cad567b6",
   "metadata": {},
   "outputs": [],
   "source": [
    "# 4\n",
    "# printin list\n",
    "\n",
    "def show_list():\n",
    "    for item in new_items:\n",
    "        if new_items:\n",
    "            print(\"Here is your shopping list:\")\n",
    "            print(new_items)\n",
    "        else:\n",
    "            print(\"Empy list or whatever\")\n",
    "\n"
   ]
  },
  {
   "cell_type": "code",
   "execution_count": 10,
   "id": "ec1dd235",
   "metadata": {},
   "outputs": [],
   "source": [
    "# 4 \n",
    "# show_list function\n",
    "# gpt revised version\n",
    "\n",
    "def show_list():\n",
    "    if not new_items:\n",
    "        print(\"Your shopping list is empty.\")\n",
    "    else:\n",
    "        print(\"Here is your shopping list:\")\n",
    "        for i, item in enumerate(new_items, 1):\n",
    "            print(f\"{i}. {item[\"name\"]} (x{item[\"quantity\"]}) - ${item[\"price\"]} each\")\n",
    "\n",
    "# This version improves the previous one:\n",
    "# - Checks if the list is empty before the loop.\n",
    "# - Uses enumerate() to show a clean numbered list\n",
    "# - Prints each item with detail instead of printing the eaw list"
   ]
  },
  {
   "cell_type": "code",
   "execution_count": 11,
   "id": "a680e254",
   "metadata": {},
   "outputs": [],
   "source": [
    "# part 5\n",
    "\n",
    "def search_item(item_name):\n",
    "    for item in new_items:\n",
    "        if item[\"name\"] in new_items:\n",
    "            print(f\"Item found: {item[\"name\"]} (x{item[\"quantity\"]}) - ${item[\"price\"]} each.\")\n",
    "        else:\n",
    "            print(\"Item not found in your shopping list.\")\n"
   ]
  },
  {
   "cell_type": "code",
   "execution_count": 12,
   "id": "e5c5678f",
   "metadata": {},
   "outputs": [],
   "source": [
    "# part 5\n",
    "# search_item function\n",
    "# gpt revised version\n",
    "\n",
    "def search_item(item_name):\n",
    "    found = False\n",
    "    for item in new_items:\n",
    "        if item[\"name\"] == new_items:\n",
    "            print(f\"Item found: {item[\"name\"]} (x{item[\"quantity\"]}) - ${item[\"price\"]} each.\")\n",
    "            found = True\n",
    "            break\n",
    "    if not found:\n",
    "        print(\"Item not found in your shopping list.\")\n",
    "\n",
    "# my version was checking if the item name (like \"milk\") is in the entire list of dictionaries,\n",
    "# which is incorrect because the list contains dictionaries, not just names.\n",
    "# the corrected version directly compares the item's \"name\" field with searched item name.\n"
   ]
  },
  {
   "cell_type": "code",
   "execution_count": 13,
   "id": "df9e3286",
   "metadata": {},
   "outputs": [],
   "source": [
    "# part 6\n",
    "# find cheapest & most expensive item\n",
    "def find_min_max():\n",
    "    min_price = float(\"inf\") # این چار خط حکم ظرف خالی رو دارن همه چیو اماده میکنن\n",
    "    max_price = float(\"-inf\")\n",
    "    min_item = None\n",
    "    max_item = None\n",
    "\n",
    "    for item in new_items:\n",
    "\n",
    "        if item[\"price\"] < min_price:\n",
    "            min_price = item[\"price\"]\n",
    "            min_item = item\n",
    "\n",
    "        if item[\"price\"] > max_price:\n",
    "            max_price = item[\"price\"]\n",
    "            max_item = item\n",
    "        \n",
    "    print(f\"Minimum Price: {min_price}, Item: {min_item[\"name\"]}\")\n",
    "    print(f\"Maximum Price: {max_price}, Item: {max_item[\"name\"]}\")\n",
    "\n",
    "# initialize min and max prices and items\n",
    "# use float('inf') and float('-inf') for extreme starting values\n",
    "# loop to check if price is lower or higher than current min/max\n",
    "# use two ifs to check min and max separately for each item\n",
    "# finally, print min and max item name and price\n",
    "            "
   ]
  },
  {
   "cell_type": "code",
   "execution_count": 14,
   "id": "30a2033f",
   "metadata": {},
   "outputs": [],
   "source": [
    "# part 7\n",
    "# calculate total price \n",
    "\n",
    "def calculate_total():\n",
    "    \n",
    "    if not new_items:\n",
    "        print(\"Your shopping list is empty. Nothing to calculate.\")\n",
    "        return\n",
    "\n",
    "    total = 0\n",
    "    for item in new_items:\n",
    "        item_price = int(item[\"quantity\"]) * int(item[\"price\"])\n",
    "        total += item_price\n",
    "\n",
    "    print(f\"The final amount comes to ${total}. Thank you!\")\n"
   ]
  },
  {
   "cell_type": "code",
   "execution_count": 15,
   "id": "29f2226b",
   "metadata": {},
   "outputs": [],
   "source": [
    "# part 8\n",
    "\n",
    "def exit_program():\n",
    "    print(\"Thanks for using the Shopping List Manager. Goodbye!\")\n",
    "    \n",
    "# Future improvements: add user input, file saving/loading, and a main loop to make it fully interactive."
   ]
  }
 ],
 "metadata": {
  "kernelspec": {
   "display_name": "envone",
   "language": "python",
   "name": "python3"
  },
  "language_info": {
   "codemirror_mode": {
    "name": "ipython",
    "version": 3
   },
   "file_extension": ".py",
   "mimetype": "text/x-python",
   "name": "python",
   "nbconvert_exporter": "python",
   "pygments_lexer": "ipython3",
   "version": "3.13.2"
  }
 },
 "nbformat": 4,
 "nbformat_minor": 5
}
