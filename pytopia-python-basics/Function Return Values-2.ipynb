{
 "cells": [
  {
   "cell_type": "code",
   "execution_count": 48,
   "id": "917f685c",
   "metadata": {},
   "outputs": [],
   "source": [
    "# DiagnosisBot v1.0\n",
    "# A simple health diagnosis tool built to deepen understanding of function return values,\n",
    "# input validation, and control flow — based on the \"Function Return Values\" class in Pytopia's Python Basics course."
   ]
  },
  {
   "cell_type": "code",
   "execution_count": null,
   "id": "fd4f3060",
   "metadata": {},
   "outputs": [],
   "source": [
    "# 1\n",
    "# first attempt\n",
    "\n",
    "def validate_input(symptoms):\n",
    "    if not type(symptoms) == [str]:\n",
    "        print(\"Invalid input\")\n",
    "        return False\n",
    "    else:\n",
    "        print(symptoms)\n",
    "        return True\n"
   ]
  },
  {
   "cell_type": "code",
   "execution_count": 7,
   "id": "8ea97cde",
   "metadata": {},
   "outputs": [],
   "source": [
    "# gpt revised version\n",
    "\n",
    "def validate_input(symptoms):\n",
    "    if not isinstance(symptoms, list):\n",
    "        print(\"Invalid input: Not a list\")\n",
    "        return False\n",
    "    for item in symptoms:\n",
    "        if not isinstance(item, str):\n",
    "            print(\"Invalid input: All item must be strings.\")\n",
    "            return False\n",
    "    return True\n",
    "\n",
    "# step 1: check if input is a list. if not, it's invalid.\n",
    "# step 2: check if all items in the list are strings. if not, it's invalid.\n",
    "# these two separate checks prevent type errors and ensure valid symptom data."
   ]
  },
  {
   "cell_type": "code",
   "execution_count": 6,
   "id": "dd1655c2",
   "metadata": {},
   "outputs": [
    {
     "name": "stdout",
     "output_type": "stream",
     "text": [
      "True\n",
      "Invalid input: Not a list\n",
      "False\n",
      "Invalid input: All item must be strings.\n",
      "False\n"
     ]
    }
   ],
   "source": [
    "print(validate_input([\"fever\", \"cough\"]))\n",
    "print(validate_input(\"fever\"))\n",
    "print(validate_input([333, \"cough\"]))"
   ]
  },
  {
   "cell_type": "code",
   "execution_count": 12,
   "id": "8bfb72ab",
   "metadata": {},
   "outputs": [
    {
     "ename": "IndentationError",
     "evalue": "unindent does not match any outer indentation level (<string>, line 13)",
     "output_type": "error",
     "traceback": [
      "  \u001b[36mFile \u001b[39m\u001b[32m<string>:13\u001b[39m\n\u001b[31m    \u001b[39m\u001b[31mdiagnose([\"headache\", \"stress\"])\u001b[39m\n                                    ^\n\u001b[31mIndentationError\u001b[39m\u001b[31m:\u001b[39m unindent does not match any outer indentation level\n"
     ]
    }
   ],
   "source": [
    "# PART TWO\n",
    "def diagnose(symptoms):\n",
    "    if [\"chest_pain\", \"shortness_of_breath\"] in symptoms:\n",
    "        return \"Emergency\"\n",
    "    if [\"cough\"] in symptoms:\n",
    "        return \"Common Cold\"\n",
    "    if [\"fever\", \"cough\", \"tiredness\"] in symptoms:\n",
    "        return \"Flu\"\n",
    "    if [\"headache\", \"stress\"] in symptoms:\n",
    "        return \"Stress\"\n",
    "    else:\n",
    "        return \"Unknown\"\n",
    " diagnose([\"headache\", \"stress\"])"
   ]
  },
  {
   "cell_type": "code",
   "execution_count": 40,
   "id": "306434d1",
   "metadata": {},
   "outputs": [],
   "source": [
    "# PART TWO\n",
    "# Revised version\n",
    "def diagnose(symptoms):\n",
    "    if all(s in symptoms for s in [\"chest_pain\", \"shortness_of_breath\"]):\n",
    "        return \"Emergency\"\n",
    "    if all(s in symptoms for s in [\"fever\", \"cough\", \"tiredness\"]):\n",
    "        return \"Flu\"\n",
    "    if all(s in symptoms for s in [\"headache\", \"stress\"]):\n",
    "        return \"Stress\"\n",
    "    if \"cough\" in symptoms:\n",
    "        return \"Common Cold\"\n",
    "    return \"Unknown\"\n",
    "\n",
    "# Using the built-in all() function to check if all required symptoms are present in the list.\n",
    "# all([...]) returns True only if every condition inside is True.\n"
   ]
  },
  {
   "cell_type": "code",
   "execution_count": 22,
   "id": "3f1c20ee",
   "metadata": {},
   "outputs": [
    {
     "name": "stdout",
     "output_type": "stream",
     "text": [
      "Flu\n",
      "unknown\n",
      "Common Cold\n",
      "Stress\n",
      "Emergency\n"
     ]
    }
   ],
   "source": [
    "print(diagnose([\"fever\", \"cough\", \"tiredness\"]))\n",
    "print(diagnose([\"itchy\"]))\n",
    "print(diagnose([\"cough\"]))\n",
    "print(diagnose([\"headache\", \"stress\"]))\n",
    "print(diagnose([\"chest_pain\", \"shortness_of_breath\"]))"
   ]
  },
  {
   "cell_type": "code",
   "execution_count": 35,
   "id": "cd0fd66a",
   "metadata": {},
   "outputs": [],
   "source": [
    "def get_advice(diagnosis):\n",
    "    if diagnose == \"Emergency\":\n",
    "        return \"Call emergency services immediately!\"\n",
    "    elif diagnose == \"Flu\":\n",
    "        return \"Stay hydrated and rest.\"\n",
    "    elif diagnose == \"Common Cold\":\n",
    "        return \"Drink warm fluids.\"\n",
    "    elif diagnose == \"Stress\":\n",
    "        return \"Try meditation or rest.\"\n",
    "    elif diagnose == \"Unknown\":\n",
    "        return \"Monitor your symptoms or consult a doctor.\"\n",
    "    else:\n",
    "        return \"No advice available.\""
   ]
  },
  {
   "cell_type": "code",
   "execution_count": 39,
   "id": "70b09ac5",
   "metadata": {},
   "outputs": [
    {
     "data": {
      "text/plain": [
       "'No advice available.'"
      ]
     },
     "execution_count": 39,
     "metadata": {},
     "output_type": "execute_result"
    }
   ],
   "source": [
    "get_advice(\"Stress\")"
   ]
  },
  {
   "cell_type": "code",
   "execution_count": 45,
   "id": "0e053592",
   "metadata": {},
   "outputs": [],
   "source": [
    "# with dictionary\n",
    "\n",
    "def get_advice(diagnosis):\n",
    "    advice_map = {\n",
    "        \"Emergency\": \"Call emergency services immediately!\",\n",
    "        \"Flu\": \"Stay hydrated and rest.\",\n",
    "        \"Common Cold\": \"Drink warm fluids\",\n",
    "        \"Stress\": \"Try meditation or rest.\",\n",
    "        \"Unknown\": \"Monitor your symptoms or consult a doctor.\"\n",
    "    }\n",
    "    \n",
    "    return advice_map.get(diagnosis, \"No advice available\")"
   ]
  },
  {
   "cell_type": "code",
   "execution_count": 47,
   "id": "c4d174df",
   "metadata": {},
   "outputs": [
    {
     "name": "stdout",
     "output_type": "stream",
     "text": [
      "\n",
      "---\n",
      "Input: ['fever', 'cough', 'tiredness']\n",
      "Diagnosis: Flu\n",
      "Advice: Stay hydrated and rest.\n",
      "\n",
      "---\n",
      "Input: ['cough']\n",
      "Diagnosis: Common Cold\n",
      "Advice: Drink warm fluids\n",
      "\n",
      "---\n",
      "Input: ['headache', 'stress']\n",
      "Diagnosis: Stress\n",
      "Advice: Try meditation or rest.\n",
      "\n",
      "---\n",
      "Input: ['chest_pain', 'shortness_of_breath']\n",
      "Diagnosis: Emergency\n",
      "Advice: Call emergency services immediately!\n",
      "\n",
      "---\n",
      "Input: ['itchy']\n",
      "Diagnosis: Unknown\n",
      "Advice: Monitor your symptoms or consult a doctor.\n",
      "\n",
      "---\n",
      "Input: not a list\n",
      "Invalid input: Not a list\n",
      "\n",
      "---\n",
      "Input: ['cough', 42]\n",
      "Invalid input: All item must be strings.\n"
     ]
    }
   ],
   "source": [
    "# DiagnosisBot\n",
    "\n",
    "def validate_input(symptoms):\n",
    "    if not isinstance(symptoms, list):\n",
    "        print(\"Invalid input: Not a list\")\n",
    "        return False\n",
    "    for item in symptoms:\n",
    "        if not isinstance(item, str):\n",
    "            print(\"Invalid input: All item must be strings.\")\n",
    "            return False\n",
    "    return True\n",
    "\n",
    "def diagnose(symptoms):\n",
    "    if all(s in symptoms for s in [\"chest_pain\", \"shortness_of_breath\"]):\n",
    "        return \"Emergency\"\n",
    "    if all(s in symptoms for s in [\"fever\", \"cough\", \"tiredness\"]):\n",
    "        return \"Flu\"\n",
    "    if all(s in symptoms for s in [\"headache\", \"stress\"]):\n",
    "        return \"Stress\"\n",
    "    if \"cough\" in symptoms:\n",
    "        return \"Common Cold\"\n",
    "    return \"Unknown\"\n",
    "\n",
    "def get_advice(diagnosis):\n",
    "    advice_map = {\n",
    "        \"Emergency\": \"Call emergency services immediately!\",\n",
    "        \"Flu\": \"Stay hydrated and rest.\",\n",
    "        \"Common Cold\": \"Drink warm fluids\",\n",
    "        \"Stress\": \"Try meditation or rest.\",\n",
    "        \"Unknown\": \"Monitor your symptoms or consult a doctor.\"\n",
    "    }\n",
    "    \n",
    "    return advice_map.get(diagnosis, \"No advice available\")\n",
    "\n",
    "\n",
    "\n",
    "# --- Main Program ---\n",
    "test_cases = [\n",
    "    [\"fever\", \"cough\", \"tiredness\"],\n",
    "    [\"cough\"],\n",
    "    [\"headache\", \"stress\"],\n",
    "    [\"chest_pain\", \"shortness_of_breath\"],\n",
    "    [\"itchy\"],\n",
    "    \"not a list\",\n",
    "    [\"cough\", 42]\n",
    "]\n",
    "\n",
    "for case in test_cases:\n",
    "    print(\"\\n---\")\n",
    "    print(\"Input:\", case)\n",
    "    if validate_input(case):\n",
    "        result = diagnose(case)\n",
    "        advice = get_advice(result)\n",
    "        print(\"Diagnosis:\", result)\n",
    "        print(\"Advice:\", advice)"
   ]
  }
 ],
 "metadata": {
  "kernelspec": {
   "display_name": "envone",
   "language": "python",
   "name": "python3"
  },
  "language_info": {
   "codemirror_mode": {
    "name": "ipython",
    "version": 3
   },
   "file_extension": ".py",
   "mimetype": "text/x-python",
   "name": "python",
   "nbconvert_exporter": "python",
   "pygments_lexer": "ipython3",
   "version": "3.13.2"
  }
 },
 "nbformat": 4,
 "nbformat_minor": 5
}
