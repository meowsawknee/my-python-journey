{
 "cells": [
  {
   "cell_type": "code",
   "execution_count": 15,
   "id": "14c134bc",
   "metadata": {},
   "outputs": [],
   "source": [
    "# Countdown program: Counts down from a user-provided number to 1, then prints 'Launch!!'"
   ]
  },
  {
   "cell_type": "code",
   "execution_count": 10,
   "id": "312d57b1",
   "metadata": {},
   "outputs": [
    {
     "name": "stdout",
     "output_type": "stream",
     "text": [
      "10\n",
      "9\n",
      "8\n",
      "7\n",
      "6\n",
      "5\n",
      "4\n",
      "3\n",
      "2\n",
      "1\n",
      "Launch!!\n"
     ]
    }
   ],
   "source": [
    "# My version\n",
    "# Get user input\n",
    "user_number = input(\"Enter countdown start number: \")\n",
    "\n",
    "# Convert input to integer\n",
    "number = int(user_number) \n",
    "\n",
    "# Countdown loop\n",
    "while number >= 1:\n",
    "    print(number)\n",
    "    number -= 1\n",
    "    \n",
    "# Final message\n",
    "print(\"Launch!!\")"
   ]
  },
  {
   "cell_type": "code",
   "execution_count": 13,
   "id": "d95580c8",
   "metadata": {},
   "outputs": [
    {
     "name": "stdout",
     "output_type": "stream",
     "text": [
      "- 7 🚀\n",
      "- 6 🚀\n",
      "- 5 🚀\n",
      "- 4 🚀\n",
      "- 3 🚀\n",
      "- 2 🚀\n",
      "- 1 🚀\n",
      "Launch!! 🚀✨\n"
     ]
    }
   ],
   "source": [
    "# countdown program (GPT-collab version): Counts down from a user-provided number\n",
    "# to 1, shows rocket emoji,, adds 1-sec delay, and prints \"Launch!\" at the end.\n",
    "# includes input validation.\n",
    "\n",
    "import time\n",
    "\n",
    "user_number = input(\"Enter countdown start number:\")\n",
    "\n",
    "try:\n",
    "    number = int(user_number)\n",
    "    if number <= 0:\n",
    "        print(\"Please enter a positive integer greater than zero.\")\n",
    "        raise SystemExit\n",
    "except ValueError:\n",
    "    print(\"Invalid input! Please enter a valid number\")\n",
    "    raise SystemExit\n",
    "\n",
    "while number >= 1:\n",
    "    print(f\"- {number} 🚀\")\n",
    "    time.sleep(1)\n",
    "    number -= 1\n",
    "\n",
    "print(\"Launch!! 🚀✨\")\n"
   ]
  },
  {
   "cell_type": "code",
   "execution_count": 16,
   "id": "dd730edc",
   "metadata": {},
   "outputs": [],
   "source": [
    "# 🗓️ 2025-05-05\n",
    "# ✅ What I learned from the mentor-collab version:\n",
    "\n",
    "# - Learned to `import time` so I can use `time.sleep()` for adding delays.\n",
    "# - Found out `time.sleep()` pauses the program to make the countdown more realistic.\n",
    "# - Discovered `raise SystemExit` is safer than `exit()` in Jupyter.\n",
    "# - Understood how `try/except ValueError` prevents crashes when input is invalid.\n",
    "# - Saw the value of comments, clear variable names, and docstrings for better code readability."
   ]
  }
 ],
 "metadata": {
  "kernelspec": {
   "display_name": "envone",
   "language": "python",
   "name": "python3"
  },
  "language_info": {
   "codemirror_mode": {
    "name": "ipython",
    "version": 3
   },
   "file_extension": ".py",
   "mimetype": "text/x-python",
   "name": "python",
   "nbconvert_exporter": "python",
   "pygments_lexer": "ipython3",
   "version": "3.13.2"
  }
 },
 "nbformat": 4,
 "nbformat_minor": 5
}
