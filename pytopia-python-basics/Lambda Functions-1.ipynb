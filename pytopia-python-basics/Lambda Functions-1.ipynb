{
 "cells": [
  {
   "cell_type": "code",
   "execution_count": 15,
   "id": "6f6f515c",
   "metadata": {},
   "outputs": [],
   "source": [
    "# Lambda Function Practice\n",
    "# Exercises based on Pytopia course - covers creating and using lambda functions\n",
    "# used with map(), filter(), sorted(), and custom examples"
   ]
  },
  {
   "cell_type": "code",
   "execution_count": 16,
   "id": "2eb24e50",
   "metadata": {},
   "outputs": [
    {
     "name": "stdout",
     "output_type": "stream",
     "text": [
      "4\n",
      "81\n",
      "16\n",
      "1089\n",
      "24\n",
      "2838\n"
     ]
    }
   ],
   "source": [
    "# Exercise 1: Lambda function to square a number\n",
    "# Exercise 2: Lambda function with two arguments - multiply a * b\n",
    "square = lambda x: x**2\n",
    "print(square(2))\n",
    "print(square(9))\n",
    "print(square(4))\n",
    "print(square(33))\n",
    "\n",
    "zarb = lambda x, y: x * y\n",
    "print(zarb(4, 6))\n",
    "print(zarb(43, 66))\n",
    "\n"
   ]
  },
  {
   "cell_type": "code",
   "execution_count": 17,
   "id": "c2fab44f",
   "metadata": {},
   "outputs": [
    {
     "data": {
      "text/plain": [
       "[18, 21, 30, 45, 22, 61]"
      ]
     },
     "execution_count": 17,
     "metadata": {},
     "output_type": "execute_result"
    }
   ],
   "source": [
    "# Exercise 3: Filter ages 18+ using lambda with filter()\n",
    "ages = [14, 18, 21, 16, 30, 45, 17, 22, 61]\n",
    "list(filter(lambda x: x >= 18, ages))"
   ]
  },
  {
   "cell_type": "code",
   "execution_count": 18,
   "id": "afdddebd",
   "metadata": {},
   "outputs": [
    {
     "data": {
      "text/plain": [
       "[17.99, 31.95, 80.99, 39.38]"
      ]
     },
     "execution_count": 18,
     "metadata": {},
     "output_type": "execute_result"
    }
   ],
   "source": [
    "# Excercise 4: Apply 10% discount using lambda with map()\n",
    "prices = [19.99, 35.50, 89.99, 43.75]\n",
    "list(map(lambda x: round(x * 0.9, 2) ,prices))"
   ]
  },
  {
   "cell_type": "code",
   "execution_count": 19,
   "id": "2832f24d",
   "metadata": {},
   "outputs": [
    {
     "name": "stdout",
     "output_type": "stream",
     "text": [
      "[('banana', 0.5), ('date', 0.75), ('apple', 1.0), ('cherry', 1.5)]\n"
     ]
    }
   ],
   "source": [
    "# Exercise 5: Sort list of tuples by price using lambda with sorted()\n",
    "products = [('apple', 1.0), ('banana', 0.5), ('cherry', 1.5), ('date', 0.75)]\n",
    "sorted_products = sorted(products, key=lambda x: x[1])\n",
    "print(sorted_products)"
   ]
  },
  {
   "cell_type": "code",
   "execution_count": 20,
   "id": "4da427c5",
   "metadata": {},
   "outputs": [
    {
     "data": {
      "text/plain": [
       "[{'title': 'Book D', 'year': 1985},\n",
       " {'title': 'Book B', 'year': 1999},\n",
       " {'title': 'Book A', 'year': 2001},\n",
       " {'title': 'Book C', 'year': 2010}]"
      ]
     },
     "execution_count": 20,
     "metadata": {},
     "output_type": "execute_result"
    }
   ],
   "source": [
    "# Exercise 6: Soty list of dicts by 'year' using lambda with sorted()\n",
    "books = [\n",
    "    {'title': 'Book A', 'year': 2001},\n",
    "    {'title': 'Book B', 'year': 1999},\n",
    "    {'title': 'Book C', 'year': 2010},\n",
    "    {'title': 'Book D', 'year': 1985}\n",
    "]\n",
    "\n",
    "sorted(books, key=lambda x: x['year'])\n"
   ]
  }
 ],
 "metadata": {
  "kernelspec": {
   "display_name": "envone",
   "language": "python",
   "name": "python3"
  },
  "language_info": {
   "codemirror_mode": {
    "name": "ipython",
    "version": 3
   },
   "file_extension": ".py",
   "mimetype": "text/x-python",
   "name": "python",
   "nbconvert_exporter": "python",
   "pygments_lexer": "ipython3",
   "version": "3.13.2"
  }
 },
 "nbformat": 4,
 "nbformat_minor": 5
}
