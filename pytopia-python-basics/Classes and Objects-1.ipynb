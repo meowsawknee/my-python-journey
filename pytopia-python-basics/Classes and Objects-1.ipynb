{
 "cells": [
  {
   "cell_type": "code",
   "execution_count": 29,
   "id": "0c4da75f",
   "metadata": {},
   "outputs": [],
   "source": [
    "# Pytopia OOP Exercise - Book Class\n",
    "# Practice project to understand object-oriented concepts in Python.\n",
    "# In this exercise, we covered key ideas like self(referring to the instance),\n",
    "# instance and class attributes, and instance methods.\n",
    "# We also used a class attribute to count the number of book instances,\n",
    "# and added an is_long() method to check if a book is longer than 500 pages.\n",
    "# Simple and lightweight, but a solid foundation for understanding how classes work."
   ]
  },
  {
   "cell_type": "code",
   "execution_count": 17,
   "id": "33417e35",
   "metadata": {},
   "outputs": [],
   "source": [
    "# 1. Create a class\n",
    "\n",
    "class Book:\n",
    "    def __init__(self, title, author, pages): # self is a reference to the object\n",
    "        self.title = title\n",
    "        self.author = author\n",
    "        self.pages = pages\n",
    "    \n",
    "    # self refers to the specific instance of the Book class calling this method.\n",
    "    # It allows access to instance attributes like title, author , and pages.\n",
    "    \n",
    "    def description(self):\n",
    "        return f\"{self.title} by {self.author}, {self.pages} pages\""
   ]
  },
  {
   "cell_type": "code",
   "execution_count": 18,
   "id": "a8e9f230",
   "metadata": {},
   "outputs": [
    {
     "data": {
      "text/plain": [
       "'Python Programming by John Doe, 350 pages'"
      ]
     },
     "execution_count": 18,
     "metadata": {},
     "output_type": "execute_result"
    }
   ],
   "source": [
    "# 2. Create an object\n",
    "# 3. Call a method\n",
    "\n",
    "book_1 = Book(\"Python Programming\", \"John Doe\", 350)\n",
    "# Important note:\n",
    "# When we call book_1.description(), Python automatically passes book_1 as the self argument.\n",
    "# So inside the method, self refers to this specific instance: book_1.\n",
    "book_1.description()"
   ]
  },
  {
   "cell_type": "code",
   "execution_count": 19,
   "id": "dc812d4e",
   "metadata": {},
   "outputs": [],
   "source": [
    "# 5. Create book count\n",
    "\n",
    "class Book:\n",
    "    # Class attribute (sharet between all object)\n",
    "    book_count = 0\n",
    "\n",
    "    def __init__(self, title, author, pages): # self is a reference to the object\n",
    "        self.title = title\n",
    "        self.author = author\n",
    "        self.pages = pages\n",
    "        Book.book_count += 1\n",
    "        \n",
    "    \n",
    "    # self refers to the specific instance of the Book class calling this method.\n",
    "    # It allows access to instance attributes like title, author , and pages.\n",
    "    \n",
    "    def description(self):\n",
    "        return f\"{self.title} by {self.author}, {self.pages} pages\"\n",
    "    \n",
    "    def get_book_count(self):\n",
    "        return f\"Total number of books: {Book.book_count}\""
   ]
  },
  {
   "cell_type": "code",
   "execution_count": 20,
   "id": "60b92b85",
   "metadata": {},
   "outputs": [],
   "source": [
    "book_1 = Book(\"Python Programming\", \"John Doe\", 350)\n",
    "book_2 = Book(\"Java Programming\", \"Jane Doe\", 300)\n",
    "book_3 = Book(\"Dune\", \"Frank Herbert\", 500)\n",
    "book_4 = Book(\"The Butlerian Jihad\", \"Unknown\", 1000)\n"
   ]
  },
  {
   "cell_type": "code",
   "execution_count": 21,
   "id": "71016e1e",
   "metadata": {},
   "outputs": [
    {
     "name": "stdout",
     "output_type": "stream",
     "text": [
      "Total number of books: 4\n"
     ]
    }
   ],
   "source": [
    "print(book_1.get_book_count())"
   ]
  },
  {
   "cell_type": "code",
   "execution_count": 22,
   "id": "df540602",
   "metadata": {},
   "outputs": [],
   "source": [
    "# 7\n",
    "\n",
    "class Book:\n",
    "    # Class attribute (sharet between all object)\n",
    "    book_count = 0\n",
    "\n",
    "    def __init__(self, title, author, pages): # self is a reference to the object\n",
    "        self.title = title\n",
    "        self.author = author\n",
    "        self.pages = pages\n",
    "        Book.book_count += 1\n",
    "        \n",
    "    \n",
    "    # self refers to the specific instance of the Book class calling this method.\n",
    "    # It allows access to instance attributes like title, author , and pages.\n",
    "    \n",
    "    def description(self):\n",
    "        return f\"{self.title} by {self.author}, {self.pages} pages\"\n",
    "    \n",
    "    def get_book_count(self):\n",
    "        return f\"Total number of books: {Book.book_count}\"\n",
    "    \n",
    "    def is_long(self):\n",
    "        if self.pages > 500:\n",
    "            return True\n",
    "        else:\n",
    "            return False\n",
    "        # Or\n",
    "        # def is_long(self):\n",
    "            # return self.pages > 500"
   ]
  },
  {
   "cell_type": "code",
   "execution_count": 23,
   "id": "5237bfb7",
   "metadata": {},
   "outputs": [],
   "source": [
    "book_1 = Book(\"Python Programming\", \"John Doe\", 350)\n",
    "book_2 = Book(\"Java Programming\", \"Jane Doe\", 300)\n",
    "book_3 = Book(\"Dune\", \"Frank Herbert\", 500)\n",
    "book_4 = Book(\"The Butlerian Jihad\", \"Unknown\", 1000)\n"
   ]
  },
  {
   "cell_type": "code",
   "execution_count": 24,
   "id": "721e794d",
   "metadata": {},
   "outputs": [
    {
     "data": {
      "text/plain": [
       "False"
      ]
     },
     "execution_count": 24,
     "metadata": {},
     "output_type": "execute_result"
    }
   ],
   "source": [
    "book_2.is_long()"
   ]
  },
  {
   "cell_type": "code",
   "execution_count": 25,
   "id": "3b43313a",
   "metadata": {},
   "outputs": [
    {
     "data": {
      "text/plain": [
       "True"
      ]
     },
     "execution_count": 25,
     "metadata": {},
     "output_type": "execute_result"
    }
   ],
   "source": [
    "book_4.is_long()"
   ]
  },
  {
   "cell_type": "code",
   "execution_count": 27,
   "id": "687c85ae",
   "metadata": {},
   "outputs": [
    {
     "name": "stdout",
     "output_type": "stream",
     "text": [
      "Total number of books: 4\n"
     ]
    }
   ],
   "source": [
    "print(book_1.get_book_count())"
   ]
  },
  {
   "cell_type": "code",
   "execution_count": 28,
   "id": "aa0f7e0f",
   "metadata": {},
   "outputs": [
    {
     "data": {
      "text/plain": [
       "'Dune by Frank Herbert, 500 pages'"
      ]
     },
     "execution_count": 28,
     "metadata": {},
     "output_type": "execute_result"
    }
   ],
   "source": [
    "book_3.description()"
   ]
  }
 ],
 "metadata": {
  "kernelspec": {
   "display_name": "envone",
   "language": "python",
   "name": "python3"
  },
  "language_info": {
   "codemirror_mode": {
    "name": "ipython",
    "version": 3
   },
   "file_extension": ".py",
   "mimetype": "text/x-python",
   "name": "python",
   "nbconvert_exporter": "python",
   "pygments_lexer": "ipython3",
   "version": "3.13.2"
  }
 },
 "nbformat": 4,
 "nbformat_minor": 5
}
