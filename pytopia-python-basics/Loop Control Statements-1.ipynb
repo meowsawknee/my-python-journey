{
 "cells": [
  {
   "cell_type": "code",
   "execution_count": 23,
   "id": "0677dc07",
   "metadata": {},
   "outputs": [],
   "source": [
    "# May 6\n",
    "# pytopia exercise for \"loop control statements\"\n",
    "# first part: find the first zero and then break!\n",
    "\n",
    "numbers = [7, 8, 0, 4, 3, 0, 5, 6, 0, 1]\n",
    "for i in numbers:\n",
    "    if i == 0:\n",
    "        break"
   ]
  },
  {
   "cell_type": "code",
   "execution_count": 24,
   "id": "4d913ab2",
   "metadata": {},
   "outputs": [
    {
     "name": "stdout",
     "output_type": "stream",
     "text": [
      "First zero found at index: 2\n",
      "First zero found at position: 3\n"
     ]
    }
   ],
   "source": [
    "# it was too simple so I decided to find the index of the first 0\n",
    "# using enumerate to get both index and value\n",
    "# print the index when the first zero is found and break the loop\n",
    "\n",
    "numbers = [7, 8, 0, 4, 3, 0, 5, 6, 0, 1]\n",
    "for index , number in enumerate(numbers):\n",
    "    if number == 0:\n",
    "        break\n",
    "print(f\"First zero found at index: {index}\")\n",
    "print(f\"First zero found at position: {index + 1}\")"
   ]
  },
  {
   "cell_type": "code",
   "execution_count": 25,
   "id": "429035a1",
   "metadata": {},
   "outputs": [
    {
     "name": "stdout",
     "output_type": "stream",
     "text": [
      "Non-zero numbers: [7, 8, 4, 3, 5, 6, 1]\n"
     ]
    }
   ],
   "source": [
    "# second part : print everything except 0\n",
    "# create an empty list  just to print the output nicely in a list\n",
    "# actually it wasn't nesecary\n",
    "\n",
    "numbers = [7, 8, 0, 4, 3, 0, 5, 6, 0, 1]\n",
    "non_zero_numbers = []\n",
    "\n",
    "for nmbrs in numbers:\n",
    "    if nmbrs == 0:\n",
    "        continue\n",
    "    non_zero_numbers.append(nmbrs)\n",
    "\n",
    "print(f\"Non-zero numbers: {non_zero_numbers}\")\n",
    "\n"
   ]
  },
  {
   "cell_type": "code",
   "execution_count": 26,
   "id": "5ee94ae6",
   "metadata": {},
   "outputs": [
    {
     "name": "stdout",
     "output_type": "stream",
     "text": [
      "zero found!\n",
      "zero found!\n",
      "zero found!\n"
     ]
    }
   ],
   "source": [
    "# use pass for future stuff (just testing how it works)\n",
    "# testing how pass works, placeholder for future code\n",
    "\n",
    "numbers = [7, 8, 0, 4, 3, 0, 5, 6, 0, 1]\n",
    "\n",
    "for i in numbers:\n",
    "    if i != 0:\n",
    "        pass\n",
    "    else:\n",
    "        print(\"zero found!\")"
   ]
  },
  {
   "cell_type": "code",
   "execution_count": 27,
   "id": "38edca47",
   "metadata": {},
   "outputs": [
    {
     "ename": "_IncompleteInputError",
     "evalue": "incomplete input (3178891351.py, line 21)",
     "output_type": "error",
     "traceback": [
      "  \u001b[36mCell\u001b[39m\u001b[36m \u001b[39m\u001b[32mIn[27]\u001b[39m\u001b[32m, line 21\u001b[39m\n\u001b[31m    \u001b[39m\n    ^\n\u001b[31m_IncompleteInputError\u001b[39m\u001b[31m:\u001b[39m incomplete input\n"
     ]
    }
   ],
   "source": [
    "# bonus (complicated one)\n",
    "# my own version\n",
    "# thinking process?\n",
    "\n",
    "attemps_to_connect = [0, 1, 0, 0, 0, 2, 3, 4, 0, 0, 5, 0, 6, 7]\n",
    "\n",
    "failed_to_conncet = 0\n",
    "# connected_to_server = anything except 0\n",
    "\n",
    "for i in attemps_to_connect:\n",
    "    while i != 0:\n",
    "        print(\"Connected!\")\n",
    "        break\n",
    "# how can i limit it to 3 attemps?\n",
    "# do i need a counter ?\n",
    "attemp_counter = 0 #?\n",
    "if attemp_counter > 3:\n",
    "    # if attemp = 0 --> attemp-counter += 1\n",
    "    # break ?\n",
    "\n",
    "\n"
   ]
  },
  {
   "cell_type": "code",
   "execution_count": null,
   "id": "bf0b7a85",
   "metadata": {},
   "outputs": [],
   "source": [
    "# attempt_counter = 0\n",
    "# while attempt_counter < 3:\n",
    "#     for each i in list:\n",
    "#         if i != 0:\n",
    "#             print(\"Connected!\")\n",
    "#             break out of both loops\n",
    "#     if still not connected:\n",
    "#         print(\"All connection attempts failed. Retrying...\")\n",
    "#         attempt_counter += 1"
   ]
  },
  {
   "cell_type": "code",
   "execution_count": null,
   "id": "31194f3f",
   "metadata": {},
   "outputs": [
    {
     "name": "stdout",
     "output_type": "stream",
     "text": [
      "Connected!!\n"
     ]
    }
   ],
   "source": [
    "# bonus challenge: retry mechanism to connect\n",
    "# based on previous thinking process \n",
    "# with gpt's help\n",
    "\n",
    "attemps_to_connect = [0, 1, 0, 0, 0, 2, 3, 4, 0, 0, 5, 0, 6, 7]\n",
    "\n",
    "attempt_counter = 0 # to count number of retries\n",
    "max_attempts = 3\n",
    "connected = False # to check if connection secceeded\n",
    "\n",
    "while attempt_counter < max_attempts:\n",
    "    for i in attemps_to_connect:\n",
    "        if i != 0:\n",
    "            print(\"Connected!!\")\n",
    "            connected = True\n",
    "            break # exit the 'for loop' if connection succeeds\n",
    "    if connected:\n",
    "        break # this one is for 'while loop' we are connected so there is no need to continue \n",
    "    else:\n",
    "        print(\"All conncetion attempts failed. Retrying...\")\n",
    "        attempt_counter += 1 \n",
    "\n",
    "if not connected:\n",
    "    print(\"Failed to connect after 3 attempts.\")\n"
   ]
  },
  {
   "cell_type": "code",
   "execution_count": null,
   "id": "f8a18311",
   "metadata": {},
   "outputs": [
    {
     "name": "stdout",
     "output_type": "stream",
     "text": [
      "All conncetion attempts failed. Retrying...\n",
      "All conncetion attempts failed. Retrying...\n",
      "All conncetion attempts failed. Retrying...\n",
      "Failed to connect after 3 attempts.\n"
     ]
    }
   ],
   "source": [
    "# bonus challenge: retry mechanism to connect\n",
    "# based on previous thinking process \n",
    "# with gpt's help\n",
    "\n",
    "attemps_to_connect = [0, 0, 0, 0, 0, 0, 0, 0, 0, 0, 0, 0, 0, 0]\n",
    "\n",
    "attempt_counter = 0 # to count number of retries\n",
    "max_attempts = 3\n",
    "connected = False # to check if connection secceeded\n",
    "\n",
    "while attempt_counter < max_attempts:\n",
    "    for i in attemps_to_connect:\n",
    "        if i != 0:\n",
    "            print(\"Connected!!\")\n",
    "            connected = True\n",
    "            break # exit the 'for loop' if connection succeeds\n",
    "    if connected:\n",
    "        break # this one is for 'while loop' we are connected so there is no need to continue \n",
    "    else:\n",
    "        print(\"All conncetion attempts failed. Retrying...\")\n",
    "        attempt_counter += 1 \n",
    "\n",
    "if not connected:\n",
    "    print(\"Failed to connect after 3 attempts.\")\n"
   ]
  }
 ],
 "metadata": {
  "kernelspec": {
   "display_name": "envone",
   "language": "python",
   "name": "python3"
  },
  "language_info": {
   "codemirror_mode": {
    "name": "ipython",
    "version": 3
   },
   "file_extension": ".py",
   "mimetype": "text/x-python",
   "name": "python",
   "nbconvert_exporter": "python",
   "pygments_lexer": "ipython3",
   "version": "3.13.2"
  }
 },
 "nbformat": 4,
 "nbformat_minor": 5
}
