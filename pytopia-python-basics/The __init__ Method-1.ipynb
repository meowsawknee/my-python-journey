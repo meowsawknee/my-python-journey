{
 "cells": [
  {
   "cell_type": "code",
   "execution_count": 62,
   "id": "6bfc0a42",
   "metadata": {},
   "outputs": [],
   "source": [
    "# In this Pytopia exercise, I'm gonna build a 'Classroom' class that uses the '__init__' method\n",
    "# to initialize attributes.\n",
    "# It's designed to help me get a solid grip on how '__init__' works,\n",
    "# what 'self' means, and how to handle input parameters properly."
   ]
  },
  {
   "cell_type": "code",
   "execution_count": 63,
   "id": "78906141",
   "metadata": {},
   "outputs": [],
   "source": [
    "# Define the Classroom class and set up its basic attributes using __init__\n",
    "\n",
    "class Classroom: # no need for parentheses here - not inheriting from any class\n",
    "    def __init__(self, teacher, students, subject, room_number):\n",
    "        self.teacher = teacher\n",
    "        self.students = students\n",
    "        self.subject = subject\n",
    "        self.room_number = room_number\n"
   ]
  },
  {
   "cell_type": "code",
   "execution_count": 64,
   "id": "434159fc",
   "metadata": {},
   "outputs": [],
   "source": [
    "# sample object\n",
    "my_class = Classroom(\"Mr. Smith\", [\"Alice\", \"Bob\", \"Charlie\", \"Diana\"], \"Mathematics\", 101)"
   ]
  },
  {
   "cell_type": "code",
   "execution_count": 65,
   "id": "c7a82f04",
   "metadata": {},
   "outputs": [],
   "source": [
    "# Added a method to display classroom details in a readable format.\n",
    "\n",
    "class Classroom: \n",
    "    def __init__(self, teacher, students, subject, room_number):\n",
    "        self.teacher = teacher\n",
    "        self.students = students\n",
    "        self.subject = subject\n",
    "        self.room_number = room_number\n",
    "    \n",
    "    def display_info(self):\n",
    "        return f\"Teacher: {self.teacher}\\nStudents: {self.students}\\nSubject: {self.subject}\\nRoom Number: {self.room_number}\"\n",
    "    \n",
    "#   GPT tip: using `join()` makes the student list cleaner and more human-readable\n",
    "#   def display_info(self):\n",
    "#       return f\"Teacher: {self.teacher}\\n\" \\\n",
    "#              f\"Students: {', '.join(self.students)}\\n\" \\\n",
    "#              f\"Subject: {self.subject}\\n\" \\\n",
    "#              f\"Room Number: {self.room_number}\" \n",
    "        \n"
   ]
  },
  {
   "cell_type": "code",
   "execution_count": 66,
   "id": "7c26672b",
   "metadata": {},
   "outputs": [
    {
     "name": "stdout",
     "output_type": "stream",
     "text": [
      "Teacher: Mr. Smith\n",
      "Students: ['Alice', 'Bob', 'Charlie', 'Diana']\n",
      "Subject: Mathematics\n",
      "Room Number: 101\n"
     ]
    }
   ],
   "source": [
    "# sample object\n",
    "my_class = Classroom(\"Mr. Smith\", [\"Alice\", \"Bob\", \"Charlie\", \"Diana\"], \"Mathematics\", 101)\n",
    "print(my_class.display_info())"
   ]
  },
  {
   "cell_type": "code",
   "execution_count": 67,
   "id": "6e6fa712",
   "metadata": {},
   "outputs": [],
   "source": [
    "# Bonus: Support dynamic number of students using *args\n",
    "\n",
    "class Classroom: \n",
    "    def __init__(self, teacher, *students, subject, room_number): # changed students to *students for dynamic args\n",
    "        self.teacher = teacher\n",
    "        self.students = list(students) # convert *students (tuple) to list\n",
    "        self.subject = subject\n",
    "        self.room_number = room_number\n",
    "    \n",
    "    def display_info(self):\n",
    "        return f\"Teacher: {self.teacher}\\n\" \\\n",
    "               f\"Students: {', '.join(self.students)}\\n\" \\\n",
    "               f\"Subject: {self.subject}\\n\" \\\n",
    "               f\"Room Number: {self.room_number}\"\n"
   ]
  },
  {
   "cell_type": "code",
   "execution_count": 68,
   "id": "71672af5",
   "metadata": {},
   "outputs": [],
   "source": [
    "bonus_class = Classroom(\n",
    "    \"Ms. Johnson\",\n",
    "    \"Eva\", \"Frank\", \"Grace\", \"Henry\",\n",
    "    subject=\"Science\",\n",
    "    room_number=102\n",
    ")"
   ]
  },
  {
   "cell_type": "code",
   "execution_count": 69,
   "id": "062a81dc",
   "metadata": {},
   "outputs": [
    {
     "name": "stdout",
     "output_type": "stream",
     "text": [
      "Teacher: Ms. Johnson\n",
      "Students: Eva, Frank, Grace, Henry\n",
      "Subject: Science\n",
      "Room Number: 102\n"
     ]
    }
   ],
   "source": [
    "print(bonus_class.display_info())"
   ]
  },
  {
   "cell_type": "code",
   "execution_count": 70,
   "id": "5b24e5cc",
   "metadata": {},
   "outputs": [],
   "source": [
    "# This is the final GPT-suggested version \n",
    "# why this method is better:\n",
    "# more flexubility for the user\n",
    "# supports both *args and list input\n",
    "# code doesn't break if someone accidentally passes a list or tuple\n",
    "\n",
    "class Classroom: \n",
    "    def __init__(self, teacher, *students, subject, room_number): \n",
    "        self.teacher = teacher\n",
    "\n",
    "        # handle both: individual names or one list of names.\n",
    "        if len(students) == 1 and isinstance(students[0], (list, tuple)):\n",
    "            self.students = students[0] # unpack list\n",
    "        else:\n",
    "            self.students = list(students) # convert args to list\n",
    "\n",
    "        self.subject = subject\n",
    "        self.room_number = room_number\n",
    "    \n",
    "    def display_info(self):\n",
    "        return f\"Teacher: {self.teacher}\\n\" \\\n",
    "               f\"Students: {', '.join(self.students)}\\n\" \\\n",
    "               f\"Subject: {self.subject}\\n\" \\\n",
    "               f\"Room Number: {self.room_number}\"\n"
   ]
  },
  {
   "cell_type": "code",
   "execution_count": 71,
   "id": "066b61b1",
   "metadata": {},
   "outputs": [
    {
     "name": "stdout",
     "output_type": "stream",
     "text": [
      "Teacher: Ms. Johnson\n",
      "Students: Ali, Sara\n",
      "Subject: Math\n",
      "Room Number: 5\n",
      "Teacher: Ms. Johnson\n",
      "Students: Ali, Sara\n",
      "Subject: Math\n",
      "Room Number: 5\n"
     ]
    }
   ],
   "source": [
    "class_args = Classroom(\"Ms. Johnson\", \"Ali\", \"Sara\", subject=\"Math\", room_number=5)\n",
    "print(class_args.display_info())\n",
    "class_list = Classroom(\"Ms. Johnson\", [\"Ali\", \"Sara\"], subject=\"Math\", room_number=5)\n",
    "print(class_list.display_info())"
   ]
  }
 ],
 "metadata": {
  "kernelspec": {
   "display_name": "envone",
   "language": "python",
   "name": "python3"
  },
  "language_info": {
   "codemirror_mode": {
    "name": "ipython",
    "version": 3
   },
   "file_extension": ".py",
   "mimetype": "text/x-python",
   "name": "python",
   "nbconvert_exporter": "python",
   "pygments_lexer": "ipython3",
   "version": "3.13.2"
  }
 },
 "nbformat": 4,
 "nbformat_minor": 5
}
