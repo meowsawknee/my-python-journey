{
 "cells": [
  {
   "cell_type": "code",
   "execution_count": 35,
   "id": "57493422",
   "metadata": {},
   "outputs": [],
   "source": [
    "# pytopia variable length argument\n",
    "# to practice *args and **kwargs in Python\n",
    "# plan_session() uses *args to accept any number of topics\n",
    "# session_details() uses **kwargs to accept flexible info like name, attendees, and room.\n",
    "# this is part of my learning journey - nothing fancy, just getting comfortable with argument unpacking."
   ]
  },
  {
   "cell_type": "code",
   "execution_count": 36,
   "id": "5897de53",
   "metadata": {},
   "outputs": [
    {
     "name": "stdout",
     "output_type": "stream",
     "text": [
      "Topics planned for this session: ['Intro to Python', 'Loops & Conditions', 'Defining Functions Like a Pro']\n"
     ]
    }
   ],
   "source": [
    "# this function accepts any number of topics (positional args)\n",
    "def plan_session(*args):\n",
    "     print(\"Topics planned for this session:\", list(args))\n",
    "\n",
    "# sample topics i'm testing with\n",
    "topics = (\"Intro to Python\", \"Loops & Conditions\", \"Defining Functions Like a Pro\")\n",
    "plan_session(*topics)"
   ]
  },
  {
   "cell_type": "code",
   "execution_count": 37,
   "id": "0f15fae1",
   "metadata": {},
   "outputs": [
    {
     "name": "stdout",
     "output_type": "stream",
     "text": [
      "Session Details:\n",
      "Name: Web Development Basics\n",
      "Attendees: 40\n",
      "Room: 105\n"
     ]
    }
   ],
   "source": [
    "# this function accepts any number of keyword args (session info)\n",
    "def session_details(**kwargs):\n",
    "    print(\"Session Details:\")\n",
    "    for key, value in kwargs.items():\n",
    "        print(f\"{key.capitalize()}: {value}\")\n",
    "\n",
    "# info for the web dev session\n",
    "web_dev_details = {\n",
    "    \"name\": \"Web Development Basics\",\n",
    "    \"attendees\": 40,\n",
    "    \"room\": 105\n",
    "}\n",
    "\n",
    "session_details(**web_dev_details)"
   ]
  },
  {
   "cell_type": "code",
   "execution_count": 38,
   "id": "64d8c3f5",
   "metadata": {},
   "outputs": [],
   "source": [
    "web_dev_topics = (\"Python Basics\", \"Data Types Fundamentals\", \"Functions\")"
   ]
  },
  {
   "cell_type": "code",
   "execution_count": 39,
   "id": "2669ba64",
   "metadata": {},
   "outputs": [
    {
     "name": "stdout",
     "output_type": "stream",
     "text": [
      "Topics planned for this session: ['Python Basics', 'Data Types Fundamentals', 'Functions']\n"
     ]
    }
   ],
   "source": [
    "def plan_session(*args):\n",
    "     print(\"Topics planned for this session:\", list(args))\n",
    "\n",
    "plan_session(*web_dev_topics)"
   ]
  },
  {
   "cell_type": "code",
   "execution_count": 40,
   "id": "d2fd425f",
   "metadata": {},
   "outputs": [
    {
     "name": "stdout",
     "output_type": "stream",
     "text": [
      "Session Details:\n",
      "Name: Web Development Basics\n",
      "Attendees: 40\n",
      "Room: 105\n"
     ]
    }
   ],
   "source": [
    "session_details(**web_dev_details)"
   ]
  },
  {
   "cell_type": "code",
   "execution_count": 41,
   "id": "830c543c",
   "metadata": {},
   "outputs": [],
   "source": [
    "advanced_python_topics = [\n",
    "    \"Object Oriented Programming\",\n",
    "    \"Modules and Packages\"\n",
    "]\n",
    "\n",
    "advanced_python_details = {\n",
    "    \"name\": \"Advamced Python\",\n",
    "    \"attendees\": 25,\n",
    "    \"room\": 203\n",
    "}\n"
   ]
  },
  {
   "cell_type": "code",
   "execution_count": 42,
   "id": "0d17590a",
   "metadata": {},
   "outputs": [
    {
     "name": "stdout",
     "output_type": "stream",
     "text": [
      "Topics planned for this session: ['Object Oriented Programming', 'Modules and Packages']\n",
      "Session Details:\n",
      "Name: Advamced Python\n",
      "Attendees: 25\n",
      "Room: 203\n"
     ]
    }
   ],
   "source": [
    "plan_session(*advanced_python_topics)\n",
    "session_details(**advanced_python_details)"
   ]
  }
 ],
 "metadata": {
  "kernelspec": {
   "display_name": "envone",
   "language": "python",
   "name": "python3"
  },
  "language_info": {
   "codemirror_mode": {
    "name": "ipython",
    "version": 3
   },
   "file_extension": ".py",
   "mimetype": "text/x-python",
   "name": "python",
   "nbconvert_exporter": "python",
   "pygments_lexer": "ipython3",
   "version": "3.13.2"
  }
 },
 "nbformat": 4,
 "nbformat_minor": 5
}
