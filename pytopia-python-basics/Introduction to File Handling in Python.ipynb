{
 "cells": [
  {
   "cell_type": "code",
   "execution_count": 50,
   "id": "b960f380",
   "metadata": {},
   "outputs": [],
   "source": [
    "# 🔸 Pytopis File Handling Practice\n",
    "# This function was written as part of the first hands-on exercise\n",
    "# for learning basic file operations in Python: reading, writing, and appending.\n",
    "# It includes mode selection, type hints, reStruturedText-style docstring."
   ]
  },
  {
   "cell_type": "code",
   "execution_count": 51,
   "id": "937544e6",
   "metadata": {},
   "outputs": [
    {
     "name": "stdout",
     "output_type": "stream",
     "text": [
      "Hello, World!\n",
      "This is a sample text file.\n",
      "\n",
      "Appended via block.\n",
      "Appended via block.\n",
      "Appended via block.\n"
     ]
    }
   ],
   "source": [
    "file_txt = open(\"/mnt/e/python-basics/my-python-journey/pytopia-python-basics/example.txt\", \"r\")\n",
    "content = file_txt.read()\n",
    "print(content)"
   ]
  },
  {
   "cell_type": "code",
   "execution_count": 52,
   "id": "2cd99c7a",
   "metadata": {},
   "outputs": [
    {
     "name": "stdout",
     "output_type": "stream",
     "text": [
      "Hello, World!\n",
      "This is a sample text file.\n",
      "\n",
      "Appended via block.\n",
      "Appended via block.\n",
      "Appended via block.\n"
     ]
    }
   ],
   "source": [
    "file_txt = open(\"example.txt\", \"r\")\n",
    "content = file_txt.read()\n",
    "print(content)"
   ]
  },
  {
   "cell_type": "code",
   "execution_count": 53,
   "id": "2df7ba77",
   "metadata": {},
   "outputs": [
    {
     "name": "stdout",
     "output_type": "stream",
     "text": [
      "\n",
      "Just a test bruh!\n",
      "\n",
      "OMG! Write mode deleted everything that was here before!\n"
     ]
    }
   ],
   "source": [
    "output_txt = open(\"output.txt\", \"r\")\n",
    "otpt_content = output_txt.read()\n",
    "print(otpt_content)"
   ]
  },
  {
   "cell_type": "code",
   "execution_count": 54,
   "id": "2e211a74",
   "metadata": {},
   "outputs": [
    {
     "name": "stdout",
     "output_type": "stream",
     "text": [
      "\n",
      "Just a test bruh!\n",
      "\n",
      "OMG! Write mode deleted everything that was here before!\n"
     ]
    }
   ],
   "source": [
    "output_txt = open(\"/mnt/e/python-basics/my-python-journey/pytopia-python-basics/output.txt\", \"r\")\n",
    "content_2 = output_txt.read()\n",
    "print(content_2)"
   ]
  },
  {
   "cell_type": "code",
   "execution_count": 55,
   "id": "85f0ee7e",
   "metadata": {},
   "outputs": [],
   "source": [
    "output_txt = open(\"output.txt\", \"a\")\n",
    "output_txt.write(\"\\nThis is a new line added in append mode.\")\n",
    "output_txt.close()\n"
   ]
  },
  {
   "cell_type": "code",
   "execution_count": 56,
   "id": "13c8d26b",
   "metadata": {},
   "outputs": [
    {
     "name": "stdout",
     "output_type": "stream",
     "text": [
      "\n",
      "Just a test bruh!\n",
      "\n",
      "OMG! Write mode deleted everything that was here before!\n",
      "This is a new line added in append mode.\n"
     ]
    }
   ],
   "source": [
    "output_txt = open(\"output.txt\", \"r\")\n",
    "output_append = output_txt.read()\n",
    "print(output_append)\n"
   ]
  },
  {
   "cell_type": "code",
   "execution_count": 57,
   "id": "fc808df1",
   "metadata": {},
   "outputs": [
    {
     "name": "stdout",
     "output_type": "stream",
     "text": [
      "\n",
      "Just a test bruh!\n",
      "\n",
      "OMG! Write mode deleted everything that was here before!\n",
      "This is a new line added in append mode.\n",
      "Hello, World!\n",
      "This is a sample text file.\n",
      "\n",
      "Appended via block.\n",
      "Appended via block.\n",
      "Appended via block.\n"
     ]
    }
   ],
   "source": [
    "with open(\"output.txt\", \"r\") as file:\n",
    "    output = file.read()\n",
    "print(output)\n",
    "\n",
    "with open(\"example.txt\", \"r\") as f:\n",
    "    ex_content = f.read()\n",
    "print(ex_content)\n",
    "\n",
    "with open(\"example.txt\", \"a\") as file:\n",
    "    file.write(\"\\nAppended via block.\")"
   ]
  },
  {
   "cell_type": "code",
   "execution_count": 58,
   "id": "5bef4357",
   "metadata": {},
   "outputs": [],
   "source": [
    "def file_opener(name: str, mode: str, text: str = \"\") -> str:\n",
    "\n",
    "    \"\"\"\n",
    "    open file and perform an operation based on the mode.\n",
    "\n",
    "    :param name: The name or path of the file to open\n",
    "    :type name: str\n",
    "    :param mode: The mode to open the file in. Valid values 'r', 'w', or 'a'.\n",
    "    :type mode: str\n",
    "    :param text: The text to write or append to the file. only user in 'w' or 'a' mode.\n",
    "    :type text: str\n",
    "    :returns: None\n",
    "    :rtype: None\n",
    "    \"\"\"\n",
    "    with open (name, mode) as f:\n",
    "        if mode == \"r\":\n",
    "            content = f.read()\n",
    "            print(content)\n",
    "        elif mode in (\"w\", \"a\"):\n",
    "            f.write(text)\n",
    "      \n",
    "\n"
   ]
  },
  {
   "cell_type": "code",
   "execution_count": 59,
   "id": "cde2afc7",
   "metadata": {},
   "outputs": [
    {
     "name": "stdout",
     "output_type": "stream",
     "text": [
      "Hello, World!\n",
      "This is a sample text file.\n",
      "\n",
      "Appended via block.\n",
      "Appended via block.\n",
      "Appended via block.\n",
      "Appended via block.\n"
     ]
    }
   ],
   "source": [
    "# TEST\n",
    "file_opener(\"example.txt\", \"r\")\n",
    "file_opener(\"output.txt\", \"w\", \"\\nJust a test bruh!\")"
   ]
  },
  {
   "cell_type": "code",
   "execution_count": 60,
   "id": "43bc9308",
   "metadata": {},
   "outputs": [
    {
     "name": "stdout",
     "output_type": "stream",
     "text": [
      "\n",
      "Just a test bruh!\n"
     ]
    }
   ],
   "source": [
    "file_opener(\"output.txt\", \"r\")"
   ]
  },
  {
   "cell_type": "code",
   "execution_count": 61,
   "id": "f8dd474a",
   "metadata": {},
   "outputs": [
    {
     "name": "stdout",
     "output_type": "stream",
     "text": [
      "\n",
      "Just a test bruh!\n",
      "OMG! Write mode deleted everything that was here before!\n"
     ]
    }
   ],
   "source": [
    "file_opener(\"output.txt\", \"a\", \"\\nOMG! Write mode deleted everything that was here before!\")\n",
    "file_opener(\"output.txt\", \"r\")"
   ]
  },
  {
   "cell_type": "code",
   "execution_count": 62,
   "id": "f14380b2",
   "metadata": {},
   "outputs": [],
   "source": [
    "def file_opener(name: str, mode: str, text: str = \"\") -> str:\n",
    "    \"\"\"\n",
    "    open file and perform an operation based on the mode.\n",
    "\n",
    "    :param name: The name or path of the file to open\n",
    "    :type name: str\n",
    "    :param mode: The mode to open the file in. Valid values 'r', 'w', or 'a'.\n",
    "    :type mode: str\n",
    "    :param text: The text to write or append to the file. only user in 'w' or 'a' mode.\n",
    "    :type text: str\n",
    "    :returns: None\n",
    "    :rtype: None\n",
    "    \"\"\"\n",
    "    with open(name, mode) as f:\n",
    "        if mode == \"r\":\n",
    "            content = f.read()\n",
    "            print(content)\n",
    "        elif mode in (\"w\", \"a\"):\n",
    "            f.write(text)\n",
    "            # 💀 Lesson learned: 'w' stands for \"Wipe it all out!\"\n",
    "            # This warning saved my precious data from vanishing again.\n",
    "            print(f\"Content {'OVERWRITTEN 😱' if mode == 'w' else 'appended ✅'} successfully.\")\n"
   ]
  }
 ],
 "metadata": {
  "kernelspec": {
   "display_name": "envone",
   "language": "python",
   "name": "python3"
  },
  "language_info": {
   "codemirror_mode": {
    "name": "ipython",
    "version": 3
   },
   "file_extension": ".py",
   "mimetype": "text/x-python",
   "name": "python",
   "nbconvert_exporter": "python",
   "pygments_lexer": "ipython3",
   "version": "3.13.2"
  }
 },
 "nbformat": 4,
 "nbformat_minor": 5
}
