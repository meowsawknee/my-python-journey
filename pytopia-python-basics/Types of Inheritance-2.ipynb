{
 "cells": [
  {
   "cell_type": "code",
   "execution_count": 65,
   "id": "432618e6",
   "metadata": {},
   "outputs": [],
   "source": [
    "# Smart Access System\n",
    "# A simple system for managing entry and access to work environments\n",
    "# Built for deeply understanding the topic of inheritance\n",
    "# Just a training project, no logic or database involved"
   ]
  },
  {
   "cell_type": "code",
   "execution_count": 66,
   "id": "8795e85f",
   "metadata": {},
   "outputs": [],
   "source": [
    "# Part 1\n",
    "# Single Inheritence \n",
    "# Foundation for all access levels\n",
    "\n",
    "class Person:\n",
    "    def __init__(self, name, age, national_id):\n",
    "        self.name = name\n",
    "        self.age = age\n",
    "        self.national_id = national_id\n",
    "\n",
    "    def introduce(self):\n",
    "        return f\"Name: {self.name}, Age: {self.age}, National ID: {self.national_id}\"\n",
    "\n",
    "class AccessUser(Person):\n",
    "    def __init__(self, name, age, national_id, access_level):\n",
    "        super().__init__(name, age, national_id)\n",
    "        self.access_level = access_level\n",
    "\n",
    "    def describe_access(self):\n",
    "        person_info = self.introduce() # simpler than super().introduce(); same result here\n",
    "        return f\"{person_info} - Access Level: {self.access_level}\""
   ]
  },
  {
   "cell_type": "code",
   "execution_count": 67,
   "id": "9a32aa65",
   "metadata": {},
   "outputs": [],
   "source": [
    "# Part 2\n",
    "# Multilevel Inheritance\n",
    "\n",
    "class Employee(AccessUser):\n",
    "    def __init__(self, name, age, national_id, access_level, employee_id):\n",
    "        super().__init__(name, age, national_id, access_level)\n",
    "        self.employee_id = employee_id\n",
    "    \n",
    "    def describe_access(self):\n",
    "        access_user_info = super().describe_access()\n",
    "        return f\"{access_user_info} - Employee ID: {self.employee_id}\"\n",
    "    \n",
    "class Manager(Employee):\n",
    "    def __init__(self, name, age, national_id, access_level, employee_id, department):\n",
    "        super().__init__(name, age, national_id, access_level, employee_id)\n",
    "        self.department = department\n",
    "    \n",
    "    def describe_access(self):\n",
    "        manager_access_info = super().describe_access()\n",
    "        return F\"{manager_access_info} - Department: {self.department}\""
   ]
  },
  {
   "cell_type": "code",
   "execution_count": 68,
   "id": "76a31ba4",
   "metadata": {},
   "outputs": [],
   "source": [
    "# Part 3\n",
    "# Hierarchical Inheritance\n",
    "\n",
    "class Guest(AccessUser):\n",
    "    def __init__(self, name, age, national_id, access_level, visit_reason):\n",
    "        super().__init__(name, age, national_id, access_level)\n",
    "        self.visit_reason = visit_reason\n",
    "\n",
    "    def describe_access(self):\n",
    "        guest_info = super().describe_access()\n",
    "        return f\"{guest_info} - Guest Access | Reason for Visit: {self.visit_reason}\"\n",
    "\n",
    "class Technician(AccessUser):\n",
    "    def __init__(self, name, age, national_id, access_level, assigned_area):\n",
    "        super().__init__(name, age, national_id, access_level)\n",
    "        self.assigned_area = assigned_area\n",
    "    \n",
    "    def describe_access(self):\n",
    "        technician_info = super().describe_access()\n",
    "        return f\"{technician_info} - Technician Access | Assigned Area: {self.assigned_area}\""
   ]
  },
  {
   "cell_type": "code",
   "execution_count": 69,
   "id": "70524178",
   "metadata": {},
   "outputs": [],
   "source": [
    "# Part 4\n",
    "# Multiple Inheritance\n",
    "# This is the one I thought might be risky\n",
    "\n",
    "class CameraAccess:\n",
    "    def __init__(self):\n",
    "        pass\n",
    "    def camera_view(self):\n",
    "        return \"Access granted: Viewing security camera feed.\"\n",
    "\n",
    "class EmergencyAccess:\n",
    "    def __init__(self):\n",
    "        pass\n",
    "    def trigger_alarm(self):\n",
    "        return \"Emergency protocol activated: Alarm has been triggered!\"\n",
    "\n",
    "class SecurityOfficer(Employee, CameraAccess, EmergencyAccess):\n",
    "    def __init__(self, name, age, national_id, access_level, employee_id, shift_time):\n",
    "        super().__init__(name, age, national_id, access_level, employee_id)\n",
    "        self.shift_time = shift_time\n",
    "    \n",
    "    def describe_access(self):\n",
    "        sec_officer_info = super().describe_access()\n",
    "        return f\"{sec_officer_info} - Role: Security Officer | Shift: {self.shift_time}\""
   ]
  },
  {
   "cell_type": "code",
   "execution_count": 70,
   "id": "0521a23d",
   "metadata": {},
   "outputs": [],
   "source": [
    "# Part 5\n",
    "# Hybrid Inheritance\n",
    "\n",
    "class AdminAssistant(Employee, EmergencyAccess):\n",
    "    def __init__(self, name, age, national_id, access_level, employee_id, admin_level):\n",
    "        super().__init__(name, age, national_id, access_level, employee_id)\n",
    "        self.admin_level = admin_level\n",
    "    \n",
    "    def describe_access(self):\n",
    "        base_info = super().describe_access()\n",
    "        emergency_info = self.trigger_alarm()\n",
    "        return f\"{base_info} - Admin Assistant | Level: {self.admin_level} | {emergency_info}\""
   ]
  },
  {
   "cell_type": "code",
   "execution_count": 71,
   "id": "62ab5458",
   "metadata": {},
   "outputs": [],
   "source": [
    "# Final Test - Character Creation and Role Behavior Check\n",
    "\n",
    "# Guest\n",
    "guest = Guest(\"Alice\", 29, \"G-64267\", \"Low\", \"Business Meeting\")\n",
    "\n",
    "# Technician\n",
    "technician = Technician(\"Tom\", 35, \"T-875\", \"Medium\", \"Server Room\")\n",
    "\n",
    "# Employee\n",
    "employee = Employee(\"Jade\", 32, \"E-324\", \"Medium\", \"EMP-089\")\n",
    "\n",
    "# Maneger\n",
    "maneger = Manager(\"Sarah\", 40, \"M-06\", \"High\", \"EMP-534\", \"IT Department\")\n",
    "\n",
    "# Security Officer\n",
    "security = SecurityOfficer(\"Mark\", 38, \"S-6462\", \"High\", \"EMP-34\", \"A2\")\n",
    "\n",
    "# Admin Assistant\n",
    "admin = AdminAssistant(\"Lena\", 30, \"A-00003\", \"Medium\", \"EMP-879\", \"A2\")\n"
   ]
  },
  {
   "cell_type": "code",
   "execution_count": 72,
   "id": "f8d3c1db",
   "metadata": {},
   "outputs": [
    {
     "name": "stdout",
     "output_type": "stream",
     "text": [
      "Name: Alice, Age: 29, National ID: G-64267 - Access Level: Low - Guest Access | Reason for Visit: Business Meeting\n",
      "Name: Tom, Age: 35, National ID: T-875 - Access Level: Medium - Technician Access | Assigned Area: Server Room\n",
      "Name: Jade, Age: 32, National ID: E-324 - Access Level: Medium - Employee ID: EMP-089\n",
      "Name: Sarah, Age: 40, National ID: M-06 - Access Level: High - Employee ID: EMP-534 - Department: IT Department\n",
      "Name: Mark, Age: 38, National ID: S-6462 - Access Level: High - Employee ID: EMP-34 - Role: Security Officer | Shift: A2\n",
      "Name: Lena, Age: 30, National ID: A-00003 - Access Level: Medium - Employee ID: EMP-879 - Admin Assistant | Level: A2 | Emergency protocol activated: Alarm has been triggered!\n",
      "Access granted: Viewing security camera feed.\n",
      "Emergency protocol activated: Alarm has been triggered!\n",
      "Emergency protocol activated: Alarm has been triggered!\n"
     ]
    }
   ],
   "source": [
    "# Outputs \n",
    "print(guest.describe_access())\n",
    "print(technician.describe_access())\n",
    "print(employee.describe_access())\n",
    "print(maneger.describe_access())\n",
    "print(security.describe_access())\n",
    "print(admin.describe_access())\n",
    "\n",
    "# Extra behavior from multiple inheritance\n",
    "print(security.camera_view())\n",
    "print(security.trigger_alarm())\n",
    "print(admin.trigger_alarm())"
   ]
  }
 ],
 "metadata": {
  "kernelspec": {
   "display_name": "envone",
   "language": "python",
   "name": "python3"
  },
  "language_info": {
   "codemirror_mode": {
    "name": "ipython",
    "version": 3
   },
   "file_extension": ".py",
   "mimetype": "text/x-python",
   "name": "python",
   "nbconvert_exporter": "python",
   "pygments_lexer": "ipython3",
   "version": "3.13.2"
  }
 },
 "nbformat": 4,
 "nbformat_minor": 5
}
