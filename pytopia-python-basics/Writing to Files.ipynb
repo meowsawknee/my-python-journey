{
 "cells": [
  {
   "cell_type": "code",
   "execution_count": 57,
   "id": "87b8a33c",
   "metadata": {},
   "outputs": [],
   "source": [
    "# Simple Note Manager 📝\n",
    "\n",
    "# A basic note-taking system using python file handling. \n",
    "# Features include:\n",
    "# - Creating and appending notes\n",
    "# - Saving multiple notes\n",
    "# - Generating a summary report\n",
    "# - Logging actions with timestamps\n",
    "\n",
    "# Part of the 'Writing to Files' lesson. Final step before OOP."
   ]
  },
  {
   "cell_type": "code",
   "execution_count": 58,
   "id": "bda0fee1",
   "metadata": {},
   "outputs": [],
   "source": [
    "def create_note(filename: str, note: str) -> str:\n",
    "    \"\"\"\n",
    "    Create a new note and save it to a file (overwrite mode).\n",
    "\n",
    "    :param filename: Name of the file to save the note in\n",
    "    :param note: The note content to write\n",
    "    :return: A short confirmation message\n",
    "    \"\"\"\n",
    "    with open(filename, \"w\") as file:\n",
    "        file.write(note + \"\\n\")\n",
    "    return f\"Note created: '{note[:15]}...'\""
   ]
  },
  {
   "cell_type": "code",
   "execution_count": 59,
   "id": "a400a2a4",
   "metadata": {},
   "outputs": [
    {
     "name": "stdout",
     "output_type": "stream",
     "text": [
      "Note created: 'Meeting at 10am...'\n"
     ]
    }
   ],
   "source": [
    "print(create_note(\"my_note.txt\", \"Meeting at 10am with design team.\"))"
   ]
  },
  {
   "cell_type": "code",
   "execution_count": 60,
   "id": "2d0599f2",
   "metadata": {},
   "outputs": [],
   "source": [
    "def add_to_note(filename: str, note: str) -> str:\n",
    "    \"\"\"\n",
    "    Append a new note to an existing file (append mode).\n",
    "\n",
    "    :param filename: Name of the file to add the note to\n",
    "    :param note: The note content to append\n",
    "    :return: A short confirmation message\n",
    "    \"\"\"\n",
    "    with open(filename, \"a\") as file:\n",
    "        file.write(note + \"\\n\")\n",
    "        return f\"Note appended: {note[:15]}...\""
   ]
  },
  {
   "cell_type": "code",
   "execution_count": 61,
   "id": "7e122714",
   "metadata": {},
   "outputs": [
    {
     "name": "stdout",
     "output_type": "stream",
     "text": [
      "Note appended: Buy groceries a...\n"
     ]
    }
   ],
   "source": [
    "print(add_to_note(\"my_note.txt\", \"Buy groceries after work.\"))"
   ]
  },
  {
   "cell_type": "code",
   "execution_count": 62,
   "id": "74793427",
   "metadata": {},
   "outputs": [],
   "source": [
    "def save_notes(filename: str, notes: list) -> list:\n",
    "    \"\"\"\n",
    "    Save multiple notes to a file (overwrite mode).\n",
    "\n",
    "    :param filename: Name of the file to save the notes in\n",
    "    :param notes: A list of note strings to write\n",
    "    :return: A short confirmation message with a preview of the notes\n",
    "    \"\"\"\n",
    "    with open(filename, \"w\") as file:\n",
    "        file.writelines([note + \"\\n\" for note in notes])\n",
    "\n",
    "    return f\"Notes saved: {[note[:15] + '...' for note in notes]}\""
   ]
  },
  {
   "cell_type": "code",
   "execution_count": 63,
   "id": "1d36afb0",
   "metadata": {},
   "outputs": [
    {
     "data": {
      "text/plain": [
       "\"Notes saved: ['Meeting at 10am...', 'Buy groceries...', 'Call Alice abou...']\""
      ]
     },
     "execution_count": 63,
     "metadata": {},
     "output_type": "execute_result"
    }
   ],
   "source": [
    "save_notes(\"my_note.txt\", [\"Meeting at 10am\", \"Buy groceries\", \"Call Alice about the trip\"])"
   ]
  },
  {
   "cell_type": "code",
   "execution_count": 64,
   "id": "c091e468",
   "metadata": {},
   "outputs": [],
   "source": [
    "def generate_report(note_filename: str, report_filename: str) -> str:\n",
    "    \"\"\"\n",
    "    Generate a summary report from a note file.\n",
    "\n",
    "    :param note_filename: The file containing saved notes\n",
    "    :param report_filename: The file where the report will be written\n",
    "    :return: A confirmation message\n",
    "    \"\"\"\n",
    "    # Read all notes from the source file\n",
    "    with open(note_filename, \"r\") as note_file:\n",
    "        notes = note_file.readlines() \n",
    "    \n",
    "    # Write the report to the destination file\n",
    "    with open(report_filename, \"w\") as report_file:\n",
    "        report_file.write(f\"Number of notes: {len(notes)}\\n\")\n",
    "        report_file.write(\"Summary of Notes:\\n\") \n",
    "        for note in notes:\n",
    "            report_file.write(note[:15] + \"...\\n\")\n",
    "\n",
    "    return f\"Report generated: '{report_filename}'\"\n",
    "    "
   ]
  },
  {
   "cell_type": "code",
   "execution_count": 65,
   "id": "4aee27c9",
   "metadata": {},
   "outputs": [
    {
     "name": "stdout",
     "output_type": "stream",
     "text": [
      "Report generated: 'notes_report.txt'\n"
     ]
    }
   ],
   "source": [
    "print(generate_report(\"my_note.txt\", \"notes_report.txt\"))"
   ]
  },
  {
   "cell_type": "code",
   "execution_count": 66,
   "id": "665fae1e",
   "metadata": {},
   "outputs": [],
   "source": [
    "import datetime\n",
    "\n",
    "def log_action(message: str) -> None:\n",
    "    \"\"\"\n",
    "    Log a message with a timestamp to 'notes_log.txt'.\n",
    "\n",
    "    :param message: The message to log\n",
    "    :return: None\n",
    "\n",
    "    \"\"\"\n",
    "    timestamp = datetime.datetime.now().strftime(\"%Y-%m-%d %H:%M:%S\")\n",
    "    log_entry = f\"{timestamp} - {message}\\n\"\n",
    "    \n",
    "    with open(\"notes_log.txt\", \"a\") as file:\n",
    "        file.write(log_entry)"
   ]
  },
  {
   "cell_type": "code",
   "execution_count": 67,
   "id": "c663a7b5",
   "metadata": {},
   "outputs": [],
   "source": [
    "log_action(\"Test message for logging\")"
   ]
  },
  {
   "cell_type": "code",
   "execution_count": 68,
   "id": "f4ac5d2a",
   "metadata": {},
   "outputs": [
    {
     "name": "stdout",
     "output_type": "stream",
     "text": [
      "Note created: 'Meeting at 10am...'\n",
      "Note appended: 'Buy groceries a...'\n",
      "Notes saved: ['Meeting at 10am...', 'Buy groceries...', 'Call alice abou...']\n",
      "Report generated: 'notes_report.txt'\n"
     ]
    }
   ],
   "source": [
    "\n",
    "import datetime\n",
    "\n",
    "def log_action(message: str) -> None:\n",
    "    \"\"\"\n",
    "    Log a message with a timestamp to 'notes_log.txt'.\n",
    "\n",
    "    :param message: The message to log\n",
    "    :return: None\n",
    "\n",
    "    \"\"\"\n",
    "    timestamp = datetime.datetime.now().strftime(\"%Y-%m-%d %H:%M:%S\")\n",
    "    with open(\"notes_log.txt\", \"a\") as file:\n",
    "        file.write(f\"{timestamp} - {message}\\n\")\n",
    "\n",
    "def create_note(filename: str, note: str) -> str:\n",
    "    \"\"\"\n",
    "    Create a new note and save it to a file (overwrite mode).\n",
    "\n",
    "    :param filename: Name of the file to save the note in\n",
    "    :param note: The note content to write\n",
    "    :return: A short confirmation message\n",
    "    \"\"\"\n",
    "    with open(filename, \"w\") as file:\n",
    "        file.write(note + \"\\n\")\n",
    "    log_action(f\"Note created: '{note[:15]}...'\")\n",
    "    return f\"Note created: '{note[:15]}...'\"\n",
    "\n",
    "def add_to_note(filename: str, note: str) -> str:\n",
    "    \"\"\"\n",
    "    Append a new note to an existing file (append mode).\n",
    "\n",
    "    :param filename: Name of the file to add the note to\n",
    "    :param note: The note content to append\n",
    "    :return: A short confirmation message\n",
    "    \"\"\"\n",
    "    with open(filename, \"a\") as file:\n",
    "        file.write(note + \"\\n\")\n",
    "        log_action(f\"Note appended: '{note[:15]}...'\")\n",
    "        return f\"Note appended: '{note[:15]}...'\"\n",
    "    \n",
    "def save_notes(filename: str, notes: list) -> str:\n",
    "    \"\"\"\n",
    "    Save multiple notes to a file (overwrite mode).\n",
    "\n",
    "    :param filename: Name of the file to save the notes in\n",
    "    :param notes: A list of note strings to write\n",
    "    :return: A short confirmation message with a preview of the notes\n",
    "    \"\"\"\n",
    "    with open(filename, \"w\") as file:\n",
    "        file.writelines([note + \"\\n\" for note in notes])\n",
    "    log_action(f\"Notes saved: {[note[:15] + '...' for note in notes]}\")\n",
    "    return f\"Notes saved: {[note[:15] + '...' for note in notes]}\"\n",
    "\n",
    "def generate_report(note_filename: str, report_filename: str) -> str:\n",
    "    \"\"\"\n",
    "    Generate a summary report from a note file.\n",
    "\n",
    "    :param note_filename: The file containing saved notes\n",
    "    :param report_filename: The file where the report will be written\n",
    "    :return: A confirmation message\n",
    "    \"\"\"\n",
    "    with open(note_filename, \"r\") as note_file:\n",
    "        notes = note_file.readlines() \n",
    "    \n",
    "    with open(report_filename, \"w\") as report_file: \n",
    "        report_file.write(f\"Number of notes: {len(notes)}\\n\") \n",
    "        report_file.write(\"Summary of Notes:\\n\") \n",
    "        for note in notes:\n",
    "            report_file.write(note[:15] + \"...\\n\")\n",
    "    log_action(f\"Report generated: '{report_filename}'\")\n",
    "    return f\"Report generated: '{report_filename}'\" \n",
    "\n",
    "# ----------------- TESTS -----------------\n",
    "\n",
    "print(create_note(\"my_note.txt\", \"Meeting at 10am with design team.\"))\n",
    "print(add_to_note(\"my_note.txt\", \"Buy groceries after work.\"))\n",
    "print(save_notes(\"my_note.txt\", [\n",
    "    \"Meeting at 10am\",\n",
    "    \"Buy groceries\",\n",
    "    \"Call alice about the trip\"\n",
    "]))\n",
    "print(generate_report(\"my_note.txt\", \"notes_report.txt\"))\n",
    "log_action(\"Test message for logging\")\n",
    "    \n",
    "    \n"
   ]
  }
 ],
 "metadata": {
  "kernelspec": {
   "display_name": "envone",
   "language": "python",
   "name": "python3"
  },
  "language_info": {
   "codemirror_mode": {
    "name": "ipython",
    "version": 3
   },
   "file_extension": ".py",
   "mimetype": "text/x-python",
   "name": "python",
   "nbconvert_exporter": "python",
   "pygments_lexer": "ipython3",
   "version": "3.13.2"
  }
 },
 "nbformat": 4,
 "nbformat_minor": 5
}
