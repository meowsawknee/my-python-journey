{
 "cells": [
  {
   "cell_type": "code",
   "execution_count": 32,
   "id": "d6527049",
   "metadata": {},
   "outputs": [],
   "source": [
    "# my first attempt\n",
    "def positive_sum(arr):\n",
    "    sum_1 = 0\n",
    "    for i in arr:\n",
    "        if i > 0:\n",
    "            sum_1 += i\n",
    "    return sum_1"
   ]
  },
  {
   "cell_type": "code",
   "execution_count": 50,
   "id": "d8844561",
   "metadata": {},
   "outputs": [
    {
     "data": {
      "text/plain": [
       "10"
      ]
     },
     "execution_count": 50,
     "metadata": {},
     "output_type": "execute_result"
    }
   ],
   "source": [
    "def positive_sum(arr):\n",
    "    return sum(i for i in arr if i > 0)\n",
    "\n",
    "positive_sum([1,2,3,4,6,5,6,6,7,8])\n",
    "positive_sum([-1, -2, 3, 2, 5, 0, 0])"
   ]
  },
  {
   "cell_type": "code",
   "execution_count": 31,
   "id": "b74fec6f",
   "metadata": {},
   "outputs": [],
   "source": [
    "def find_average(numbers):\n",
    "\n",
    "    if not numbers:\n",
    "        return 0\n",
    "    \n",
    "    sum_numbers = 0\n",
    "    for i in numbers:\n",
    "        sum_numbers += i\n",
    "\n",
    "    average = sum_numbers / len(numbers) \n",
    "    return average"
   ]
  },
  {
   "cell_type": "code",
   "execution_count": 55,
   "id": "5e57ffb2",
   "metadata": {},
   "outputs": [
    {
     "data": {
      "text/plain": [
       "0"
      ]
     },
     "execution_count": 55,
     "metadata": {},
     "output_type": "execute_result"
    }
   ],
   "source": [
    "def find_average(numbers):\n",
    "    return sum(numbers) / len(numbers) if numbers else 0\n",
    "\n",
    "find_average([3,5,0])\n",
    "find_average([2, 2, 5, 11])\n",
    "find_average([])"
   ]
  }
 ],
 "metadata": {
  "kernelspec": {
   "display_name": "envone",
   "language": "python",
   "name": "python3"
  },
  "language_info": {
   "codemirror_mode": {
    "name": "ipython",
    "version": 3
   },
   "file_extension": ".py",
   "mimetype": "text/x-python",
   "name": "python",
   "nbconvert_exporter": "python",
   "pygments_lexer": "ipython3",
   "version": "3.13.2"
  }
 },
 "nbformat": 4,
 "nbformat_minor": 5
}
