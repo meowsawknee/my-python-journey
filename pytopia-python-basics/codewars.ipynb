{
 "cells": [
  {
   "cell_type": "code",
   "execution_count": 8,
   "id": "9e4e9279",
   "metadata": {},
   "outputs": [],
   "source": [
    "def rot13(message):\n",
    "    result = \"\"  # output string\n",
    "    for char in message:  # go through each character\n",
    "        if \"a\" <= char <= \"z\":  # if it's lowercase letter\n",
    "            base = ord(\"a\")  # starting point for lowercase\n",
    "            rotated = (ord(char) - base + 13) % 26 + base  # shift 13 and wrap around\n",
    "            result += chr(rotated)  # convert back to letter\n",
    "        elif \"A\" <= char <= \"Z\":  # if it's uppercase letter\n",
    "            base = ord(\"A\")\n",
    "            rotated = (ord(char) - base + 13) % 26 + base\n",
    "            result += chr(rotated)\n",
    "        else:\n",
    "            result += char  # keep it as-is if not a letter\n",
    "    return result\n"
   ]
  },
  {
   "cell_type": "code",
   "execution_count": 10,
   "id": "e1fa2d45",
   "metadata": {},
   "outputs": [
    {
     "data": {
      "text/plain": [
       "'Xve gbb anzbbfr nlngbyynu Xunzrarv!'"
      ]
     },
     "execution_count": 10,
     "metadata": {},
     "output_type": "execute_result"
    }
   ],
   "source": [
    "rot13(\"Kir too namoose ayatollah Khamenei!\")"
   ]
  },
  {
   "cell_type": "code",
   "execution_count": 11,
   "id": "1f53e54d",
   "metadata": {},
   "outputs": [
    {
     "data": {
      "text/plain": [
       "'Ubffrva Zruenov!'"
      ]
     },
     "execution_count": 11,
     "metadata": {},
     "output_type": "execute_result"
    }
   ],
   "source": [
    "rot13(\"Hossein Mehrabi!\")"
   ]
  }
 ],
 "metadata": {
  "kernelspec": {
   "display_name": "envone",
   "language": "python",
   "name": "python3"
  },
  "language_info": {
   "codemirror_mode": {
    "name": "ipython",
    "version": 3
   },
   "file_extension": ".py",
   "mimetype": "text/x-python",
   "name": "python",
   "nbconvert_exporter": "python",
   "pygments_lexer": "ipython3",
   "version": "3.13.2"
  }
 },
 "nbformat": 4,
 "nbformat_minor": 5
}
