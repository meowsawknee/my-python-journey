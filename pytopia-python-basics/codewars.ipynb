{
 "cells": [
  {
   "cell_type": "code",
   "execution_count": 1,
   "id": "9e4e9279",
   "metadata": {},
   "outputs": [],
   "source": [
    "def rot13(message):\n",
    "    result = \"\"  # output string\n",
    "    for char in message:  # go through each character\n",
    "        if \"a\" <= char <= \"z\":  # if it's lowercase letter\n",
    "            base = ord(\"a\")  # starting point for lowercase\n",
    "            rotated = (ord(char) - base + 13) % 26 + base  # shift 13 and wrap around\n",
    "            result += chr(rotated)  # convert back to letter\n",
    "        elif \"A\" <= char <= \"Z\":  # if it's uppercase letter\n",
    "            base = ord(\"A\")\n",
    "            rotated = (ord(char) - base + 13) % 26 + base\n",
    "            result += chr(rotated)\n",
    "        else:\n",
    "            result += char  # keep it as-is if not a letter\n",
    "    return result\n"
   ]
  },
  {
   "cell_type": "code",
   "execution_count": 13,
   "id": "e1fa2d45",
   "metadata": {},
   "outputs": [
    {
     "data": {
      "text/plain": [
       "'Zrbjfnjxarr va ZRBJFNJXAGBJA! nyy qnl rirelqnl!'"
      ]
     },
     "execution_count": 13,
     "metadata": {},
     "output_type": "execute_result"
    }
   ],
   "source": [
    "rot13(\"Meowsawknee in MEOWSAWKNTOWN! all day everyday!\")"
   ]
  },
  {
   "cell_type": "code",
   "execution_count": 14,
   "id": "1f53e54d",
   "metadata": {},
   "outputs": [
    {
     "data": {
      "text/plain": [
       "'Ubffrva Zruenov!'"
      ]
     },
     "execution_count": 14,
     "metadata": {},
     "output_type": "execute_result"
    }
   ],
   "source": [
    "rot13(\"Hossein Mehrabi!\")"
   ]
  },
  {
   "cell_type": "code",
   "execution_count": 15,
   "id": "1d04a095",
   "metadata": {},
   "outputs": [],
   "source": [
    "def score(dice):\n",
    "    # count how many of each dice value (1-6)\n",
    "    # For each number:\n",
    "    # - if there are 3 or more, add the triplet score\n",
    "    # - for extra 1's or 5's, add single scores.\n",
    "    # return total score\n",
    "    score = 0\n",
    "    counts = {}\n",
    "    \n",
    "    # count how many of each number\n",
    "    for num in dice:\n",
    "        if num in counts:\n",
    "            counts[num] += 1\n",
    "        else:\n",
    "            counts[num] = 1\n",
    "            \n",
    "    # calculate score\n",
    "    for num in counts:\n",
    "        count = counts[num]\n",
    "    \n",
    "        # triplets\n",
    "        if count >= 3:\n",
    "            if num == 1:\n",
    "                score += 1000\n",
    "            else:\n",
    "                score += num * 100\n",
    "            count -= 3\n",
    "        \n",
    "        # remaining 1s and 5s\n",
    "        if num == 1:\n",
    "            score += count * 100\n",
    "        elif num == 5:\n",
    "            score += count * 50\n",
    "        \n",
    "    return score"
   ]
  },
  {
   "cell_type": "code",
   "execution_count": 16,
   "id": "cfde47fc",
   "metadata": {},
   "outputs": [
    {
     "data": {
      "text/plain": [
       "1050"
      ]
     },
     "execution_count": 16,
     "metadata": {},
     "output_type": "execute_result"
    }
   ],
   "source": [
    "score([1,1,5,6,1])"
   ]
  },
  {
   "cell_type": "code",
   "execution_count": 17,
   "id": "f69aea58",
   "metadata": {},
   "outputs": [],
   "source": [
    "# 🟢 Difference from manual version:\n",
    "# - Uses Python's built-in Counter to simplify counting\n",
    "# - Less code, more readable\n",
    "# - More Pythonic and faster to write\n",
    "# 🔴 Downside:\n",
    "# - Only works if you know about Counter (which I didn’t at first)\n",
    "# - I should gradually learn these tools and make them part of my toolbox\n"
   ]
  },
  {
   "cell_type": "code",
   "execution_count": 18,
   "id": "9d743c9d",
   "metadata": {},
   "outputs": [],
   "source": [
    "from collections import Counter\n",
    "\n",
    "def score(dice):\n",
    "    score = 0\n",
    "    counts = Counter(dice)\n",
    "    \n",
    "    for num, count in counts.items():\n",
    "        if count >= 3:\n",
    "            score += 1000 if num == 1 else num * 100\n",
    "            count -= 3\n",
    "        \n",
    "        if num == 1:\n",
    "            score += count * 100\n",
    "        elif num == 5:\n",
    "            score += count * 50\n",
    "    return score"
   ]
  },
  {
   "cell_type": "code",
   "execution_count": 19,
   "id": "4cc9d37d",
   "metadata": {},
   "outputs": [
    {
     "data": {
      "text/plain": [
       "1050"
      ]
     },
     "execution_count": 19,
     "metadata": {},
     "output_type": "execute_result"
    }
   ],
   "source": [
    "score([1,1,5,6,1])"
   ]
  }
 ],
 "metadata": {
  "kernelspec": {
   "display_name": "envone",
   "language": "python",
   "name": "python3"
  },
  "language_info": {
   "codemirror_mode": {
    "name": "ipython",
    "version": 3
   },
   "file_extension": ".py",
   "mimetype": "text/x-python",
   "name": "python",
   "nbconvert_exporter": "python",
   "pygments_lexer": "ipython3",
   "version": "3.13.2"
  }
 },
 "nbformat": 4,
 "nbformat_minor": 5
}
