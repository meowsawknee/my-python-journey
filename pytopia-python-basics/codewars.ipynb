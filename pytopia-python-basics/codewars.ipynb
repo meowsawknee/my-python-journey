{
 "cells": [
  {
   "cell_type": "code",
   "execution_count": 32,
   "id": "d6527049",
   "metadata": {},
   "outputs": [],
   "source": [
    "# my first attempt\n",
    "def positive_sum(arr):\n",
    "    sum_1 = 0\n",
    "    for i in arr:\n",
    "        if i > 0:\n",
    "            sum_1 += i\n",
    "    return sum_1"
   ]
  },
  {
   "cell_type": "code",
   "execution_count": 50,
   "id": "d8844561",
   "metadata": {},
   "outputs": [
    {
     "data": {
      "text/plain": [
       "10"
      ]
     },
     "execution_count": 50,
     "metadata": {},
     "output_type": "execute_result"
    }
   ],
   "source": [
    "def positive_sum(arr):\n",
    "    return sum(i for i in arr if i > 0)\n",
    "\n",
    "positive_sum([1,2,3,4,6,5,6,6,7,8])\n",
    "positive_sum([-1, -2, 3, 2, 5, 0, 0])"
   ]
  },
  {
   "cell_type": "code",
   "execution_count": 31,
   "id": "b74fec6f",
   "metadata": {},
   "outputs": [],
   "source": [
    "def find_average(numbers):\n",
    "\n",
    "    if not numbers:\n",
    "        return 0\n",
    "    \n",
    "    sum_numbers = 0\n",
    "    for i in numbers:\n",
    "        sum_numbers += i\n",
    "\n",
    "    average = sum_numbers / len(numbers) \n",
    "    return average"
   ]
  },
  {
   "cell_type": "code",
   "execution_count": 55,
   "id": "5e57ffb2",
   "metadata": {},
   "outputs": [
    {
     "data": {
      "text/plain": [
       "0"
      ]
     },
     "execution_count": 55,
     "metadata": {},
     "output_type": "execute_result"
    }
   ],
   "source": [
    "def find_average(numbers):\n",
    "    return sum(numbers) / len(numbers) if numbers else 0\n",
    "\n",
    "find_average([3,5,0])\n",
    "find_average([2, 2, 5, 11])\n",
    "find_average([])"
   ]
  },
  {
   "cell_type": "code",
   "execution_count": 2,
   "id": "197e906d",
   "metadata": {},
   "outputs": [],
   "source": [
    "def points(games):\n",
    "    x,y = games.split(\":\")\n",
    "    total = 0\n",
    "    for x, y in games:\n",
    "        if x > y:\n",
    "            total += 3\n",
    "        elif x == y:\n",
    "            total += 1\n",
    "        else:\n",
    "            None\n",
    "    return total"
   ]
  },
  {
   "cell_type": "code",
   "execution_count": 6,
   "id": "093b228b",
   "metadata": {},
   "outputs": [],
   "source": [
    "def points(games):\n",
    "    total = 0\n",
    "    for game in games:\n",
    "        x, y = game.split(\":\")\n",
    "        x = int(x)\n",
    "        y = int(y)\n",
    "        if x > y:\n",
    "            total += 3\n",
    "        elif x == y:\n",
    "            total += 1\n",
    "    return total"
   ]
  },
  {
   "cell_type": "code",
   "execution_count": 7,
   "id": "a09c8647",
   "metadata": {},
   "outputs": [
    {
     "data": {
      "text/plain": [
       "4"
      ]
     },
     "execution_count": 7,
     "metadata": {},
     "output_type": "execute_result"
    }
   ],
   "source": [
    "points([\"3:1\", \"2:2\", \"0:1\"])"
   ]
  },
  {
   "cell_type": "code",
   "execution_count": 10,
   "id": "23fb45dc",
   "metadata": {},
   "outputs": [],
   "source": [
    "def get_grade(s1, s2, s3):\n",
    "    average = (s1 + s2 + s3) / 3\n",
    "    if average >= 90:\n",
    "        return \"A\"\n",
    "    elif average >= 80:\n",
    "        return \"B\"\n",
    "    elif average >= 70:\n",
    "        return \"C\"\n",
    "    elif average >= 60:\n",
    "        return \"D\"\n",
    "    else:\n",
    "        return \"F\""
   ]
  },
  {
   "cell_type": "code",
   "execution_count": 3,
   "id": "156c444b",
   "metadata": {},
   "outputs": [],
   "source": [
    "def count_positives_sum_negatives(arr):\n",
    "    if not arr:\n",
    "        return []\n",
    "    positives = [i for i in arr if i > 0]\n",
    "    negatives = [i for i in arr if i < 0]\n",
    "    return [len(positives), sum(negatives)]"
   ]
  },
  {
   "cell_type": "code",
   "execution_count": 6,
   "id": "9dfac707",
   "metadata": {},
   "outputs": [],
   "source": [
    "def string_to_array(s):\n",
    "    return s.split(\" \")"
   ]
  },
  {
   "cell_type": "code",
   "execution_count": 7,
   "id": "19f3bd3a",
   "metadata": {},
   "outputs": [],
   "source": [
    "def remove_char(s):\n",
    "    return s[1:-1]"
   ]
  },
  {
   "cell_type": "code",
   "execution_count": 13,
   "id": "816ab364",
   "metadata": {},
   "outputs": [],
   "source": [
    "def update_light(current):\n",
    "    if current == \"green\":\n",
    "        return \"yellow\"\n",
    "    elif current == \"yellow\":\n",
    "        return \"red\"\n",
    "    elif current == \"red\":\n",
    "        return \"green\""
   ]
  },
  {
   "cell_type": "code",
   "execution_count": 14,
   "id": "f0f90ca3",
   "metadata": {},
   "outputs": [],
   "source": [
    "def update_light(current):\n",
    "    return {\"green\": \"yellow\", \"yellow\": \"red\", \"red\": \"green\"}[current]"
   ]
  },
  {
   "cell_type": "code",
   "execution_count": 21,
   "id": "c5c711f2",
   "metadata": {},
   "outputs": [],
   "source": [
    "def invert(lst):\n",
    "    new_lst = []\n",
    "    for i in lst:\n",
    "        i = -i\n",
    "        new_lst.append(i)\n",
    "    return new_lst"
   ]
  },
  {
   "cell_type": "code",
   "execution_count": 22,
   "id": "a90a4740",
   "metadata": {},
   "outputs": [],
   "source": [
    "def invert(lst):\n",
    "    return [-i for i in lst]"
   ]
  },
  {
   "cell_type": "code",
   "execution_count": 25,
   "id": "0cb90f39",
   "metadata": {},
   "outputs": [],
   "source": [
    "def other_angle(a, b):\n",
    "    c = 180 - (a + b)\n",
    "    return c "
   ]
  },
  {
   "cell_type": "code",
   "execution_count": 26,
   "id": "07543b1a",
   "metadata": {},
   "outputs": [],
   "source": [
    "def other_angle(a, b):\n",
    "    return 180 - (a + b)"
   ]
  }
 ],
 "metadata": {
  "kernelspec": {
   "display_name": "envone",
   "language": "python",
   "name": "python3"
  },
  "language_info": {
   "codemirror_mode": {
    "name": "ipython",
    "version": 3
   },
   "file_extension": ".py",
   "mimetype": "text/x-python",
   "name": "python",
   "nbconvert_exporter": "python",
   "pygments_lexer": "ipython3",
   "version": "3.13.2"
  }
 },
 "nbformat": 4,
 "nbformat_minor": 5
}
