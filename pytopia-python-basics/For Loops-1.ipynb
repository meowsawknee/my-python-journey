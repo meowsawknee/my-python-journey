{
 "cells": [
  {
   "cell_type": "code",
   "execution_count": 6,
   "id": "9d51e0d7",
   "metadata": {},
   "outputs": [
    {
     "name": "stdout",
     "output_type": "stream",
     "text": [
      "21.142857142857142\n",
      "21.142857142857142\n",
      "21.142857142857142\n",
      "21.142857142857142\n",
      "21.142857142857142\n",
      "21.142857142857142\n",
      "21.142857142857142\n",
      "24\n",
      "24\n",
      "24\n",
      "24\n",
      "24\n",
      "24\n",
      "24\n",
      "19\n",
      "19\n",
      "19\n",
      "19\n",
      "19\n",
      "19\n",
      "19\n"
     ]
    },
    {
     "ename": "TypeError",
     "evalue": "int() argument must be a string, a bytes-like object or a real number, not 'list'",
     "output_type": "error",
     "traceback": [
      "\u001b[31m---------------------------------------------------------------------------\u001b[39m",
      "\u001b[31mTypeError\u001b[39m                                 Traceback (most recent call last)",
      "\u001b[36mCell\u001b[39m\u001b[36m \u001b[39m\u001b[32mIn[6]\u001b[39m\u001b[32m, line 17\u001b[39m\n\u001b[32m     15\u001b[39m warm_days_counter = \u001b[32m0\u001b[39m\n\u001b[32m     16\u001b[39m \u001b[38;5;28;01mfor\u001b[39;00m warm_days_count \u001b[38;5;129;01min\u001b[39;00m temperatures:\n\u001b[32m---> \u001b[39m\u001b[32m17\u001b[39m     \u001b[38;5;28;01mif\u001b[39;00m \u001b[38;5;28mint\u001b[39m(temperatures) >= \u001b[32m22\u001b[39m:\n\u001b[32m     18\u001b[39m         \u001b[38;5;28mprint\u001b[39m(warm_days_counter)\n\u001b[32m     19\u001b[39m         warm_days_counter += \u001b[32m1\u001b[39m\n",
      "\u001b[31mTypeError\u001b[39m: int() argument must be a string, a bytes-like object or a real number, not 'list'"
     ]
    }
   ],
   "source": [
    "# May the Force be with you.\n",
    "# Day 14 of learning Python.\n",
    "# Pytopia \"for loops\" exercise.\n",
    "# First attempt.\n",
    "\n",
    "temperatures = [19, 21, 22, 24, 23, 19, 20]\n",
    "\n",
    "for average in temperatures:\n",
    "    print(sum(temperatures) / len(temperatures))\n",
    "for max_tmperature in temperatures:\n",
    "    print(max(temperatures))\n",
    "for min_temperature in temperatures:\n",
    "    print(min(temperatures))\n",
    "\n",
    "warm_days_counter = 0\n",
    "for warm_days_count in temperatures:\n",
    "    if int(temperatures) >= 22:\n",
    "        print(warm_days_counter)\n",
    "        warm_days_counter += 1\n"
   ]
  },
  {
   "cell_type": "code",
   "execution_count": 2,
   "id": "cc98ebf3",
   "metadata": {},
   "outputs": [
    {
     "name": "stdout",
     "output_type": "stream",
     "text": [
      "Average temprature for the week: 21.142857142857142\n",
      "Warning! This week's temperature reached 24°C !!!\n",
      "Minimum temp this week: 19°C.\n",
      "This week had 3 warm days!!!\n"
     ]
    }
   ],
   "source": [
    "# second one\n",
    "# personal note: solved this using for loops instead of built-ins (sum, max, min) as required.\n",
    "# key idea: assume first value as min/max → loop to update if bigger/smaller → print result.\n",
    "\n",
    "temperatures = [19, 21, 22, 24, 23, 19, 20]\n",
    "\n",
    "total_temperatures = 0\n",
    "for average in temperatures:\n",
    "    total_temperatures += average\n",
    "average_temprature = total_temperatures / len(temperatures)\n",
    "print(f\"Average temprature for the week: {average_temprature}\")\n",
    "\n",
    "max_tmperature = temperatures[0]\n",
    "for max_tmp in temperatures:\n",
    "    if max_tmp > max_tmperature:\n",
    "        max_tmperature = max_tmp\n",
    "print(f\"Warning! This week's temperature reached {max_tmperature}°C !!!\")\n",
    "\n",
    "min_temperature = temperatures[0]\n",
    "for min_tmp in temperatures:\n",
    "    if min_tmp < min_temperature :\n",
    "        min_temperature = min_tmp\n",
    "print(f\"Minimum temp this week: {min_temperature}°C.\")\n",
    "\n",
    "warm_days_counter = 0\n",
    "for warm_days_count in temperatures:\n",
    "    if warm_days_count >= 22:\n",
    "        warm_days_counter += 1\n",
    "print(f\"This week had {warm_days_counter} warm days!!!\")"
   ]
  },
  {
   "cell_type": "code",
   "execution_count": 3,
   "id": "e7655364",
   "metadata": {},
   "outputs": [
    {
     "name": "stdout",
     "output_type": "stream",
     "text": [
      "Daily temperature diffrences: [2, 1, 2, -1, -4, 1]\n"
     ]
    }
   ],
   "source": [
    "# part 4 and part 5 of pytopia practice\n",
    "# my attempt without GPT\n",
    "\n",
    "temperatures = [19, 21, 22, 24, 23, 19, 20]\n",
    "len(temperatures)\n",
    "\n",
    "for idx , tmp in enumerate(temperatures):\n",
    "    diff_1 = temperatures[1] - temperatures[0] # i understand it's a terrible solution, better than nothing.\n",
    "    diff_2 = temperatures[2] - temperatures[1]\n",
    "    diff_3 = temperatures[3] - temperatures[2]\n",
    "    diff_4 = temperatures[4] - temperatures[3]\n",
    "    diff_5 = temperatures[5] - temperatures[4]\n",
    "    diff_6 = temperatures[6] - temperatures[5]\n",
    "\n",
    "temperature_diffrences = [diff_1, diff_2, diff_3, diff_4, diff_5, diff_6]\n",
    "print(f\"Daily temperature diffrences: {temperature_diffrences}\")\n"
   ]
  },
  {
   "cell_type": "code",
   "execution_count": 4,
   "id": "a08d0537",
   "metadata": {},
   "outputs": [
    {
     "name": "stdout",
     "output_type": "stream",
     "text": [
      "Daily temprature diffrences: [2, 1, 2, -1, -4, 1]\n"
     ]
    }
   ],
   "source": [
    "# GPT guide\n",
    "# loop to get daily differences by subtracting prev day\n",
    "# we subtract previous day from current day, and append result to a list\n",
    "\n",
    "\n",
    "temperatures = [19, 21, 22, 24, 23, 19, 20]\n",
    "\n",
    "temperature_diffrences = [] # using this for saving diffrences (empty plate)\n",
    "for tmp_diff in range (1, len(temperatures)):\n",
    "    diff = temperatures[tmp_diff] - temperatures[tmp_diff - 1]\n",
    "    temperature_diffrences.append(diff)\n",
    "\n",
    "print(F\"Daily temprature diffrences: {temperature_diffrences}\")"
   ]
  },
  {
   "cell_type": "code",
   "execution_count": 5,
   "id": "ae06ef8d",
   "metadata": {},
   "outputs": [
    {
     "name": "stdout",
     "output_type": "stream",
     "text": [
      "The hottest swing was 4°C from day 5 to day 6.\n"
     ]
    }
   ],
   "source": [
    "temperature_diffrences = [2, 1, 2, -1, -4, 1]\n",
    "\n",
    "max_shifts = abs(temperature_diffrences[0])\n",
    "day_idx = 0\n",
    "\n",
    "for i in range(1, len(temperature_diffrences)):\n",
    "    if abs(temperature_diffrences[i]) > max_shifts:\n",
    "        max_shifts = abs(temperature_diffrences[i])\n",
    "        day_idx = i\n",
    "\n",
    "print(f\"The hottest swing was {max_shifts}°C from day {day_idx + 1} to day {day_idx + 2}.\")\n",
    "\n",
    "# +1 and +2 because index shows gap between days (day_idx auto updates)\n"
   ]
  }
 ],
 "metadata": {
  "kernelspec": {
   "display_name": "envone",
   "language": "python",
   "name": "python3"
  },
  "language_info": {
   "codemirror_mode": {
    "name": "ipython",
    "version": 3
   },
   "file_extension": ".py",
   "mimetype": "text/x-python",
   "name": "python",
   "nbconvert_exporter": "python",
   "pygments_lexer": "ipython3",
   "version": "3.13.2"
  }
 },
 "nbformat": 4,
 "nbformat_minor": 5
}
