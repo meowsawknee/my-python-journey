{
 "cells": [
  {
   "cell_type": "code",
   "execution_count": 86,
   "id": "731e1a0f",
   "metadata": {},
   "outputs": [],
   "source": [
    "# Order Calculator\n",
    "# This mini-project was created to deepen and reinforce two recent lessons from the Pytopia Python course:\n",
    "# 1. Function Documentation (using proper docstrings)\n",
    "# 2. Lambda Functions (anonymous functions with map, filter, sorted)\n",
    "# It processes a list of food orders, calculates totals with optional discounts,\n",
    "# filter expensive orders, and generates a final report."
   ]
  },
  {
   "cell_type": "code",
   "execution_count": 85,
   "id": "3010f14c",
   "metadata": {},
   "outputs": [],
   "source": [
    "orders = [\n",
    "    {'item': 'Pizza', 'price': 12.0, 'quantity': 2, 'discount': True},\n",
    "    {'item': 'Burger', 'price': 8.5, 'quantity': 1, 'discount': False},\n",
    "    {'item': 'Salad', 'price': 5.0, 'quantity': 3, 'discount': True},\n",
    "    {'item': 'Fries', 'price': 3.5, 'quantity': 4, 'discount': False},\n",
    "    {'item': 'Soda', 'price': 2.0, 'quantity': 5, 'discount': True}\n",
    "]\n"
   ]
  },
  {
   "cell_type": "code",
   "execution_count": 84,
   "id": "e9e82310",
   "metadata": {},
   "outputs": [],
   "source": [
    "# my first attempt with help of chatgpt\n",
    "# it's been about 2 or 3 back and forths with chatgpt\n",
    "# this version breaks the logic into clear steps:\n",
    "# - extract values from the order\n",
    "# - apply discount using a lambda\n",
    "# - multiply by quantity for total\n",
    "# docstring style: Google style (with Args / Returns)\n",
    "\n",
    "def calculate_total(order: dict) -> float:\n",
    "\n",
    "    \"\"\"\n",
    "    calculate the total cost of an order\n",
    "    Args:\n",
    "        order (dict): a dictionary containing the order details\n",
    "    Returns:\n",
    "        float: returns the total cost of the order\n",
    "    \"\"\"\n",
    "\n",
    "    price = order['price']\n",
    "    quantity = order['quantity']\n",
    "    discount = order['discount']\n",
    "\n",
    "    discounted_price = (lambda price: price * 0.9 if discount else price)(price)\n",
    "    total = discounted_price * quantity\n",
    "    return total"
   ]
  },
  {
   "cell_type": "code",
   "execution_count": 83,
   "id": "a336925e",
   "metadata": {},
   "outputs": [
    {
     "data": {
      "text/plain": [
       "8.5"
      ]
     },
     "execution_count": 83,
     "metadata": {},
     "output_type": "execute_result"
    }
   ],
   "source": [
    "# gpt reccommendation for shorter code\n",
    "# this version compresses the logic into a single line using an inline lambda\n",
    "\n",
    "def calculate_total(order: dict) -> float:\n",
    "    \"\"\"\n",
    "    calculate the total cost of an order\n",
    "    \n",
    "    :param order: a dictionary containing the order details\n",
    "    :type order: dict\n",
    "    :return: the total cost of the order after discounts\n",
    "    :rtype: float\n",
    "    \"\"\"\n",
    "    total = (lambda p: p* 0.9 if order['discount'] else p)(order['price']) * order['quantity']\n",
    "    return total\n",
    "\n",
    "order = {'item': 'Burger', 'price': 8.5, 'quantity': 1, 'discount': False}\n",
    "calculate_total(order)"
   ]
  },
  {
   "cell_type": "code",
   "execution_count": 82,
   "id": "51c03dd6",
   "metadata": {},
   "outputs": [
    {
     "name": "stdout",
     "output_type": "stream",
     "text": [
      "21.6\n",
      "Help on function calculate_total in module __main__:\n",
      "\n",
      "calculate_total(order: dict) -> float\n",
      "    calculate the total cost of an order\n",
      "\n",
      "    :param order: a dictionary containing the order details\n",
      "    :type order: dict\n",
      "    :return: the total cost of the order after discounts\n",
      "    :rtype: float\n",
      "\n",
      "\n",
      "calculate the total cost of an order\n",
      "\n",
      ":param order: a dictionary containing the order details\n",
      ":type order: dict\n",
      ":return: the total cost of the order after discounts\n",
      ":rtype: float\n",
      "\n"
     ]
    }
   ],
   "source": [
    "order = {'item': 'Pizza', 'price': 12.0, 'quantity': 2, 'discount': True}\n",
    "\n",
    "# 1. Run the function\n",
    "print(calculate_total(order))\n",
    "\n",
    "# 2. Show help\n",
    "help(calculate_total)\n",
    "\n",
    "# 3. Show docstring\n",
    "print(calculate_total.__doc__)\n"
   ]
  },
  {
   "cell_type": "code",
   "execution_count": 81,
   "id": "13fd7f49",
   "metadata": {},
   "outputs": [
    {
     "data": {
      "text/plain": [
       "[{'item': 'Pizza', 'price': 12.0, 'quantity': 2, 'discount': True},\n",
       " {'item': 'Salad', 'price': 5.0, 'quantity': 3, 'discount': True},\n",
       " {'item': 'Fries', 'price': 3.5, 'quantity': 4, 'discount': False}]"
      ]
     },
     "execution_count": 81,
     "metadata": {},
     "output_type": "execute_result"
    }
   ],
   "source": [
    "# it uses a lambda inside filter() to compare each order's total via calculate_total().\n",
    "\n",
    "def filter_expensive_orders(orders: list[dict], threshold: float) -> list:\n",
    "\n",
    "    \"\"\"\n",
    "    Filter orders whose total cost exceeds the threshold.\n",
    "\n",
    "    :param orders: a list of order dictionaries\n",
    "    :type orders: list\n",
    "    :param threshold: the minimum total cost to be considered expensive\n",
    "    :type threshold: float\n",
    "    :return: a list of expensive orders\n",
    "    :rtype: list\n",
    "    \"\"\"\n",
    "\n",
    "    return list(filter(lambda x: calculate_total(x) > threshold, orders))\n",
    "\n",
    "filter_expensive_orders(orders, 13)\n"
   ]
  },
  {
   "cell_type": "code",
   "execution_count": 88,
   "id": "2ba53300",
   "metadata": {},
   "outputs": [
    {
     "name": "stdout",
     "output_type": "stream",
     "text": [
      "Total orders: 5\n"
     ]
    },
    {
     "ename": "TypeError",
     "evalue": "'function' object is not iterable",
     "output_type": "error",
     "traceback": [
      "\u001b[31m---------------------------------------------------------------------------\u001b[39m",
      "\u001b[31mTypeError\u001b[39m                                 Traceback (most recent call last)",
      "\u001b[36mCell\u001b[39m\u001b[36m \u001b[39m\u001b[32mIn[88]\u001b[39m\u001b[32m, line 18\u001b[39m\n\u001b[32m     15\u001b[39m         \u001b[38;5;28mprint\u001b[39m(\u001b[33mf\u001b[39m\u001b[33m\"\u001b[39m\u001b[33mOrder: \u001b[39m\u001b[38;5;132;01m{\u001b[39;00mname\u001b[38;5;132;01m}\u001b[39;00m\u001b[33m \u001b[39m\u001b[38;5;132;01m{\u001b[39;00mquantity\u001b[38;5;132;01m}\u001b[39;00m\u001b[33m -> \u001b[39m\u001b[38;5;132;01m{\u001b[39;00mprice\u001b[38;5;132;01m}\u001b[39;00m\u001b[33m\"\u001b[39m)\n\u001b[32m     17\u001b[39m \u001b[38;5;28mprint\u001b[39m(\u001b[33mf\u001b[39m\u001b[33m\"\u001b[39m\u001b[33mTotal orders: \u001b[39m\u001b[38;5;132;01m{\u001b[39;00m\u001b[38;5;28mlen\u001b[39m(orders)\u001b[38;5;132;01m}\u001b[39;00m\u001b[33m\"\u001b[39m)\n\u001b[32m---> \u001b[39m\u001b[32m18\u001b[39m \u001b[38;5;28mprint\u001b[39m(\u001b[33mf\u001b[39m\u001b[33m\"\u001b[39m\u001b[33mExpensive orders (> $20): \u001b[39m\u001b[38;5;132;01m{\u001b[39;00m\u001b[38;5;28mlen\u001b[39m(\u001b[38;5;28mlist\u001b[39m(filter_expensive_orders))\u001b[38;5;132;01m}\u001b[39;00m\u001b[33m\"\u001b[39m)\n",
      "\u001b[31mTypeError\u001b[39m: 'function' object is not iterable"
     ]
    }
   ],
   "source": [
    "# first attempt \n",
    "\n",
    "def generate_report(orders: list) -> None:\n",
    "    \"\"\"\n",
    "    generate a report of the orders\n",
    "\n",
    "    Args:\n",
    "        orders (list): A list of dictionaries containing the order details\n",
    "\n",
    "    Returns:\n",
    "        None\n",
    "    \"\"\"\n",
    "\n",
    "    for name, quantity in orders:\n",
    "        print(f\"Order: {name} {quantity} -> {price}\")\n",
    "\n",
    "print(f\"Total orders: {len(orders)}\")\n",
    "print(f\"Expensive orders (> $20): {len(list(filter_expensive_orders))}\")\n",
    "\n",
    "# This version fails because:\n",
    "# - tryin to unpack dict values directly (name, quantity = order)\n",
    "# - missing a variable called 'price'\n",
    "# - incorrect call to filter_expensive_orders() - forgot to pass the threshold\n",
    "# - attempted to iterate over the function itself instead of its return value\n",
    "# docstring exists but the logic was not yet correctly implemented"
   ]
  },
  {
   "cell_type": "code",
   "execution_count": 90,
   "id": "30d270d2",
   "metadata": {},
   "outputs": [
    {
     "name": "stdout",
     "output_type": "stream",
     "text": [
      "Order: Pizza x2 -> $21.60\n",
      "Order: Burger x1 -> $8.50\n",
      "Order: Salad x3 -> $13.50\n",
      "Order: Fries x4 -> $14.00\n",
      "Order: Soda x5 -> $9.00\n",
      "\n",
      " Total orders: 5\n",
      "Expensive orders (>20): 1\n"
     ]
    }
   ],
   "source": [
    "# revised version\n",
    "\n",
    "def generate_report(orders: list) -> None:\n",
    "    \"\"\"\n",
    "\n",
    "    Generate a report of the orders.\n",
    "\n",
    "    :param orders: a list of dictionaries containing the order details\n",
    "    :type orders: list\n",
    "    :return: None\n",
    "    :rtype: None\n",
    "\n",
    "    \"\"\"\n",
    "    for order in orders:\n",
    "        name = order['item']\n",
    "        quantity = order['quantity']\n",
    "        price = calculate_total(order)\n",
    "        print(f\"Order: {name} x{quantity} -> ${price:.2f}\")\n",
    "\n",
    "    print(f\"\\n Total orders: {len(orders)}\")\n",
    "    expensive = filter_expensive_orders(orders, 20)\n",
    "    print(f\"Expensive orders (>20): {len(expensive)}\")\n",
    "\n",
    "generate_report(orders)\n"
   ]
  }
 ],
 "metadata": {
  "kernelspec": {
   "display_name": "envone",
   "language": "python",
   "name": "python3"
  },
  "language_info": {
   "codemirror_mode": {
    "name": "ipython",
    "version": 3
   },
   "file_extension": ".py",
   "mimetype": "text/x-python",
   "name": "python",
   "nbconvert_exporter": "python",
   "pygments_lexer": "ipython3",
   "version": "3.13.2"
  }
 },
 "nbformat": 4,
 "nbformat_minor": 5
}
