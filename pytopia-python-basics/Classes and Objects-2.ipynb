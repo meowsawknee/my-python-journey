{
 "cells": [
  {
   "cell_type": "code",
   "execution_count": 54,
   "id": "594c37a1",
   "metadata": {},
   "outputs": [],
   "source": [
    "# Task Tracker - Mini Project\n",
    "# Built as a fun way to practice OOP in Python\n",
    "# Goal: Understand how classes, objects, methods, and attributes actually work.\n",
    "# Bonus: Make it real and expandable in the future."
   ]
  },
  {
   "cell_type": "code",
   "execution_count": 55,
   "id": "b6180ee0",
   "metadata": {},
   "outputs": [],
   "source": [
    "# Step 1 - Define the Task class and initialize task ttributes.\n",
    "# This sets up our blueprint for creating task objects\n",
    "# Each task will have a title, category, priority, and done status\n",
    "\n",
    "class Task:\n",
    "    task_count = 0\n",
    "\n",
    "    def __init__(self, title, category, priority, done=False):\n",
    "        self.title = title\n",
    "        self.category = category\n",
    "        self.priority = priority\n",
    "        self.done = done\n",
    "        Task.task_count += 1\n"
   ]
  },
  {
   "cell_type": "code",
   "execution_count": 56,
   "id": "235f589e",
   "metadata": {},
   "outputs": [],
   "source": [
    "# Step 2 - Add mark_done method\n",
    "# Marks a task as completed by setting done = True\n",
    "\n",
    "class Task:\n",
    "    task_count = 0\n",
    "\n",
    "    def __init__(self, title, category, priority, done=False):\n",
    "        self.title = title\n",
    "        self.category = category\n",
    "        self.priority = priority\n",
    "        self.done = done\n",
    "        Task.task_count += 1\n",
    "    \n",
    "    def mark_done(self):\n",
    "        self.done = True\n",
    "        return \"Task marked as DONE!\"\n"
   ]
  },
  {
   "cell_type": "code",
   "execution_count": 57,
   "id": "bc2f7dce",
   "metadata": {},
   "outputs": [
    {
     "name": "stdout",
     "output_type": "stream",
     "text": [
      "False\n"
     ]
    },
    {
     "data": {
      "text/plain": [
       "'Task marked as DONE!'"
      ]
     },
     "execution_count": 57,
     "metadata": {},
     "output_type": "execute_result"
    }
   ],
   "source": [
    "task_1 = Task(\"showering\", \"personal\", \"high\")\n",
    "print(task_1.done)\n",
    "task_1.mark_done()"
   ]
  },
  {
   "cell_type": "code",
   "execution_count": 58,
   "id": "120fc91a",
   "metadata": {},
   "outputs": [
    {
     "name": "stdout",
     "output_type": "stream",
     "text": [
      "True\n"
     ]
    }
   ],
   "source": [
    "print(task_1.done)"
   ]
  },
  {
   "cell_type": "code",
   "execution_count": 59,
   "id": "a3773788",
   "metadata": {},
   "outputs": [],
   "source": [
    "# Step 3 - Add is_urgent method\n",
    "# Checks if the task has high priority\n",
    "\n",
    "class Task:\n",
    "    task_count = 0\n",
    "\n",
    "    def __init__(self, title, category, priority, done=False):\n",
    "        self.title = title\n",
    "        self.category = category\n",
    "        self.priority = priority\n",
    "        self.done = done\n",
    "        Task.task_count += 1\n",
    "    \n",
    "    def mark_done(self):\n",
    "        self.done = True\n",
    "        return \"Task marked as DONE!\"\n",
    "\n",
    "    def is_urgent(self):\n",
    "        if self.priority.lower() == \"high\":\n",
    "            return True\n",
    "        else:\n",
    "            return False"
   ]
  },
  {
   "cell_type": "code",
   "execution_count": 60,
   "id": "8d1994ec",
   "metadata": {},
   "outputs": [
    {
     "name": "stdout",
     "output_type": "stream",
     "text": [
      "True\n",
      "False\n"
     ]
    }
   ],
   "source": [
    "task_2 = Task(\"Fix bug\", \"Work\", \"HIGH\")\n",
    "print(task_2.is_urgent())\n",
    "task_3 = Task(\"buy eggz\", \"personal\", \"low\")\n",
    "print(task_3.is_urgent())"
   ]
  },
  {
   "cell_type": "code",
   "execution_count": 61,
   "id": "4b51c2a0",
   "metadata": {},
   "outputs": [],
   "source": [
    "# Step 4 - Add summary method\n",
    "# Returns a neat summary of the task with emojis (✅ or ❌)\n",
    "# Note: emojis are also strings in Python\n",
    "\n",
    "class Task:\n",
    "    task_count = 0\n",
    "\n",
    "    def __init__(self, title, category, priority, done=False):\n",
    "        self.title = title\n",
    "        self.category = category\n",
    "        self.priority = priority\n",
    "        self.done = done\n",
    "        Task.task_count += 1\n",
    "    \n",
    "    def mark_done(self):\n",
    "        self.done = True\n",
    "        return \"Task marked as DONE!\"\n",
    "\n",
    "    def is_urgent(self):\n",
    "        if self.priority.lower() == \"high\":\n",
    "            return True\n",
    "        else:\n",
    "            return False\n",
    "    \n",
    "    def summary(self):\n",
    "        status = \"✅\" if self.done else \"❌\"\n",
    "        return f\"Task : {self.title} [{self.category}] | Priority: {self.priority} | Done: {status}\""
   ]
  },
  {
   "cell_type": "code",
   "execution_count": 62,
   "id": "3603b3fb",
   "metadata": {},
   "outputs": [
    {
     "name": "stdout",
     "output_type": "stream",
     "text": [
      "Task : showering [personal] | Priority: high | Done: ✅\n",
      "Task : Fix bug [Work] | Priority: HIGH | Done: ❌\n",
      "Task : buy eggz [personal] | Priority: low | Done: ✅\n"
     ]
    }
   ],
   "source": [
    "task_1 = Task(\"showering\", \"personal\", \"high\")\n",
    "task_1.mark_done()\n",
    "task_2 = Task(\"Fix bug\", \"Work\", \"HIGH\")\n",
    "task_3 = Task(\"buy eggz\", \"personal\", \"low\")\n",
    "task_3.mark_done()\n",
    "print(task_1.summary())\n",
    "print(task_2.summary())\n",
    "print(task_3.summary())"
   ]
  },
  {
   "cell_type": "code",
   "execution_count": 63,
   "id": "60fe757b",
   "metadata": {},
   "outputs": [],
   "source": [
    "# Step 5 - Added ability to update task priority\n",
    "# Introduced a method called change_priority to update the priority of a task\n",
    "# Useful when task conditions change and priorities need to be adjusted\n",
    "\n",
    "class Task:\n",
    "    task_count = 0\n",
    "\n",
    "    def __init__(self, title, category, priority, done=False):\n",
    "        self.title = title\n",
    "        self.category = category\n",
    "        self.priority = priority\n",
    "        self.done = done\n",
    "        Task.task_count += 1\n",
    "    \n",
    "    def mark_done(self):\n",
    "        self.done = True\n",
    "        return \"Task marked as DONE!\"\n",
    "\n",
    "    def is_urgent(self):\n",
    "        if self.priority.lower() == \"high\":\n",
    "            return True\n",
    "        else:\n",
    "            return False\n",
    "    \n",
    "    def summary(self):\n",
    "        status = \"✅\" if self.done else \"❌\"\n",
    "        return f\"Task : {self.title} [{self.category}] | Priority: {self.priority} | Done: {status}\"\n",
    "    \n",
    "    def change_priority(self, new_priority):\n",
    "        self.priority = new_priority\n",
    "        return f\"Priority updated to {new_priority}!!\"\n",
    "        \n"
   ]
  },
  {
   "cell_type": "code",
   "execution_count": 64,
   "id": "00dd6af5",
   "metadata": {},
   "outputs": [
    {
     "name": "stdout",
     "output_type": "stream",
     "text": [
      "Task : Workout [personal] | Priority: low | Done: ❌\n",
      "Task : Workout [personal] | Priority: medium | Done: ❌\n"
     ]
    }
   ],
   "source": [
    "task_4 = Task(\"Workout\", \"personal\", \"low\")\n",
    "print(task_4.summary())\n",
    "task_4.change_priority(\"medium\")\n",
    "print(task_4.summary())\n"
   ]
  },
  {
   "cell_type": "code",
   "execution_count": 65,
   "id": "fe14acbb",
   "metadata": {},
   "outputs": [],
   "source": [
    "# Step 6 - track done tasks\n",
    "# added 'done_count' to count completed tasks\n",
    "# mark_done only counts if it's the first time\n",
    "\n",
    "class Task:\n",
    "    task_count = 0\n",
    "    done_count = 0\n",
    "\n",
    "    def __init__(self, title, category, priority, done=False):\n",
    "        self.title = title\n",
    "        self.category = category\n",
    "        self.priority = priority\n",
    "        self.done = done\n",
    "        Task.task_count += 1\n",
    "    \n",
    "    def mark_done(self):\n",
    "        self.done = True\n",
    "        return \"Task marked as DONE!\"\n",
    "\n",
    "    def is_urgent(self):\n",
    "        if self.priority.lower() == \"high\":\n",
    "            return True\n",
    "        else:\n",
    "            return False\n",
    "    \n",
    "    def summary(self):\n",
    "        status = \"✅\" if self.done else \"❌\"\n",
    "        return f\"Task : {self.title} [{self.category}] | Priority: {self.priority} | Done: {status}\"\n",
    "    \n",
    "    def change_priority(self, new_priority):\n",
    "        self.priority = new_priority\n",
    "        return f\"Priority updated to {new_priority}!!\"\n",
    "            \n",
    "    \n",
    "    def mark_done(self):\n",
    "        if not self.done:\n",
    "            self.done = True\n",
    "            Task.done_count += 1\n",
    "            return \"Task marked as DONE!\"\n",
    "\n",
    "        return \"Task was already DONE!!\"\n",
    "    \n",
    "        \n"
   ]
  },
  {
   "cell_type": "code",
   "execution_count": 66,
   "id": "5ba81764",
   "metadata": {},
   "outputs": [
    {
     "name": "stdout",
     "output_type": "stream",
     "text": [
      "Task was already DONE!!\n",
      "Task was already DONE!!\n",
      "2\n"
     ]
    }
   ],
   "source": [
    "task_5 = Task(\"Study OOP\", \"study\", \"HIGH\")\n",
    "task_6 = Task(\"Pay Bills\", \"finance\", \"Medium\")\n",
    "task_5.mark_done()\n",
    "print(task_5.mark_done())\n",
    "task_6.mark_done()\n",
    "print(task_6.mark_done())\n",
    "# Track how many tasks have been marked as done so far\n",
    "print(Task.done_count)\n"
   ]
  },
  {
   "cell_type": "code",
   "execution_count": 67,
   "id": "f4978c07",
   "metadata": {},
   "outputs": [],
   "source": [
    "# final version of Task class\n",
    "# added keyword search with matches() to find tasks by title or category\n",
    "# done_count also updates only once per task\n",
    "\n",
    "class Task:\n",
    "    task_count = 0\n",
    "    done_count = 0\n",
    "\n",
    "    def __init__(self, title, category, priority, done=False):\n",
    "        self.title = title\n",
    "        self.category = category\n",
    "        self.priority = priority\n",
    "        self.done = done\n",
    "        Task.task_count += 1\n",
    "    \n",
    "    def mark_done(self):\n",
    "        self.done = True\n",
    "        return \"Task marked as DONE!\"\n",
    "\n",
    "    def is_urgent(self):\n",
    "        if self.priority.lower() == \"high\":\n",
    "            return True\n",
    "        else:\n",
    "            return False\n",
    "    \n",
    "    def summary(self):\n",
    "        status = \"✅\" if self.done else \"❌\"\n",
    "        return f\"Task : {self.title} [{self.category}] | Priority: {self.priority} | Done: {status}\"\n",
    "    \n",
    "    def change_priority(self, new_priority):\n",
    "        self.priority = new_priority\n",
    "        return f\"Priority updated to {new_priority}!!\"        \n",
    "    \n",
    "    def mark_done(self):\n",
    "        if not self.done:\n",
    "            self.done = True\n",
    "            Task.done_count += 1\n",
    "            return \"Task marked as DONE!\"\n",
    "\n",
    "        return \"Task was already DONE!!\"\n",
    "    \n",
    "    def matches(self, keyword):\n",
    "        return keyword.lower() in self.title.lower() or keyword.lower() in self.category.lower()\n"
   ]
  },
  {
   "cell_type": "code",
   "execution_count": 68,
   "id": "02824fca",
   "metadata": {},
   "outputs": [
    {
     "name": "stdout",
     "output_type": "stream",
     "text": [
      "True\n",
      "False\n"
     ]
    }
   ],
   "source": [
    "task_7 = Task(\"Finish report\", \"work\", \"HIGH\")\n",
    "print(task_7.matches(\"report\"))\n",
    "print(task_7.matches(\"personal\"))"
   ]
  },
  {
   "cell_type": "code",
   "execution_count": 70,
   "id": "da51afca",
   "metadata": {},
   "outputs": [],
   "source": [
    "# 🔮 future ideas:\n",
    "# - add due dates and auto-sort tasks\n",
    "# - allow saving/loading tasks from a file or database\n",
    "# - build a simple UI with django or tkinter\n",
    "# - support recurring tasks or notifications"
   ]
  }
 ],
 "metadata": {
  "kernelspec": {
   "display_name": "envone",
   "language": "python",
   "name": "python3"
  },
  "language_info": {
   "codemirror_mode": {
    "name": "ipython",
    "version": 3
   },
   "file_extension": ".py",
   "mimetype": "text/x-python",
   "name": "python",
   "nbconvert_exporter": "python",
   "pygments_lexer": "ipython3",
   "version": "3.13.2"
  }
 },
 "nbformat": 4,
 "nbformat_minor": 5
}
