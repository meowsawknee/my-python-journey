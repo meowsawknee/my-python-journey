{
 "cells": [
  {
   "cell_type": "code",
   "execution_count": 39,
   "id": "4b83d8cc",
   "metadata": {},
   "outputs": [],
   "source": [
    "# Exercise: A Day at the Zoo\n",
    "# Topic: Argument Passing in Functions (Positional, Keyword, Default)\n",
    "# This script defines two functions to manage visit schedules and special requests\n",
    "# using different ways of passing arguments in Python.\n",
    "# All 6 tasks from the exercise are implemented and tested below."
   ]
  },
  {
   "cell_type": "code",
   "execution_count": 40,
   "id": "5fe0b0f4",
   "metadata": {},
   "outputs": [
    {
     "name": "stdout",
     "output_type": "stream",
     "text": [
      "Planning to visit Reptiles at 10:00 for Feeding activity.\n"
     ]
    }
   ],
   "source": [
    "# Pytopia - Argument Passing\n",
    "\n",
    "def schedule_visit(section, time, activity = \"Feeding\"):\n",
    "    print(f\"Planning to visit {section} at {time} for {activity} activity.\")\n",
    "\n",
    "schedule_visit(\"Reptiles\", \"10:00\")"
   ]
  },
  {
   "cell_type": "code",
   "execution_count": 41,
   "id": "b5bf8949",
   "metadata": {},
   "outputs": [
    {
     "name": "stdout",
     "output_type": "stream",
     "text": [
      "Planning to visit Birds at 01:00 PM for Educational Talk activity.\n"
     ]
    }
   ],
   "source": [
    "# Pytopia - Argument Passing (2)\n",
    "\n",
    "schedule_visit(\"Birds\", \"01:00 PM\", \"Educational Talk\")"
   ]
  },
  {
   "cell_type": "code",
   "execution_count": 42,
   "id": "5b524483",
   "metadata": {},
   "outputs": [
    {
     "name": "stdout",
     "output_type": "stream",
     "text": [
      "Special request for Reptiles: Please check the temperature setting in the reptile house.\n"
     ]
    }
   ],
   "source": [
    "# Pytopia - Argument Passing (3)\n",
    "\n",
    "def add_special_request(section, request=None):\n",
    "    if request is not None:\n",
    "        print(f\"Special request for {section}: {request}.\")\n",
    "    else:\n",
    "        print(f\"No special requests have been made for {section} section.\")\n",
    "\n",
    "add_special_request(\"Reptiles\", \"Please check the temperature setting in the reptile house\")"
   ]
  },
  {
   "cell_type": "code",
   "execution_count": 43,
   "id": "578e87a8",
   "metadata": {},
   "outputs": [
    {
     "name": "stdout",
     "output_type": "stream",
     "text": [
      "No special requests have been made for Reptiles section.\n"
     ]
    }
   ],
   "source": [
    "# Pytopia - Argument Passing (4)\n",
    "add_special_request(\"Reptiles\")"
   ]
  },
  {
   "cell_type": "code",
   "execution_count": 44,
   "id": "bc047505",
   "metadata": {},
   "outputs": [
    {
     "name": "stdout",
     "output_type": "stream",
     "text": [
      "Special request for Mammals: Wheelchair Access.\n"
     ]
    }
   ],
   "source": [
    "# Pytopia - Argument Passing (5)\n",
    "add_special_request(\"Mammals\", \"Wheelchair Access\")"
   ]
  }
 ],
 "metadata": {
  "kernelspec": {
   "display_name": "envone",
   "language": "python",
   "name": "python3"
  },
  "language_info": {
   "codemirror_mode": {
    "name": "ipython",
    "version": 3
   },
   "file_extension": ".py",
   "mimetype": "text/x-python",
   "name": "python",
   "nbconvert_exporter": "python",
   "pygments_lexer": "ipython3",
   "version": "3.13.2"
  }
 },
 "nbformat": 4,
 "nbformat_minor": 5
}
