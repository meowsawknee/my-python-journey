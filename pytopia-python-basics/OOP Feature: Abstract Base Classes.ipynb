{
 "cells": [
  {
   "cell_type": "code",
   "execution_count": 14,
   "id": "1e2d5abf",
   "metadata": {},
   "outputs": [],
   "source": [
    "# Notification System 📬\n",
    "# ------------------------\n",
    "# A simple abstraction practice using Abstract Base Classes (ABC) in Python.\n",
    "# This exercise demonstrates:\n",
    "# - How to define abstract base class with @abstractmethod\n",
    "# - How to implement concrete subclasses\n",
    "# - How abstraction enforces a common interface across different implementations"
   ]
  },
  {
   "cell_type": "code",
   "execution_count": 12,
   "id": "c0a5a4c4",
   "metadata": {},
   "outputs": [],
   "source": [
    "from abc import ABC, abstractmethod\n",
    "\n",
    "class NotificationService(ABC):\n",
    "    @abstractmethod\n",
    "    def send(self, message):\n",
    "        pass\n",
    "\n",
    "class EmailNotification(NotificationService):\n",
    "    def send(self, message: str) -> None:\n",
    "        print(f\"Sending Email: {message}\")\n",
    "\n",
    "class SMSNotification(NotificationService):\n",
    "    def send(self, message: str) -> None:\n",
    "        print(f\"Sending SMS: {message}\")\n",
    "    "
   ]
  },
  {
   "cell_type": "code",
   "execution_count": 8,
   "id": "d3e2a861",
   "metadata": {},
   "outputs": [
    {
     "name": "stdout",
     "output_type": "stream",
     "text": [
      "Sending Email: Hello from ABC!\n",
      "Sending SMS: Hello from ABC!\n"
     ]
    }
   ],
   "source": [
    "# Test\n",
    "notifs = [EmailNotification(), SMSNotification()]\n",
    "\n",
    "for n in notifs:\n",
    "    n.send(\"Hello from ABC!\")"
   ]
  }
 ],
 "metadata": {
  "kernelspec": {
   "display_name": "envone",
   "language": "python",
   "name": "python3"
  },
  "language_info": {
   "codemirror_mode": {
    "name": "ipython",
    "version": 3
   },
   "file_extension": ".py",
   "mimetype": "text/x-python",
   "name": "python",
   "nbconvert_exporter": "python",
   "pygments_lexer": "ipython3",
   "version": "3.13.2"
  }
 },
 "nbformat": 4,
 "nbformat_minor": 5
}
