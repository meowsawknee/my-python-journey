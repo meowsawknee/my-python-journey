{
 "cells": [
  {
   "cell_type": "code",
   "execution_count": 37,
   "id": "d31d5225",
   "metadata": {},
   "outputs": [],
   "source": [
    "# 🔹 Pytopia Exercise: Reading from Files\n",
    "# Goal: Learn different ways to read text files in Python.\n",
    "# Methods used: read(), readline(), readlines(), and for-loop over file.\n",
    "# Best method: for-loop (efficient and clean for large files).\n",
    "# Good practices: use 'with', handle FileNotFoundError, use enumerate for line numbers."
   ]
  },
  {
   "cell_type": "code",
   "execution_count": 36,
   "id": "f895816d",
   "metadata": {},
   "outputs": [
    {
     "name": "stdout",
     "output_type": "stream",
     "text": [
      "Welcome to Python file reading.\n",
      "This is the second line.\n",
      "Here is the third line.\n",
      "End of the file.\n",
      "-----------------------\n",
      "Welcome to Python file reading.\n",
      "This is the second line.\n",
      "Here is the third line.\n",
      "End of the file.\n"
     ]
    }
   ],
   "source": [
    "# Method 1: Using 'with' for automatic file handling (recommended way)\n",
    "with open(\"/mnt/e/my-python-journey/pytopia-python-basics/sample.txt\", \"r\") as file:\n",
    "    content = file.read() # Reads the entire file content into a single string\n",
    "    print(content)\n",
    "\n",
    "print(\"-----------------------\")\n",
    "\n",
    "# Method 2: Manual open/close with try/finally (less common)\n",
    "try:\n",
    "    f = open(\"sample.txt\", \"r\")\n",
    "    content_1 = f.read()\n",
    "    print(content_1)\n",
    "finally:\n",
    "    f.close() # Ensure file is closed even if an error occurs\n"
   ]
  },
  {
   "cell_type": "code",
   "execution_count": 38,
   "id": "fadb8d2e",
   "metadata": {},
   "outputs": [
    {
     "name": "stdout",
     "output_type": "stream",
     "text": [
      "Welcome to Python file reading.\n",
      "This is the second line.\n",
      "Here is the third line.\n",
      "End of the file."
     ]
    }
   ],
   "source": [
    "# Reads the file line by line using readline()\n",
    "with open(\"sample.txt\", \"r\") as file:\n",
    "    line = file.readline() # read the first line\n",
    "    while line:            # Loop continues until an empty string is retuned\n",
    "        print(line, end=\"\") # Prints the line as-is\n",
    "        line = file.readline() # Reads the next line"
   ]
  },
  {
   "cell_type": "code",
   "execution_count": 39,
   "id": "528ccf21",
   "metadata": {},
   "outputs": [
    {
     "name": "stdout",
     "output_type": "stream",
     "text": [
      "1: Welcome to Python file reading.\n",
      "2: This is the second line.\n",
      "3: Here is the third line.\n",
      "4: End of the file."
     ]
    }
   ],
   "source": [
    "# Same as above, but adds line numbers using a counter\n",
    "with open(\"sample.txt\", \"r\") as file:\n",
    "    line_number = 1\n",
    "    line = file.readline()\n",
    "    while line:\n",
    "        print(f\"{line_number}: {line}\", end=\"\")\n",
    "        line = file.readline()\n",
    "        line_number += 1"
   ]
  },
  {
   "cell_type": "code",
   "execution_count": 40,
   "id": "85882ca4",
   "metadata": {},
   "outputs": [
    {
     "name": "stdout",
     "output_type": "stream",
     "text": [
      "1: Welcome to Python file reading.\n",
      "2: This is the second line.\n",
      "3: Here is the third line.\n",
      "4: End of the file."
     ]
    }
   ],
   "source": [
    "# Reads all lines into a list, then prints each with a line number\n",
    "with open(\"sample.txt\", \"r\") as f:\n",
    "    content = f.readlines() # Reads entire file into a list of lines\n",
    "    line_number = 0\n",
    "    for line in content:\n",
    "        line_number += 1\n",
    "        print(f\"{line_number}: {line}\", end=\"\")"
   ]
  },
  {
   "cell_type": "code",
   "execution_count": 41,
   "id": "41c69cf2",
   "metadata": {},
   "outputs": [
    {
     "name": "stdout",
     "output_type": "stream",
     "text": [
      "1: Welcome to Python file reading.\n",
      "2: This is the second line.\n",
      "3: Here is the third line.\n",
      "4: End of the file."
     ]
    }
   ],
   "source": [
    "# Better version using enumerate to simplfy line numbering\n",
    "with open(\"sample.txt\", \"r\") as f:\n",
    "    for i, line in enumerate(f.readlines(), start=1):\n",
    "        print(f\"{i}: {line}\", end=\"\")"
   ]
  },
  {
   "cell_type": "code",
   "execution_count": 42,
   "id": "9e17094b",
   "metadata": {},
   "outputs": [
    {
     "name": "stdout",
     "output_type": "stream",
     "text": [
      "1 - Welcome to Python file reading.\n",
      "2 - This is the second line.\n",
      "3 - Here is the third line.\n",
      "4 - End of the file."
     ]
    }
   ],
   "source": [
    "# ✅ Most efficient way to read large files line-by-line\n",
    "with open(\"sample.txt\", \"r\") as file:\n",
    "    for i, line in enumerate(file, start=1): # Uses enumerate directly on file object\n",
    "        print(f\"{i} - {line}\", end='')"
   ]
  },
  {
   "cell_type": "code",
   "execution_count": 44,
   "id": "71adf8e6",
   "metadata": {},
   "outputs": [
    {
     "name": "stdout",
     "output_type": "stream",
     "text": [
      "1: [12:59] my mind is clouded with doubt and uncertainty today...\n",
      "2: [13:00] nothing new!\n",
      "3: [13:01] doubt again! as usual!\n",
      "4: [15:36] i think it's finished for now!\n"
     ]
    }
   ],
   "source": [
    "# User inputs file path manually\n",
    "input_path = input('input your file path like -> \"new_data.txt\"')\n",
    "# /mnt/e/my-python-journey/pytopia-python-basics/journals/2025-05-19.txt\n",
    "with open(input_path, \"r\") as file:\n",
    "    for i, line in enumerate(file, start=1):\n",
    "        print(f\"{i}: {line}\", end='')"
   ]
  },
  {
   "cell_type": "code",
   "execution_count": 45,
   "id": "0d154a87",
   "metadata": {},
   "outputs": [
    {
     "name": "stdout",
     "output_type": "stream",
     "text": [
      "⚠️ File not found. Please check the path and try again.\n"
     ]
    }
   ],
   "source": [
    "# Final version with error handling\n",
    "input_path = input('input your file path like -> \"new_data.txt\"')\n",
    "\n",
    "try:\n",
    "    with open(input_path, \"r\") as file:\n",
    "        for i, line in enumerate(file, start=1):\n",
    "            print(f\"{i}: {line}\", end='')\n",
    "except FileNotFoundError:\n",
    "    print(\"⚠️ File not found. Please check the path and try again.\")\n",
    "except Exception as e:\n",
    "    print(f\"Unexpected error: {e}\")"
   ]
  }
 ],
 "metadata": {
  "kernelspec": {
   "display_name": "envone",
   "language": "python",
   "name": "python3"
  },
  "language_info": {
   "codemirror_mode": {
    "name": "ipython",
    "version": 3
   },
   "file_extension": ".py",
   "mimetype": "text/x-python",
   "name": "python",
   "nbconvert_exporter": "python",
   "pygments_lexer": "ipython3",
   "version": "3.13.2"
  }
 },
 "nbformat": 4,
 "nbformat_minor": 5
}
