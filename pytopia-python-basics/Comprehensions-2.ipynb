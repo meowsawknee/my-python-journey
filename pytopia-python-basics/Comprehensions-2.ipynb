{
 "cells": [
  {
   "cell_type": "code",
   "execution_count": 63,
   "id": "792e9f91",
   "metadata": {},
   "outputs": [],
   "source": [
    "# this practice designed by gpt based on my pytopia class\n",
    "# i told gpt make it harder so i can fix my lesson and pushit forward a lilbit"
   ]
  },
  {
   "cell_type": "code",
   "execution_count": 62,
   "id": "4e4a2078",
   "metadata": {},
   "outputs": [],
   "source": [
    "movies = [\n",
    "    {\"title\": \"Inception\", \"genre\": \"Sci-Fi\", \"rating\": 8.8, \"duration\": 148},\n",
    "    {\"title\": \"The Godfather\", \"genre\": \"Drama\", \"rating\": 9.2, \"duration\": 175},\n",
    "    {\"title\": \"Parasite\", \"genre\": \"Thriller\", \"rating\": 8.6, \"duration\": 132},\n",
    "    {\"title\": \"The Dark Knight\", \"genre\": \"Action\", \"rating\": 9.0, \"duration\": 152},\n",
    "    {\"title\": \"Whiplash\", \"genre\": \"Drama\", \"rating\": 8.5, \"duration\": 107},\n",
    "    {\"title\": \"Mad Max: Fury Road\", \"genre\": \"Action\", \"rating\": 8.1, \"duration\": 120},\n",
    "    {\"title\": \"Interstellar\", \"genre\": \"Sci-Fi\", \"rating\": 8.6, \"duration\": 169},\n",
    "    {\"title\": \"Joker\", \"genre\": \"Drama\", \"rating\": 8.4, \"duration\": 122},\n",
    "    {\"title\": \"Get Out\", \"genre\": \"Thriller\", \"rating\": 7.7, \"duration\": 104},\n",
    "    {\"title\": \"Dune\", \"genre\": \"Sci-Fi\", \"rating\": 8.1, \"duration\": 155},\n",
    "    {\"title\": \"A Short Film About Love\", \"genre\": \"Drama\", \"rating\": 8.2, \"duration\": 87},\n",
    "    {\"title\": \"Spirited Away\", \"genre\": \"Animation\", \"rating\": 8.6, \"duration\": 125},\n",
    "    {\"title\": \"Chungking Express\", \"genre\": \"Drama\", \"rating\": 8.0, \"duration\": 102},\n",
    "    {\"title\": \"Fallen Angels\", \"genre\": \"Drama\", \"rating\": 7.7, \"duration\": 99},\n",
    "    {\"title\": \"Climax\", \"genre\": \"Thriller\", \"rating\": 7.0, \"duration\": 97},\n",
    "    {\"title\": \"Enter the Void\", \"genre\": \"Drama\", \"rating\": 7.6, \"duration\": 161},\n",
    "    {\"title\": \"Her\", \"genre\": \"Sci-Fi\", \"rating\": 8.0, \"duration\": 126},\n",
    "    {\"title\": \"Blade Runner 2049\", \"genre\": \"Sci-Fi\", \"rating\": 8.0, \"duration\": 164},\n",
    "    {\"title\": \"La La Land\", \"genre\": \"Drama\", \"rating\": 8.0, \"duration\": 128},\n",
    "    {\"title\": \"Oldboy\", \"genre\": \"Thriller\", \"rating\": 8.4, \"duration\": 120},\n",
    "    {\"title\": \"Snowpiercer\", \"genre\": \"Sci-Fi\", \"rating\": 7.1, \"duration\": 126},\n",
    "    {\"title\": \"Memories of Murder\", \"genre\": \"Thriller\", \"rating\": 8.1, \"duration\": 132},\n",
    "    {\"title\": \"The Handmaiden\", \"genre\": \"Drama\", \"rating\": 8.1, \"duration\": 145},\n",
    "    {\"title\": \"Perfect Blue\", \"genre\": \"Animation\", \"rating\": 8.3, \"duration\": 81},\n",
    "    {\"title\": \"Weathering With You\", \"genre\": \"Animation\", \"rating\": 7.5, \"duration\": 112},\n",
    "    {\"title\": \"Akira\", \"genre\": \"Animation\", \"rating\": 8.0, \"duration\": 124},\n",
    "    {\"title\": \"The Platform\", \"genre\": \"Thriller\", \"rating\": 7.0, \"duration\": 94},\n",
    "    {\"title\": \"Requiem for a Dream\", \"genre\": \"Drama\", \"rating\": 8.3, \"duration\": 102},\n",
    "    {\"title\": \"Black Swan\", \"genre\": \"Drama\", \"rating\": 8.0, \"duration\": 108},\n",
    "    {\"title\": \"Tenet\", \"genre\": \"Sci-Fi\", \"rating\": 7.4, \"duration\": 150},\n",
    "    {\"title\": \"Shutter Island\", \"genre\": \"Thriller\", \"rating\": 8.2, \"duration\": 138},\n",
    "    {\"title\": \"Memento\", \"genre\": \"Thriller\", \"rating\": 8.4, \"duration\": 113},\n",
    "    {\"title\": \"1917\", \"genre\": \"Action\", \"rating\": 8.3, \"duration\": 119},\n",
    "    {\"title\": \"Prisoners\", \"genre\": \"Thriller\", \"rating\": 8.1, \"duration\": 153},\n",
    "    {\"title\": \"Arrival\", \"genre\": \"Sci-Fi\", \"rating\": 7.9, \"duration\": 116},\n",
    "    {\"title\": \"The Lobster\", \"genre\": \"Drama\", \"rating\": 7.1, \"duration\": 119},\n",
    "    {\"title\": \"Lady Bird\", \"genre\": \"Drama\", \"rating\": 7.4, \"duration\": 94},\n",
    "    {\"title\": \"Room\", \"genre\": \"Drama\", \"rating\": 8.1, \"duration\": 118},\n",
    "    {\"title\": \"The Farewell\", \"genre\": \"Drama\", \"rating\": 7.6, \"duration\": 100},\n",
    "    {\"title\": \"Soul\", \"genre\": \"Animation\", \"rating\": 8.1, \"duration\": 100},\n",
    "    {\"title\": \"The Shape of Water\", \"genre\": \"Drama\", \"rating\": 7.3, \"duration\": 123},\n",
    "    {\"title\": \"Roma\", \"genre\": \"Drama\", \"rating\": 7.7, \"duration\": 135},\n",
    "    {\"title\": \"The Irishman\", \"genre\": \"Drama\", \"rating\": 7.8, \"duration\": 209},\n",
    "    {\"title\": \"Marriage Story\", \"genre\": \"Drama\", \"rating\": 7.9, \"duration\": 137},\n",
    "    {\"title\": \"Little Women\", \"genre\": \"Drama\", \"rating\": 7.8, \"duration\": 135},\n",
    "    {\"title\": \"Nomadland\", \"genre\": \"Drama\", \"rating\": 7.4, \"duration\": 108},\n",
    "    {\"title\": \"Sound of Metal\", \"genre\": \"Drama\", \"rating\": 7.8, \"duration\": 120},\n",
    "    {\"title\": \"Drive\", \"genre\": \"Thriller\", \"rating\": 7.8, \"duration\": 100},\n",
    "    {\"title\": \"Ex Machina\", \"genre\": \"Sci-Fi\", \"rating\": 7.7, \"duration\": 108},\n",
    "    {\"title\": \"Annihilation\", \"genre\": \"Sci-Fi\", \"rating\": 6.8, \"duration\": 115},\n",
    "]\n"
   ]
  },
  {
   "cell_type": "code",
   "execution_count": 61,
   "id": "1ef2c093",
   "metadata": {},
   "outputs": [
    {
     "name": "stdout",
     "output_type": "stream",
     "text": [
      "Available genres: ['Action', 'Animation', 'Drama', 'Sci-Fi', 'Thriller']\n"
     ]
    }
   ],
   "source": [
    "# for the first task i need a set to find all genres in our data\n",
    "\n",
    "genres_set = {movie[\"genre\"] for movie in movies}\n",
    "print(f\"Available genres: {sorted(genres_set)}\")\n",
    "\n"
   ]
  },
  {
   "cell_type": "code",
   "execution_count": 60,
   "id": "91a4cc1f",
   "metadata": {},
   "outputs": [
    {
     "ename": "_IncompleteInputError",
     "evalue": "incomplete input (3867904375.py, line 5)",
     "output_type": "error",
     "traceback": [
      "  \u001b[36mCell\u001b[39m\u001b[36m \u001b[39m\u001b[32mIn[60]\u001b[39m\u001b[32m, line 5\u001b[39m\n\u001b[31m    \u001b[39m\u001b[31m{movie[\"genre\"]: movie[\"title\"] for movie in movies if # movie[rating] ????}\u001b[39m\n                                                                                ^\n\u001b[31m_IncompleteInputError\u001b[39m\u001b[31m:\u001b[39m incomplete input\n"
     ]
    }
   ],
   "source": [
    "# find the best movie of each genre (based on rate)\n",
    "# چون دو تا گزینه میخواد پس ایندفعه باید دیکشنری تعریف کنم\n",
    "# هم ژانر مهمه هم ریت هم اسم\n",
    "\n",
    "{movie[\"genre\"]: movie[\"title\"] for movie in movies if # movie[rating] ????}"
   ]
  },
  {
   "cell_type": "code",
   "execution_count": 59,
   "id": "277c716b",
   "metadata": {},
   "outputs": [
    {
     "name": "stdout",
     "output_type": "stream",
     "text": [
      "Sci-Fi: Inception\n",
      "Drama: The Godfather\n",
      "Thriller: Parasite\n",
      "Action: The Dark Knight\n",
      "Animation: Spirited Away\n"
     ]
    }
   ],
   "source": [
    "best_movies = {} # make an empty bowl, to store the best movie of each genre\n",
    "\n",
    "for movie in movies: # loop through all movies one by one\n",
    "    genre = movie[\"genre\"] # grab the genre of the movie\n",
    "    rating = movie[\"rating\"] # grab its rating\n",
    "\n",
    "    if genre not in best_movies: # if this genre is NOT in our bowl yet\n",
    "        best_movies[genre] = movie # just put this movie ther\n",
    "    \n",
    "    else: # ok so the genre is already in the bowl, now what?\n",
    "\n",
    "        # check if this movie has a HIGHER rating than the one we already have\n",
    "        if rating > best_movies[genre][\"rating\"]:\n",
    "            best_movies[genre] = movie # if it's better, replace the old one\n",
    "\n",
    "\n",
    "for genre, movie in best_movies.items(): # now we wanna print out the winners\n",
    "    print(f\"{genre}: {movie['title']}\")  # show genre + the title of the best movie in that genre"
   ]
  },
  {
   "cell_type": "code",
   "execution_count": 58,
   "id": "04507b1b",
   "metadata": {},
   "outputs": [
    {
     "name": "stdout",
     "output_type": "stream",
     "text": [
      "Action: 8.47\n",
      "Thriller: 7.93\n",
      "Animation: 8.10\n",
      "Sci-Fi: 7.84\n",
      "Drama: 7.90\n"
     ]
    }
   ],
   "source": [
    "for genre in genres_set:\n",
    "    ratings = [movie[\"rating\"] for movie in movies if movie[\"genre\"] == genre]\n",
    "    average = sum(ratings) / len(ratings)\n",
    "    print(f\"{genre}: {average:.2f}\")"
   ]
  },
  {
   "cell_type": "code",
   "execution_count": 57,
   "id": "0307f2c8",
   "metadata": {},
   "outputs": [
    {
     "ename": "SyntaxError",
     "evalue": "did you forget parentheses around the comprehension target? (1207205153.py, line 22)",
     "output_type": "error",
     "traceback": [
      "  \u001b[36mCell\u001b[39m\u001b[36m \u001b[39m\u001b[32mIn[57]\u001b[39m\u001b[32m, line 22\u001b[39m\n\u001b[31m    \u001b[39m\u001b[31m{movie[\"title\"], movie[\"rating\"] for movie in movies if user_input in movie[\"rating\"]}\u001b[39m\n     ^\n\u001b[31mSyntaxError\u001b[39m\u001b[31m:\u001b[39m did you forget parentheses around the comprehension target?\n"
     ]
    }
   ],
   "source": [
    "# part 4: movies that are shorter than 90 min\n",
    "# I’m saying, go find movies with this runtime, but what about the title?\n",
    "[movie[\"duration\"] for movie in movies if movie[\"duration\"] < 90]\n",
    "# # The one below is probably better\n",
    "l1 = [movie[\"title\"] for movie in movies if movie[\"duration\"] < 90]\n",
    "print(l1)\n",
    "# i need a nice print statement!\n",
    "# maybe I want to show their durations next to their titles\n",
    "\n",
    "# part 5\n",
    "user_input = input(\"input your favorite genre\").lower().strip()\n",
    "# i thought maybe a try/except is needed in case the user enters a genre that doesn't exist.\n",
    "try:\n",
    "    pass\n",
    "except:\n",
    "    pass\n",
    "# or maybe an if-statement is enough?\n",
    "\n",
    "# i have no idea how to properly define that dictionary with comprehension\n",
    "# but here is my attempt:\n",
    "\n",
    "{movie[\"title\"], movie[\"rating\"] for movie in movies if user_input in movie[\"rating\"]}\n",
    "\n",
    "# freakin hell. idk."
   ]
  },
  {
   "cell_type": "code",
   "execution_count": 56,
   "id": "60b51f44",
   "metadata": {},
   "outputs": [
    {
     "name": "stdout",
     "output_type": "stream",
     "text": [
      "\n",
      " Short films (under 90 minutes):\n",
      "- A Short Film About Love 87 min\n",
      "- Perfect Blue 81 min\n",
      "\n",
      " Movies in 'sci-fi' genre:\n",
      "- Inception: 8.8\n",
      "- Interstellar: 8.6\n",
      "- Dune: 8.1\n",
      "- Her: 8.0\n",
      "- Blade Runner 2049: 8.0\n",
      "- Snowpiercer: 7.1\n",
      "- Tenet: 7.4\n",
      "- Arrival: 7.9\n",
      "- Ex Machina: 7.7\n",
      "- Annihilation: 6.8\n"
     ]
    }
   ],
   "source": [
    "# part 4: movies that are shorter than 90 min\n",
    "short_movies = [movie for movie in movies if movie[\"duration\"] < 90]\n",
    "\n",
    "if short_movies:\n",
    "    print(\"\\n Short films (under 90 minutes):\")\n",
    "    for movie in short_movies:\n",
    "        print(f\"- {movie[\"title\"]} {movie[\"duration\"]} min\")\n",
    "else:\n",
    "    print(\"No short films found!\")\n",
    "\n",
    "# Or\n",
    "\n",
    "short_movies_ii = [movie[\"title\"] for movie in movies if movie[\"duration\"] < 90]\n",
    "\n",
    "# -----------------------------------------------------------------------\n",
    "\n",
    "# part 5: let the user input a genre and show all movies in that genre\n",
    "# \"title\": \"rating\"\n",
    "user_input = input(\"\\nInput your favorite genre: \").lower().strip()\n",
    "# no need to try/except an if statement would be enough.\n",
    "\n",
    "# let's built the dictionary\n",
    "movies_in_genre = {\n",
    "    movie[\"title\"]: movie[\"rating\"]\n",
    "    for movie in movies\n",
    "    if movie[\"genre\"].lower() == user_input\n",
    "}\n",
    "\n",
    "if movies_in_genre:\n",
    "    print(f\"\\n Movies in '{user_input}' genre:\")\n",
    "    for title, rating in movies_in_genre.items():\n",
    "        print(f\"- {title}: {rating}\")\n",
    "\n",
    "else:\n",
    "    print(f\"Oops, no movies found in genre '{user_input}'!!\")\n"
   ]
  },
  {
   "cell_type": "code",
   "execution_count": 55,
   "id": "77d9d6cc",
   "metadata": {},
   "outputs": [
    {
     "name": "stdout",
     "output_type": "stream",
     "text": [
      "31.82\n"
     ]
    }
   ],
   "source": [
    "# Task 6!\n",
    "# only me version\n",
    "\n",
    "total_count = [movie for movie in movies if movie[\"genre\"] == genre]\n",
    "len(total_count)\n",
    "\n",
    "good_ones = [movie for movie in movies if movie[\"genre\"] == genre and movie[\"rating\"] > 8]\n",
    "\n",
    "darsad = (len(good_ones) / len(total_count)) * 100\n",
    "\n",
    "print(f\"{darsad:.2f}\")\n",
    "\n",
    "# ??? idk what this really means... which genre is it using here?\n",
    "# does it just pick one randomly or what??\n"
   ]
  },
  {
   "cell_type": "code",
   "execution_count": 54,
   "id": "360af9fa",
   "metadata": {},
   "outputs": [
    {
     "name": "stdout",
     "output_type": "stream",
     "text": [
      "Action: 100.00%\n",
      "Thriller: 60.00%\n",
      "Animation: 60.00%\n",
      "Sci-Fi: 30.00%\n",
      "Drama: 31.82%\n"
     ]
    }
   ],
   "source": [
    "# Task 6: Percentage of movies in each genre with rating above 8.\n",
    "\n",
    "for genre in genres_set:\n",
    "    # get all movies in this genre\n",
    "    movies_in_genre = [movie for movie in movies if movie[\"genre\"] == genre]\n",
    "\n",
    "    total_count = len(movies_in_genre)\n",
    "\n",
    "    # now we get only the \"good\" movies (rating > 8)\n",
    "    good_ones = [movie for movie in movies_in_genre if movie[\"rating\"] > 8]\n",
    "    good_count = len(good_ones)\n",
    "\n",
    "    if total_count > 0: # just to avoid division by zero error\n",
    "        percentage = (good_count / total_count) * 100\n",
    "        print(f\"{genre}: {percentage:.2f}%\")\n",
    "    else:\n",
    "        print(f\"{genre}: No movies found!\")"
   ]
  }
 ],
 "metadata": {
  "kernelspec": {
   "display_name": "envone",
   "language": "python",
   "name": "python3"
  },
  "language_info": {
   "codemirror_mode": {
    "name": "ipython",
    "version": 3
   },
   "file_extension": ".py",
   "mimetype": "text/x-python",
   "name": "python",
   "nbconvert_exporter": "python",
   "pygments_lexer": "ipython3",
   "version": "3.13.2"
  }
 },
 "nbformat": 4,
 "nbformat_minor": 5
}
