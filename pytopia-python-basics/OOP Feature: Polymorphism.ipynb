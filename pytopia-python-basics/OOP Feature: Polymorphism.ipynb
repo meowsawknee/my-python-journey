{
 "cells": [
  {
   "cell_type": "code",
   "execution_count": 22,
   "id": "8df1c070",
   "metadata": {},
   "outputs": [],
   "source": [
    "# Polymorphism exercise - Pytopia\n",
    "# We've already done this before, this one feels like a deeper review.\n",
    "# We're just going a bit deeper into the same concept, probablt a diffrent flavor of the same idea."
   ]
  },
  {
   "cell_type": "code",
   "execution_count": 18,
   "id": "38a4fffc",
   "metadata": {},
   "outputs": [],
   "source": [
    "# Part 1 complete:\n",
    "# Defined a base Document class three subclass (PDF, Word, Spreadsheet),\n",
    "# each overriding the display() method to show document-specific messages.\n",
    "\n",
    "class Document:\n",
    "    \"\"\"Base class for all document types.\"\"\"\n",
    "\n",
    "    def display(self):\n",
    "        \"\"\"Display a generic document message.\"\"\"\n",
    "        print(\"Displaying a document.\")\n",
    "\n",
    "class PDF(Document):\n",
    "    \"\"\"Represents a PDF document.\"\"\"\n",
    "\n",
    "    def display(self):\n",
    "        \"\"\"Display a message for PDF documents.\"\"\"\n",
    "        print(\"Displaying PDF document.\")\n",
    "\n",
    "class Word(Document):\n",
    "    \"\"\"Represents a Word document.\"\"\"\n",
    "    def display(self):\n",
    "        \"\"\"Display a message for Word documents.\"\"\"\n",
    "        print(\"Displaying a Word document.\")\n",
    "\n",
    "class Spreadsheet(Document):\n",
    "    \"\"\"Represents a Spreadsheet document.\"\"\"\n",
    "    def display(self):\n",
    "        \"\"\"Represents a Spreadsheed document.\"\"\"\n",
    "        print(\"Displaying Spreadsheet document.\")\n"
   ]
  },
  {
   "cell_type": "code",
   "execution_count": 19,
   "id": "a728ca78",
   "metadata": {},
   "outputs": [
    {
     "name": "stdout",
     "output_type": "stream",
     "text": [
      "Displaying PDF document.\n",
      "Displaying a Word document.\n",
      "Displaying Spreadsheet document.\n"
     ]
    }
   ],
   "source": [
    "# Part 2: Demonstrate Polymorphism\n",
    "# Demonstrated polymorphism using a shared display_document() function\n",
    "# that works seamlessly with different Document subclass (PDF, Word, Spreadsheet).\n",
    "def display_document(document):\n",
    "    \"\"\"Call the display method of any Document object.\"\"\"\n",
    "    document.display()\n",
    "\n",
    "# Create instances\n",
    "obj_1 = PDF()\n",
    "obj_2 = Word()\n",
    "obj_3 = Spreadsheet()\n",
    "\n",
    "# Store them in a list\n",
    "documents = [obj_1, obj_2, obj_3]\n",
    "\n",
    "# Loop through and call the shared interface\n",
    "for document in documents:\n",
    "    display_document(document)\n"
   ]
  },
  {
   "cell_type": "code",
   "execution_count": 20,
   "id": "15f89de0",
   "metadata": {},
   "outputs": [
    {
     "name": "stdout",
     "output_type": "stream",
     "text": [
      "Displaying a Word document.\n",
      "Displaying PDF document.\n"
     ]
    }
   ],
   "source": [
    "# Part 3: Explore Dynamic Typing\n",
    "# Demonstrated dynamic typing by reassigning a variable to a new instance\n",
    "# of a diffrent subclass using a function that accepts a class as input.\n",
    "current_doc = Word()\n",
    "current_doc.display()\n",
    "def change_document_type(current_doc, new_type):\n",
    "    \"\"\"Return a new instance of the specified document type.\"\"\"\n",
    "    return new_type()\n",
    "current_doc = change_document_type(current_doc, PDF)\n",
    "current_doc.display()\n",
    "\n"
   ]
  },
  {
   "cell_type": "code",
   "execution_count": 21,
   "id": "e8b90c5c",
   "metadata": {},
   "outputs": [],
   "source": [
    "# Part 4: Reflection\n",
    "# By using polymorphism, we were able to write a function that works correctly\n",
    "# without needing to know the exact type of each class. this makes out code more\n",
    "# extensible and cleaner.\n",
    "# With dynamic typing, we could change the type of a document during runtime. \n",
    "# This allows Python to handle different types of data more flexibly, without\n",
    "# being limited by strict type definitions."
   ]
  }
 ],
 "metadata": {
  "kernelspec": {
   "display_name": "envone",
   "language": "python",
   "name": "python3"
  },
  "language_info": {
   "codemirror_mode": {
    "name": "ipython",
    "version": 3
   },
   "file_extension": ".py",
   "mimetype": "text/x-python",
   "name": "python",
   "nbconvert_exporter": "python",
   "pygments_lexer": "ipython3",
   "version": "3.13.2"
  }
 },
 "nbformat": 4,
 "nbformat_minor": 5
}
