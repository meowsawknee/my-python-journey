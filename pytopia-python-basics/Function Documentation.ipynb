{
 "cells": [
  {
   "cell_type": "code",
   "execution_count": 10,
   "id": "18e452ea",
   "metadata": {},
   "outputs": [],
   "source": [
    "# Pytopia Lesson: Function Documentation\n",
    "# I know I won't remeber all these styles just by doing them once\n",
    "# but it was fun - this excercise gave me a good overview of the different options.\n",
    "# In the real projects, time will tell which one fits best. I'll figure it out as I go."
   ]
  },
  {
   "cell_type": "code",
   "execution_count": 11,
   "id": "9a20490a",
   "metadata": {},
   "outputs": [],
   "source": [
    "def calculate_rectangle_area(width: float, height: float) -> float:\n",
    "    \"\"\"\n",
    "    Calculates the areas of rectangle.\n",
    "\n",
    "    Args:\n",
    "        width (float): The width of the rectangle.\n",
    "        height (float): The height of the rectangle.\n",
    "\n",
    "    Returns:\n",
    "        float: The calculated area of the rectangle\n",
    "    \"\"\"\n",
    "    return round(width * height, 2)"
   ]
  },
  {
   "cell_type": "code",
   "execution_count": 12,
   "id": "a939b776",
   "metadata": {},
   "outputs": [
    {
     "data": {
      "text/plain": [
       "'\\nCalculates the areas of rectangle.\\n\\nArgs:\\n    width (float): The width of the rectangle.\\n    height (float): The height of the rectangle.\\n\\nReturns:\\n    float: The calculated area of the rectangle\\n'"
      ]
     },
     "execution_count": 12,
     "metadata": {},
     "output_type": "execute_result"
    }
   ],
   "source": [
    "calculate_rectangle_area.__doc__"
   ]
  },
  {
   "cell_type": "code",
   "execution_count": 13,
   "id": "4faaaa3d",
   "metadata": {},
   "outputs": [
    {
     "name": "stdout",
     "output_type": "stream",
     "text": [
      "Help on function calculate_rectangle_area in module __main__:\n",
      "\n",
      "calculate_rectangle_area(width: float, height: float) -> float\n",
      "    Calculates the areas of rectangle.\n",
      "\n",
      "    Args:\n",
      "        width (float): The width of the rectangle.\n",
      "        height (float): The height of the rectangle.\n",
      "\n",
      "    Returns:\n",
      "        float: The calculated area of the rectangle\n",
      "\n"
     ]
    }
   ],
   "source": [
    "help(calculate_rectangle_area)\n",
    "# i like this one better, it just looks nicer."
   ]
  },
  {
   "cell_type": "code",
   "execution_count": 14,
   "id": "ff76e47b",
   "metadata": {},
   "outputs": [
    {
     "data": {
      "text/plain": [
       "58.49"
      ]
     },
     "execution_count": 14,
     "metadata": {},
     "output_type": "execute_result"
    }
   ],
   "source": [
    "calculate_rectangle_area(6.5, 8.999)"
   ]
  },
  {
   "cell_type": "code",
   "execution_count": 15,
   "id": "21c8bfe0",
   "metadata": {},
   "outputs": [],
   "source": [
    "# Well-documented function using NumPy-style docstring.\n",
    "# Clean and professional formatting .\n",
    "# perfect for scientific or data-focused projects.\n",
    "\n",
    "def calculate_rectangle_area(width: float, height: float) -> float:\n",
    "    \"\"\"\n",
    "    Calculates the area of a rectangle.\n",
    "\n",
    "    Parameters\n",
    "    ----------\n",
    "    width : float\n",
    "        The width of the rectangle.\n",
    "    height : float\n",
    "        The height of the rectangle.\n",
    "    \n",
    "    Returns\n",
    "    ----------\n",
    "    float\n",
    "        The calculated area of the rectangle.\n",
    "    \"\"\"\n",
    "    return round(width * height, 2)"
   ]
  },
  {
   "cell_type": "code",
   "execution_count": 16,
   "id": "a290be59",
   "metadata": {},
   "outputs": [
    {
     "name": "stdout",
     "output_type": "stream",
     "text": [
      "Help on function calculate_rectangle_area in module __main__:\n",
      "\n",
      "calculate_rectangle_area(width: float, height: float) -> float\n",
      "    Calculates the area of a rectangle.\n",
      "\n",
      "    Parameters\n",
      "    ----------\n",
      "    width : float\n",
      "        The width of the rectangle.\n",
      "    height : float\n",
      "        The height of the rectangle.\n",
      "\n",
      "    Returns\n",
      "    ----------\n",
      "    float\n",
      "        The calculated area of the rectangle.\n",
      "\n"
     ]
    }
   ],
   "source": [
    "help(calculate_rectangle_area)"
   ]
  },
  {
   "cell_type": "code",
   "execution_count": 17,
   "id": "f2cb8c9a",
   "metadata": {},
   "outputs": [],
   "source": [
    "# Fully documented with reStructuredText-style docstring.\n",
    "# Ideal for generating professional documentation using tools like Sphinx.\n",
    "\n",
    "def calculate_rectangle_area(width: float, height: float) -> float:\n",
    "    \"\"\"\n",
    "    Calculates the area of a rectangle.\n",
    "\n",
    "    :param width: The width of the rectangle.\n",
    "    :type width: float\n",
    "    :param height: The height of the rectangle.\n",
    "    :type height: float\n",
    "    :return: The calculated area of the rectangle.\n",
    "    :rtype: float\n",
    "\n",
    "    \"\"\"\n",
    "    return round(width * height, 2)"
   ]
  },
  {
   "cell_type": "code",
   "execution_count": 18,
   "id": "6bb754ca",
   "metadata": {},
   "outputs": [
    {
     "name": "stdout",
     "output_type": "stream",
     "text": [
      "Help on function calculate_rectangle_area in module __main__:\n",
      "\n",
      "calculate_rectangle_area(width: float, height: float) -> float\n",
      "    Calculates the area of a rectangle.\n",
      "\n",
      "    :param width: The width of the rectangle.\n",
      "    :type width: float\n",
      "    :param height: The height of the rectangle.\n",
      "    :type height: float\n",
      "    :return: The calculated area of the rectangle.\n",
      "    :rtype: float\n",
      "\n"
     ]
    }
   ],
   "source": [
    "help(calculate_rectangle_area)"
   ]
  }
 ],
 "metadata": {
  "kernelspec": {
   "display_name": "envone",
   "language": "python",
   "name": "python3"
  },
  "language_info": {
   "codemirror_mode": {
    "name": "ipython",
    "version": 3
   },
   "file_extension": ".py",
   "mimetype": "text/x-python",
   "name": "python",
   "nbconvert_exporter": "python",
   "pygments_lexer": "ipython3",
   "version": "3.13.2"
  }
 },
 "nbformat": 4,
 "nbformat_minor": 5
}
