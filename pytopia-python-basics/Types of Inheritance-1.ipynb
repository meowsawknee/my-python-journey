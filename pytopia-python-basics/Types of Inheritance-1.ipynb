{
 "cells": [
  {
   "cell_type": "code",
   "execution_count": 10,
   "id": "ce4ad74f",
   "metadata": {},
   "outputs": [],
   "source": [
    "# Exercise: Types of Inheritance = Pytopia\n",
    "# Important to understand which type of inheritance is useful in which scenario\n",
    "# 95% of the time multiple inheritance is not the best choice\n",
    "# keep it simple and use inheritance to avoid code duplication"
   ]
  },
  {
   "cell_type": "code",
   "execution_count": 21,
   "id": "3c14fec4",
   "metadata": {},
   "outputs": [],
   "source": [
    "# Part 1: Build the Person class + Single Inheritance\n",
    "# Create the base class 'Person' with name and age attributes, and an introduce method\n",
    "class Person:\n",
    "    def __init__(self, name, age):\n",
    "        self.name = name\n",
    "        self.age = age\n",
    "    \n",
    "    def introduce(self):\n",
    "        return f\"Hi, my name is {self.name} and I'm {self.age} years old.\"\n",
    "\n",
    "# Create a subclass 'UniversityMember' that inherits from 'Person'\n",
    "# It doesn't add any extra logic for now\n",
    "class UniversityMember(Person):\n",
    "    def __init__(self, name, age):\n",
    "        super().__init__(name, age)\n",
    "\n",
    "    def introduce(self):\n",
    "        return super().introduce()"
   ]
  },
  {
   "cell_type": "code",
   "execution_count": 22,
   "id": "53762d90",
   "metadata": {},
   "outputs": [],
   "source": [
    "# Part 2: Multilevel Inheritance\n",
    "# Add another lever to the hierarchy: both 'Student' and 'Instructor' inherit from 'UniversityMember',\n",
    "# which itself inherits from 'Person'. This creates a 3-level chain of inheritance.\n",
    "\n",
    "# Create a subclass 'Student' that inherits from 'UniversityMember'\n",
    "class Student(UniversityMember):\n",
    "    def __init__(self, name, age, student_id):\n",
    "        super().__init__(name, age)\n",
    "        self.student_id = student_id\n",
    "\n",
    "    def introduce(self):\n",
    "        base_info = super().introduce()\n",
    "        return f\"{base_info} I'm a student with student ID {self.student_id}.\"\n",
    "    \n",
    "# Create a subclass 'Instructor' that inherits from 'UniversityMember'\n",
    "class Instructor(UniversityMember):\n",
    "    def __init__(self, name, age, instructor_id):\n",
    "        super().__init__(name, age)\n",
    "        self.instructor_id = instructor_id\n",
    "\n",
    "    def introduce(self):\n",
    "        base_info = super().introduce()\n",
    "        return f\"{base_info} I'm an instructor with instructor ID {self.instructor_id}.\""
   ]
  },
  {
   "cell_type": "code",
   "execution_count": 24,
   "id": "2a0c91cc",
   "metadata": {},
   "outputs": [
    {
     "name": "stdout",
     "output_type": "stream",
     "text": [
      "Hi, my name is Alice and I'm 22 years old. I'm a student with student ID S553789.\n",
      "Hi, my name is Dr. Smith and I'm 45 years old. I'm an instructor with instructor ID E7890.\n"
     ]
    }
   ],
   "source": [
    "# Demonstrating hierarchical inheritance:\n",
    "# Both 'Student' and 'Instructor' inherit from the same parent class 'UniversityMember',\n",
    "# but they represent different types of university members.\n",
    "\n",
    "# Now let's create some objects and test their output\n",
    "student_1 = Student(\"Alice\", 22, \"S553789\")\n",
    "print(student_1.introduce())\n",
    "instructor_1 = Instructor(\"Dr. Smith\", 45, \"E7890\")\n",
    "print(instructor_1.introduce())"
   ]
  }
 ],
 "metadata": {
  "kernelspec": {
   "display_name": "envone",
   "language": "python",
   "name": "python3"
  },
  "language_info": {
   "codemirror_mode": {
    "name": "ipython",
    "version": 3
   },
   "file_extension": ".py",
   "mimetype": "text/x-python",
   "name": "python",
   "nbconvert_exporter": "python",
   "pygments_lexer": "ipython3",
   "version": "3.13.2"
  }
 },
 "nbformat": 4,
 "nbformat_minor": 5
}
