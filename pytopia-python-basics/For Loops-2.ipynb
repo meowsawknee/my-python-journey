{
 "cells": [
  {
   "cell_type": "code",
   "execution_count": 2,
   "id": "142e9412",
   "metadata": {},
   "outputs": [],
   "source": [
    "# May the Force be with you.\n",
    "# Date: 4 May 2025\n",
    "#\n",
    "# My progress and mistakes on this project:\n",
    "#\n",
    "# 1. First just took an input and printed it.\n",
    "# 2. Tried counting total letters but was counting spaces and symbols too.\n",
    "# 3. Realized I needed to count only alphabet letters -> used isalpha().\n",
    "# 4. Tried to count frequency with a dict, used update(i) -> got error because update needs key,value.\n",
    "# 5. Learned I should do letter_frequency[i] = 1 instead.\n",
    "# 6. At first tried i += 1 to increment -> realized I should do letter_frequency[i] += 1.\n",
    "# 7. Output dict printed in one line -> fixed it with a for loop to print each letter separately.\n",
    "# 8. Wanted letters sorted -> added sorted(letter_frequency.keys()).\n",
    "# 9. Made it case-insensitive -> added i.lower().\n",
    "# 10. Added percentage calculation -> (freq / letter_counter) * 100.\n",
    "# Finally combined count + percentage in a clean print line.\n"
   ]
  },
  {
   "cell_type": "code",
   "execution_count": 3,
   "id": "075fa7ef",
   "metadata": {},
   "outputs": [
    {
     "name": "stdout",
     "output_type": "stream",
     "text": [
      "Number of letters: 21\n"
     ]
    },
    {
     "data": {
      "text/plain": [
       "True"
      ]
     },
     "execution_count": 3,
     "metadata": {},
     "output_type": "execute_result"
    }
   ],
   "source": [
    "user_text = input(\"Please insert your text\")\n",
    "\n",
    "all_of_it = len(user_text)\n",
    "\n",
    "letter_counter = 0\n",
    "for i in user_text:\n",
    "    letter_counter += 1\n",
    "\n",
    "print(f\"Number of letters: {letter_counter}\")\n",
    "\n",
    "letter_counter == all_of_it"
   ]
  },
  {
   "cell_type": "code",
   "execution_count": 4,
   "id": "2fd0b993",
   "metadata": {},
   "outputs": [
    {
     "name": "stdout",
     "output_type": "stream",
     "text": [
      "Number of letters: 25\n"
     ]
    },
    {
     "data": {
      "text/plain": [
       "False"
      ]
     },
     "execution_count": 4,
     "metadata": {},
     "output_type": "execute_result"
    }
   ],
   "source": [
    "user_text = input(\"Please insert your text\")\n",
    "\n",
    "all_of_it = len(user_text)\n",
    "\n",
    "letter_counter = 0\n",
    "for i in user_text:\n",
    "    if i.isalpha():\n",
    "        letter_counter += 1\n",
    "\n",
    "print(f\"Number of letters: {letter_counter}\")\n",
    "\n",
    "letter_counter == all_of_it"
   ]
  },
  {
   "cell_type": "code",
   "execution_count": 5,
   "id": "deb99fe8",
   "metadata": {},
   "outputs": [
    {
     "ename": "ValueError",
     "evalue": "dictionary update sequence element #0 has length 1; 2 is required",
     "output_type": "error",
     "traceback": [
      "\u001b[31m---------------------------------------------------------------------------\u001b[39m",
      "\u001b[31mValueError\u001b[39m                                Traceback (most recent call last)",
      "\u001b[36mCell\u001b[39m\u001b[36m \u001b[39m\u001b[32mIn[5]\u001b[39m\u001b[32m, line 6\u001b[39m\n\u001b[32m      4\u001b[39m \u001b[38;5;28;01mfor\u001b[39;00m i \u001b[38;5;129;01min\u001b[39;00m user_text:\n\u001b[32m      5\u001b[39m     \u001b[38;5;28;01mif\u001b[39;00m i \u001b[38;5;129;01mnot\u001b[39;00m \u001b[38;5;129;01min\u001b[39;00m \u001b[38;5;28menumerate\u001b[39m(letter_frequency):\n\u001b[32m----> \u001b[39m\u001b[32m6\u001b[39m         letter_frequency.update(i)\n\u001b[32m      7\u001b[39m     \u001b[38;5;28;01mif\u001b[39;00m i \u001b[38;5;129;01min\u001b[39;00m letter_frequency:\n\u001b[32m      8\u001b[39m         i += \u001b[32m1\u001b[39m\n",
      "\u001b[31mValueError\u001b[39m: dictionary update sequence element #0 has length 1; 2 is required"
     ]
    }
   ],
   "source": [
    "user_text = input(\"Please insert your text\")\n",
    "\n",
    "letter_frequency = {}\n",
    "for i in user_text:\n",
    "    if i not in enumerate(letter_frequency):\n",
    "        letter_frequency.update(i)\n",
    "    if i in letter_frequency:\n",
    "        i += 1\n",
    "\n",
    "print(letter_frequency)\n"
   ]
  },
  {
   "cell_type": "code",
   "execution_count": 6,
   "id": "d20c755f",
   "metadata": {},
   "outputs": [
    {
     "name": "stdout",
     "output_type": "stream",
     "text": [
      "{'o': 4, 'h': 5, ' ': 9, 'j': 1, 'e': 2, 'z': 1, 'm': 1, 'a': 3, 'n': 1, 't': 3, 'i': 3, 's': 3, 'w': 1, 'y': 1, 'r': 1, 'd': 1, '!': 21}\n"
     ]
    }
   ],
   "source": [
    "user_text = input(\"Please insert your text\")\n",
    "\n",
    "letter_frequency = {}\n",
    "for i in user_text:\n",
    "    if i not in letter_frequency:\n",
    "        letter_frequency[i] = 1\n",
    "    else:\n",
    "        letter_frequency[i] += 1\n",
    "\n",
    "print(letter_frequency)\n",
    "    \n"
   ]
  },
  {
   "cell_type": "code",
   "execution_count": 7,
   "id": "f1ca61be",
   "metadata": {},
   "outputs": [
    {
     "name": "stdout",
     "output_type": "stream",
     "text": [
      "Your text : This program counts the total number of letters and how many times each letter appears.\n",
      "Lentgh of the text: 87\n",
      "Number of letters: 72\n",
      "Letter 'T' appeared 1 times in your text!\n",
      "Letter 'h' appeared 4 times in your text!\n",
      "Letter 'i' appeared 2 times in your text!\n",
      "Letter 's' appeared 5 times in your text!\n",
      "Letter 'p' appeared 3 times in your text!\n",
      "Letter 'r' appeared 6 times in your text!\n",
      "Letter 'o' appeared 5 times in your text!\n",
      "Letter 'g' appeared 1 times in your text!\n",
      "Letter 'a' appeared 7 times in your text!\n",
      "Letter 'm' appeared 4 times in your text!\n",
      "Letter 'c' appeared 2 times in your text!\n",
      "Letter 'u' appeared 2 times in your text!\n",
      "Letter 'n' appeared 4 times in your text!\n",
      "Letter 't' appeared 9 times in your text!\n",
      "Letter 'e' appeared 9 times in your text!\n",
      "Letter 'l' appeared 3 times in your text!\n",
      "Letter 'b' appeared 1 times in your text!\n",
      "Letter 'f' appeared 1 times in your text!\n",
      "Letter 'd' appeared 1 times in your text!\n",
      "Letter 'w' appeared 1 times in your text!\n",
      "Letter 'y' appeared 1 times in your text!\n"
     ]
    }
   ],
   "source": [
    "user_text = input(\"Please insert your text\")\n",
    "print(f\"Your text : {user_text}\")\n",
    "\n",
    "letter_counter = 0\n",
    "# Count total number of characters by iterating manually\n",
    "for i in user_text:\n",
    "    letter_counter += 1\n",
    "\n",
    "print(f\"Lentgh of the text: {letter_counter}\")\n",
    "\n",
    "# count only alphabetic characters\n",
    "letter_counter = 0\n",
    "for i in user_text:\n",
    "    if i.isalpha():\n",
    "        letter_counter += 1\n",
    "\n",
    "print(f\"Number of letters: {letter_counter}\")\n",
    "\n",
    "# Create an empty dictionary to store frequency of each letter\n",
    "letter_frequency = {}\n",
    "for i in user_text:\n",
    "    if i.isalpha():\n",
    "        if i not in letter_frequency:\n",
    "            letter_frequency[i] = 1 # First occurrence\n",
    "        else:\n",
    "            letter_frequency[i] += 1 # Increment count if letter already exists\n",
    "\n",
    "for alpha , freq in letter_frequency.items():\n",
    "    print(f\"Letter '{alpha}' appeared {freq} times in your text!\")"
   ]
  },
  {
   "cell_type": "code",
   "execution_count": 8,
   "id": "b2cc7e2c",
   "metadata": {},
   "outputs": [
    {
     "name": "stdout",
     "output_type": "stream",
     "text": [
      "Your text : Okay, this is the FINAL final version. No cap.\n",
      "Lentgh of the text: 46\n",
      "Number of letters: 35\n",
      "Number of words: 9\n",
      "Letter 'a' appeared 4 times (11.43% of all letters)\n",
      "Letter 'c' appeared 1 times (2.86% of all letters)\n",
      "Letter 'e' appeared 2 times (5.71% of all letters)\n",
      "Letter 'f' appeared 2 times (5.71% of all letters)\n",
      "Letter 'h' appeared 2 times (5.71% of all letters)\n",
      "Letter 'i' appeared 5 times (14.29% of all letters)\n",
      "Letter 'k' appeared 1 times (2.86% of all letters)\n",
      "Letter 'l' appeared 2 times (5.71% of all letters)\n",
      "Letter 'n' appeared 4 times (11.43% of all letters)\n",
      "Letter 'o' appeared 3 times (8.57% of all letters)\n",
      "Letter 'p' appeared 1 times (2.86% of all letters)\n",
      "Letter 'r' appeared 1 times (2.86% of all letters)\n",
      "Letter 's' appeared 3 times (8.57% of all letters)\n",
      "Letter 't' appeared 2 times (5.71% of all letters)\n",
      "Letter 'v' appeared 1 times (2.86% of all letters)\n",
      "Letter 'y' appeared 1 times (2.86% of all letters)\n"
     ]
    }
   ],
   "source": [
    "user_text = input(\"Please insert your text\")\n",
    "print(f\"Your text : {user_text}\")\n",
    "\n",
    "# Count total number of characters by iterating manually\n",
    "letter_counter = 0\n",
    "for i in user_text:\n",
    "    letter_counter += 1\n",
    "\n",
    "print(f\"Lentgh of the text: {letter_counter}\")\n",
    "\n",
    "# count only alphabetic characters\n",
    "letter_counter = 0\n",
    "for i in user_text:\n",
    "    if i.isalpha():\n",
    "        letter_counter += 1\n",
    "\n",
    "print(f\"Number of letters: {letter_counter}\")\n",
    "\n",
    "word_count = len(user_text.split())\n",
    "print(f\"Number of words: {word_count}\")\n",
    "\n",
    "# Create an empty dictionary to store frequency of each letter\n",
    "letter_frequency = {}\n",
    "for i in user_text:\n",
    "    if i.isalpha():\n",
    "        i = i.lower()\n",
    "        if i not in letter_frequency:\n",
    "            letter_frequency[i] = 1 # First occurrence\n",
    "        else:\n",
    "            letter_frequency[i] += 1 # Increment count if letter already exists\n",
    "\n",
    "for alpha in sorted(letter_frequency.keys()):\n",
    "    freq = letter_frequency[alpha]\n",
    "    percentage = (freq / letter_counter) * 100\n",
    "    print(f\"Letter '{alpha}' appeared {freq} times ({percentage:.2f}% of all letters)\")\n"
   ]
  }
 ],
 "metadata": {
  "kernelspec": {
   "display_name": "envone",
   "language": "python",
   "name": "python3"
  },
  "language_info": {
   "codemirror_mode": {
    "name": "ipython",
    "version": 3
   },
   "file_extension": ".py",
   "mimetype": "text/x-python",
   "name": "python",
   "nbconvert_exporter": "python",
   "pygments_lexer": "ipython3",
   "version": "3.13.2"
  }
 },
 "nbformat": 4,
 "nbformat_minor": 5
}
