{
 "cells": [
  {
   "cell_type": "code",
   "execution_count": 9,
   "id": "594d3b5d",
   "metadata": {},
   "outputs": [],
   "source": [
    "# this pytopia exercise is designed to practice basic class inheritance,\n",
    "# using super() for parent class initialization, and method overriding.\n",
    "# by building an Employee and a Maneger class, we demonstrate how shared logic can be reused\n",
    "# while allowing subclasses to introduce specific behavior."
   ]
  },
  {
   "cell_type": "code",
   "execution_count": 19,
   "id": "25a0f963",
   "metadata": {},
   "outputs": [],
   "source": [
    "# Employee Class Definition\n",
    "# Defines a basic employee with name and email attributes.\n",
    "# Includes a method to return formatted employee information.\n",
    "\n",
    "class Employee:\n",
    "    def __init__(self, name, email):\n",
    "        self.name = name\n",
    "        self.email = email\n",
    "    \n",
    "    def get_info(self):\n",
    "        return f\"Name: {self.name}\\nEmail: {self.email}\"\n",
    "    "
   ]
  },
  {
   "cell_type": "code",
   "execution_count": 20,
   "id": "def78c44",
   "metadata": {},
   "outputs": [],
   "source": [
    "# Maneger Class Definition (Inherits from Employee)\n",
    "# Extends the Employee class by adding a department attribute.\n",
    "# Override the get_info() method to include department details.\n",
    "\n",
    "class Maneger(Employee):\n",
    "    def __init__(self, name, email, department):\n",
    "        super().__init__(name, email)\n",
    "        self.department = department\n",
    "    \n",
    "    def get_info(self):\n",
    "        base_info = super().get_info()\n",
    "        return f\"{base_info}\\nDepartment: {self.department}\"\n",
    "    "
   ]
  },
  {
   "cell_type": "code",
   "execution_count": 21,
   "id": "0ba3d19e",
   "metadata": {},
   "outputs": [
    {
     "name": "stdout",
     "output_type": "stream",
     "text": [
      "Name: Alice Smith\n",
      "Email: alice@example.com\n",
      "Name: Bob Johnson\n",
      "Email: bob@example.com\n",
      "Department: Engineering\n"
     ]
    }
   ],
   "source": [
    "employee_1 = Employee(\"Alice Smith\", \"alice@example.com\")\n",
    "print(employee_1.get_info())\n",
    "maneger_1 = Maneger(\"Bob Johnson\", \"bob@example.com\", \"Engineering\")\n",
    "print(maneger_1.get_info())"
   ]
  }
 ],
 "metadata": {
  "kernelspec": {
   "display_name": "envone",
   "language": "python",
   "name": "python3"
  },
  "language_info": {
   "codemirror_mode": {
    "name": "ipython",
    "version": 3
   },
   "file_extension": ".py",
   "mimetype": "text/x-python",
   "name": "python",
   "nbconvert_exporter": "python",
   "pygments_lexer": "ipython3",
   "version": "3.13.2"
  }
 },
 "nbformat": 4,
 "nbformat_minor": 5
}
