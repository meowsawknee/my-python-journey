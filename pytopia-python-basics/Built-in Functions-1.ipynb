{
 "cells": [
  {
   "cell_type": "code",
   "execution_count": 23,
   "id": "1d18c66b",
   "metadata": {},
   "outputs": [],
   "source": [
    "# Python Built-in Functions Practice\n",
    "# A complete exercise from Pytopia, covering string, numeric, list, and functional operations using Python built-ins."
   ]
  },
  {
   "cell_type": "code",
   "execution_count": 24,
   "id": "f2cfc8b2",
   "metadata": {},
   "outputs": [
    {
     "name": "stdout",
     "output_type": "stream",
     "text": [
      "All characters: 44\n",
      "Uppercase: THE QUICK BROWN FOX JUMPS OVER THE LAZY DOG.\n",
      "Just letters: 35\n"
     ]
    }
   ],
   "source": [
    "text = \"The quick brown fox jumps over the lazy dog.\"\n",
    "\n",
    "# total characters (including everything)\n",
    "\n",
    "total_chars = len(text)\n",
    "print(\"All characters:\", total_chars)\n",
    "\n",
    "# uppercase version\n",
    "\n",
    "print(\"Uppercase:\", text.upper())\n",
    "\n",
    "# just alphabetic chracters\n",
    "\n",
    "just_letters = len([ch for ch in text if ch.isalpha()])\n",
    "print(\"Just letters:\", just_letters)"
   ]
  },
  {
   "cell_type": "code",
   "execution_count": 25,
   "id": "bc88a46e",
   "metadata": {},
   "outputs": [
    {
     "name": "stdout",
     "output_type": "stream",
     "text": [
      "Sum of all the numbers: 166\n",
      "Maximum number: 78\n",
      "Minimum number: 8\n"
     ]
    }
   ],
   "source": [
    "# task 2: numeric calculations\n",
    "numbers_list = [8, 23, 45, 12, 78]\n",
    "print(\"Sum of all the numbers:\", sum(numbers_list))\n",
    "print(\"Maximum number:\", max(numbers_list))\n",
    "print(\"Minimum number:\", min(numbers_list))"
   ]
  },
  {
   "cell_type": "code",
   "execution_count": 26,
   "id": "26fc785b",
   "metadata": {},
   "outputs": [
    {
     "name": "stdout",
     "output_type": "stream",
     "text": [
      "Occurrences of 10 in mixed_list: 1\n",
      "Original numbers list: [8, 23, 45, 12, 78]\n",
      "Sorted (descenging) numbers list: [78, 45, 23, 12, 8]\n"
     ]
    }
   ],
   "source": [
    "# task 3: list manipulation\n",
    "\n",
    "mixed_list = [\"hello\", 10, \"world\", 42]\n",
    "ten_count = mixed_list.count(10)\n",
    "print(\"Occurrences of 10 in mixed_list:\", ten_count)\n",
    "\n",
    "numbers_list = [8, 23, 45, 12, 78]\n",
    "sorted_desc = sorted(numbers_list, reverse=True)\n",
    "print(\"Original numbers list:\", numbers_list)\n",
    "print(\"Sorted (descenging) numbers list:\", sorted_desc)\n"
   ]
  },
  {
   "cell_type": "code",
   "execution_count": 27,
   "id": "c6693ac0",
   "metadata": {},
   "outputs": [
    {
     "name": "stdout",
     "output_type": "stream",
     "text": [
      "Word excluding 'the': quick, brown, fox, jumps, over, lazy, dog.\n"
     ]
    }
   ],
   "source": [
    "text = \"The quick brown fox jumps over the lazy dog.\"\n",
    "\n",
    "# filter out words that are not 'the'\n",
    "filtered_words = filter(lambda w: w.lower() != \"the\", text.split())\n",
    "print(\"Word excluding 'the':\", \", \".join(filtered_words))\n",
    "\n"
   ]
  },
  {
   "cell_type": "code",
   "execution_count": 28,
   "id": "4d7555f9",
   "metadata": {},
   "outputs": [
    {
     "name": "stdout",
     "output_type": "stream",
     "text": [
      "[64, 529, 2025, 144, 6084]\n"
     ]
    }
   ],
   "source": [
    "numbers_list = [8, 23, 45, 12, 78]\n",
    "squared_numbers = [pow(num, 2) for num in numbers_list]\n",
    "print(squared_numbers)"
   ]
  }
 ],
 "metadata": {
  "kernelspec": {
   "display_name": "envone",
   "language": "python",
   "name": "python3"
  },
  "language_info": {
   "codemirror_mode": {
    "name": "ipython",
    "version": 3
   },
   "file_extension": ".py",
   "mimetype": "text/x-python",
   "name": "python",
   "nbconvert_exporter": "python",
   "pygments_lexer": "ipython3",
   "version": "3.13.2"
  }
 },
 "nbformat": 4,
 "nbformat_minor": 5
}
