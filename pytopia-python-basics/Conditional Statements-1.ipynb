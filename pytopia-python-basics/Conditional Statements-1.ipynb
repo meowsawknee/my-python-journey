{
 "cells": [
  {
   "cell_type": "code",
   "execution_count": 4,
   "id": "e1104d05",
   "metadata": {},
   "outputs": [],
   "source": [
    "# May 3, 2025\n",
    "# First, we get the input\n",
    "# We convert the input to a number\n",
    "# We calculate 30% and 50% of the input and store them in variables\n",
    "# Then we have three cases:\n",
    "# If the age is over 65 → print the ticket price with a 30% discount\n",
    "# If the age is under 14 → print the ticket price with a 50% discount\n",
    "# else → print the full ticket price"
   ]
  },
  {
   "cell_type": "code",
   "execution_count": 3,
   "id": "d26c3320",
   "metadata": {},
   "outputs": [],
   "source": [
    "# This is the final cleaned-up version after debugging with my AI teammate. \n",
    "# In this project, I figured maybe the user might accidentally type a letter next to the number.\n",
    "# To prevent the program from crashing, I asked ChatGPT for a solution.\n",
    "# It suggested try/except.\n",
    "# Then the code didn’t work!\n",
    "# It told me I needed to add an exit at the end.\n",
    "# I did… and my whole code disappeared!\n",
    "# Looks like you shouldn’t use exit in Jupyter!\n"
   ]
  },
  {
   "cell_type": "code",
   "execution_count": 2,
   "id": "82cf2066",
   "metadata": {},
   "outputs": [
    {
     "name": "stdout",
     "output_type": "stream",
     "text": [
      "10 Dollar!\n",
      "Enjoy!\n"
     ]
    }
   ],
   "source": [
    "try:\n",
    "    user_age_input = int(input(\"Enter Your Age Please (e.g : 25)\"))\n",
    "except ValueError:\n",
    "    print(\"Invalid Character! Please enter a number\")\n",
    "    raise SystemExit\n",
    "\n",
    "price = 10\n",
    "upper_than_65 = 30\n",
    "lower_than_14 = 50\n",
    "\n",
    "eldery_discount = price * (upper_than_65 / 100)\n",
    "kiddos_discount = price * (lower_than_14 / 100)\n",
    "\n",
    "elderly_price = price - eldery_discount\n",
    "kiddos_price = price - kiddos_discount\n",
    "\n",
    "if user_age_input > 65:\n",
    "    print(f\"{elderly_price} Dollar!\")\n",
    "    print(\"Enjoy the Movie!\")\n",
    "elif user_age_input < 14:\n",
    "    print(f\"{kiddos_price} Dollars!\")\n",
    "    print(\"Free Beverage!\")\n",
    "else:\n",
    "    print(f\"{price} Dollar!\")\n",
    "    print(\"Enjoy!\")\n"
   ]
  }
 ],
 "metadata": {
  "kernelspec": {
   "display_name": "envone",
   "language": "python",
   "name": "python3"
  },
  "language_info": {
   "codemirror_mode": {
    "name": "ipython",
    "version": 3
   },
   "file_extension": ".py",
   "mimetype": "text/x-python",
   "name": "python",
   "nbconvert_exporter": "python",
   "pygments_lexer": "ipython3",
   "version": "3.13.2"
  }
 },
 "nbformat": 4,
 "nbformat_minor": 5
}
