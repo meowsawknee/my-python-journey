{
 "cells": [
  {
   "cell_type": "code",
   "execution_count": 3,
   "id": "0acba790",
   "metadata": {},
   "outputs": [],
   "source": [
    "# 📝 Daily Journal App - built on Pytopia file handling exercise\n",
    "# Logs daily notes with timestamps, stores them in folders, and can read past entries.\n",
    "# Based on the file_opener() function from class, now expanded into a full mini-app."
   ]
  },
  {
   "cell_type": "code",
   "execution_count": 4,
   "id": "f485fb27",
   "metadata": {},
   "outputs": [],
   "source": [
    "# Function we designed as part of a Pytopia class assignment\n",
    "\n",
    "def file_opener(name: str, mode: str, text: str = \"\") -> str:\n",
    "    \"\"\"\n",
    "    open file and perform an operation based on the mode.\n",
    "\n",
    "    :param name: The name or path of the file to open\n",
    "    :type name: str\n",
    "    :param mode: The mode to open the file in. Valid values 'r', 'w', or 'a'.\n",
    "    :type mode: str\n",
    "    :param text: The text to write or append to the file. only user in 'w' or 'a' mode.\n",
    "    :type text: str\n",
    "    :returns: None\n",
    "    :rtype: None\n",
    "    \"\"\"\n",
    "    with open(name, mode) as f:\n",
    "        if mode == \"r\":\n",
    "            content = f.read()\n",
    "            print(content)\n",
    "        elif mode in (\"w\", \"a\"):\n",
    "            f.write(text)\n",
    "            print(f\"Content {'OVERWRITTEN 😱' if mode == 'w' else 'appended'} successfully.\")"
   ]
  },
  {
   "cell_type": "code",
   "execution_count": 5,
   "id": "1b21de4d",
   "metadata": {},
   "outputs": [
    {
     "name": "stdout",
     "output_type": "stream",
     "text": [
      "Content appended successfully.\n",
      "✅ Note saved to 2025-05-19.txt\n"
     ]
    }
   ],
   "source": [
    "from datetime import date # import datetime module to get today's date\n",
    "note = input(\"What's on your mind today?\\n \")\n",
    "\n",
    "today = date.today().isoformat() # isoformat() turns the date into standard YYYY-MM-DD\n",
    "filename = f\"{today}.txt\" # we name the file after today's date - clean & neat!\n",
    "\n",
    "file_opener(filename, \"a\", f\"{note}\\n\") # call our file_opener function to save the note\n",
    "print(f\"✅ Note saved to {filename}\")"
   ]
  },
  {
   "cell_type": "code",
   "execution_count": 6,
   "id": "39fafd4f",
   "metadata": {},
   "outputs": [
    {
     "name": "stdout",
     "output_type": "stream",
     "text": [
      "Content appended successfully.\n"
     ]
    }
   ],
   "source": [
    "from datetime import datetime # import datetime for current hour and minute\n",
    "\n",
    "now = datetime.now().strftime(\"%H:%M\") # get current time in format like \"14:41\"\n",
    "entry = f\"[{now}] {note}\\n\"\n",
    "\n",
    "file_opener(filename, \"a\", entry) # append the entry to today’s journal file\n"
   ]
  },
  {
   "cell_type": "code",
   "execution_count": 11,
   "id": "5de640f5",
   "metadata": {},
   "outputs": [
    {
     "name": "stdout",
     "output_type": "stream",
     "text": [
      "idk. test\n",
      "[15:31] idk. test\n",
      "\n"
     ]
    }
   ],
   "source": [
    "# reading a journal entry by date\n",
    "import os\n",
    "date_input = input(\"Enter a date (YYYY-MM-DD) to read your journal:\\n> \")\n",
    "filename = f\"{date_input}.txt\" # build filename based on the input date\n",
    "\n",
    "# check if the file exists before trying to read\n",
    "if os.path.exists(filename):\n",
    "    file_opener(filename, \"r\")\n",
    "else:\n",
    "    print(\"⚠️ No journal found for that date.\")\n"
   ]
  },
  {
   "cell_type": "code",
   "execution_count": 8,
   "id": "ae7e139a",
   "metadata": {},
   "outputs": [],
   "source": [
    "# Creating a folder to store journal files\n",
    "# keeps everthing clean and organized\n",
    "\n",
    "os.makedirs(\"journals\", exist_ok=True)\n",
    "filename = f\"journals/{today}.txt\"\n"
   ]
  },
  {
   "cell_type": "code",
   "execution_count": 13,
   "id": "277dd3d9",
   "metadata": {},
   "outputs": [
    {
     "name": "stdout",
     "output_type": "stream",
     "text": [
      "Content appended successfully.\n",
      "\n",
      "📅 Note saved to journals/2025-05-19.txt\n",
      "\n",
      "\n",
      "🔍 Reading journal from 2025-05-19...\n",
      "\n",
      "[12:59] my mind is clouded with doubt and uncertainty today...\n",
      "[13:00] nothing new!\n",
      "[13:01] doubt again! as usual!\n",
      "[15:36] i think it's finished for now!\n",
      "\n"
     ]
    }
   ],
   "source": [
    "# ✅ Final Combined Version (cleaned-up for portfolio)\n",
    "# This is the final polished version of the Daily Journal App, combining writing and reading logic.\n",
    "# All previous blocks above represent my learning steps and process.\n",
    "\n",
    "from datetime import date, datetime # for current date and time\n",
    "import os # for checking and creating folders\n",
    "\n",
    "#  Function to handle file oprerations\n",
    "\n",
    "def file_opener(name: str, mode: str, text: str = \"\") -> str:\n",
    "    \"\"\"\n",
    "    open file and perform an operation based on the mode.\n",
    "\n",
    "    :param name: The name or path of the file to open\n",
    "    :type name: str\n",
    "    :param mode: The mode to open the file in. Valid values 'r', 'w', or 'a'.\n",
    "    :type mode: str\n",
    "    :param text: The text to write or append to the file. only user in 'w' or 'a' mode.\n",
    "    :type text: str\n",
    "    :returns: None\n",
    "    :rtype: None\n",
    "    \"\"\"\n",
    "    with open(name, mode) as f:\n",
    "        if mode == \"r\":\n",
    "            content = f.read()\n",
    "            print(content)\n",
    "        elif mode in (\"w\", \"a\"):\n",
    "            f.write(text)\n",
    "            # Debugging message to clarify write/append behavior\n",
    "            print(f\"Content {'OVERWRITTEN 😱' if mode == 'w' else 'appended'} successfully.\")\n",
    "\n",
    "# --- Writing a new journal entry ---\n",
    "# Ask user What the want to write today\n",
    "note = input(\"What's on your mind today?\\n> \")\n",
    "\n",
    "# Get current date for filename\n",
    "today = date.today().isoformat() # e.g., '2025-05-19'\n",
    "\n",
    "# Create 'journals' folder if it doesn't exist\n",
    "os.makedirs(\"journals\", exist_ok=True)\n",
    "\n",
    "# Full path for the journal file\n",
    "filename = f\"journals/{today}.txt\"\n",
    "\n",
    "# Get current time and format i for entry\n",
    "now = datetime.now().strftime(\"%H:%M\") # e.g., '13:31\n",
    "entry = f\"[{now}] {note}\\n\"\n",
    "\n",
    "# Save the entry to today's file\n",
    "file_opener(filename, \"a\", entry)\n",
    "print(f\"\\n📅 Note saved to {filename}\\n\")\n",
    "\n",
    "# --- Reading a journal entry by date ---\n",
    "# Ask user what date they want to read (must be in same format)\n",
    "date_input = input(\"Enter a date (YYYY-MM-DD) to read your journal:\\n> \")\n",
    "read_file = f\"journals/{date_input}.txt\"\n",
    "\n",
    "# Check if file exists before reading\n",
    "if os.path.exists(read_file):\n",
    "    print(f\"\\n🔍 Reading journal from {date_input}...\\n\")\n",
    "    file_opener(read_file, \"r\")\n",
    "else:\n",
    "    print(\"⚠️ No journal found for that date.\")\n",
    "\n",
    "\n",
    "\n"
   ]
  }
 ],
 "metadata": {
  "kernelspec": {
   "display_name": "envone",
   "language": "python",
   "name": "python3"
  },
  "language_info": {
   "codemirror_mode": {
    "name": "ipython",
    "version": 3
   },
   "file_extension": ".py",
   "mimetype": "text/x-python",
   "name": "python",
   "nbconvert_exporter": "python",
   "pygments_lexer": "ipython3",
   "version": "3.13.2"
  }
 },
 "nbformat": 4,
 "nbformat_minor": 5
}
