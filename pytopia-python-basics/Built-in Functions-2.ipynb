{
 "cells": [
  {
   "cell_type": "code",
   "execution_count": 1,
   "id": "336e729d",
   "metadata": {},
   "outputs": [],
   "source": [
    "# Project: Sales Insight Engine\n",
    "# A mini project focused on mastering Python built-in functions.\n",
    "# This script analyzes a list of sales orders using tools like map(), filter(), sum(), len(), etc.\n",
    "# Goal: deep understanding of built-in functionality through practical and strutured implementation."
   ]
  },
  {
   "cell_type": "code",
   "execution_count": 2,
   "id": "4f0334de",
   "metadata": {},
   "outputs": [],
   "source": [
    "orders = [\n",
    "    {\"customer\": \"Hannah\", \"total_price\": 120.5, \"quantity\": 3, \"status\": \"completed\", \"discount\": False},\n",
    "    {\"customer\": \"Sara\", \"total_price\": 98.2, \"quantity\": 2, \"status\": \"completed\", \"discount\": True},\n",
    "    {\"customer\": \"Sarina\", \"total_price\": 0.0, \"quantity\": 0, \"status\": \"cancelled\", \"discount\": False},\n",
    "    {\"customer\": \"Hannah\", \"total_price\": 200.0, \"quantity\": 5, \"status\": \"completed\", \"discount\": True},\n",
    "    {\"customer\": \"Sara\", \"total_price\": 122.7, \"quantity\": 3, \"status\": \"completed\", \"discount\": False},\n",
    "    {\"customer\": \"Sarina\", \"total_price\": 80.0, \"quantity\": 2, \"status\": \"completed\", \"discount\": True},\n",
    "    {\"customer\": \"Nima\", \"total_price\": 0.0, \"quantity\": 0, \"status\": \"pending\", \"discount\": False},\n",
    "    {\"customer\": \"Hannah\", \"total_price\": 130.0, \"quantity\": 4, \"status\": \"completed\", \"discount\": False},\n",
    "    {\"customer\": \"Sarina\", \"total_price\": 170.0, \"quantity\": 5, \"status\": \"completed\", \"discount\": False},\n",
    "    {\"customer\": \"Nima\", \"total_price\": 210.5, \"quantity\": 6, \"status\": \"completed\", \"discount\": True},\n",
    "]"
   ]
  },
  {
   "cell_type": "code",
   "execution_count": 3,
   "id": "2551fcdb",
   "metadata": {},
   "outputs": [
    {
     "name": "stdout",
     "output_type": "stream",
     "text": [
      "Total orders: 10\n"
     ]
    }
   ],
   "source": [
    "# Step 1: Count total orders\n",
    "total_orders = len(orders)\n",
    "print(\"Total orders:\", total_orders)"
   ]
  },
  {
   "cell_type": "code",
   "execution_count": 4,
   "id": "99d66d7b",
   "metadata": {},
   "outputs": [
    {
     "name": "stdout",
     "output_type": "stream",
     "text": [
      "Completed orders: 8\n"
     ]
    }
   ],
   "source": [
    "# Step 2: Count completed orders\n",
    "completed_orders = list(filter(lambda order: order[\"status\"] == \"completed\", orders))\n",
    "print(\"Completed orders:\", len(completed_orders))"
   ]
  },
  {
   "cell_type": "code",
   "execution_count": 5,
   "id": "55a2a897",
   "metadata": {},
   "outputs": [
    {
     "name": "stdout",
     "output_type": "stream",
     "text": [
      "Unique customers: {'Hannah', 'Sarina', 'Nima', 'Sara'}\n",
      "Number of unique customers: 4\n"
     ]
    }
   ],
   "source": [
    "# Step 3: Find unique customers\n",
    "unique_users = set(map(lambda x: x[\"customer\"], orders))\n",
    "# Equivalent version suggested by ChatGPT:\n",
    "# unique_customers = {order[\"customer\"] for order in orders}\n",
    "print(\"Unique customers:\", unique_users)\n",
    "print(\"Number of unique customers:\", len(unique_users))"
   ]
  },
  {
   "cell_type": "code",
   "execution_count": 6,
   "id": "995a484c",
   "metadata": {},
   "outputs": [
    {
     "name": "stdout",
     "output_type": "stream",
     "text": [
      "Total Sales: 1073.03\n"
     ]
    }
   ],
   "source": [
    "# Step 4: Calculate Total Sales\n",
    "total_sales = 0\n",
    "\n",
    "for order in orders:\n",
    "    if order[\"status\"] == \"completed\":\n",
    "        if order[\"discount\"]:\n",
    "            total_sales += order[\"total_price\"] * 0.9\n",
    "        else:\n",
    "            total_sales += order[\"total_price\"]\n",
    "        \n",
    "print(\"Total Sales:\", round(total_sales, 2))"
   ]
  },
  {
   "cell_type": "code",
   "execution_count": 7,
   "id": "4de6dd4e",
   "metadata": {},
   "outputs": [
    {
     "name": "stdout",
     "output_type": "stream",
     "text": [
      "Total Sales: 1073.03\n"
     ]
    }
   ],
   "source": [
    "# Step 4: Calculate Total Sales (Clean version using sum)\n",
    "\n",
    "total_sales = sum(\n",
    "    order[\"total_price\"] * 0.9 if order[\"discount\"] else order[\"total_price\"]\n",
    "    for order in orders\n",
    "    if order[\"status\"] == \"completed\"\n",
    ")\n",
    "\n",
    "print(\"Total Sales:\", round(total_sales, 2))"
   ]
  },
  {
   "cell_type": "code",
   "execution_count": 8,
   "id": "d4e46629",
   "metadata": {},
   "outputs": [
    {
     "name": "stdout",
     "output_type": "stream",
     "text": [
      "Average order value: 134.13\n"
     ]
    }
   ],
   "source": [
    "# Step 5: Average Order Value\n",
    "completed_orders = list(filter(lambda order: order[\"status\"] == \"completed\", orders))\n",
    "how_many_completed = len(completed_orders)\n",
    "print(\"Average order value:\", round(total_sales / how_many_completed, 2))"
   ]
  },
  {
   "cell_type": "code",
   "execution_count": 9,
   "id": "a0655138",
   "metadata": {},
   "outputs": [
    {
     "name": "stdout",
     "output_type": "stream",
     "text": [
      "Pre-Customer Summary:\n",
      "Hannah: Orders = 3, Total = $450.50, Quantity = 12\n",
      "Sara: Orders = 2, Total = $220.90, Quantity = 5\n",
      "Sarina: Orders = 2, Total = $250.00, Quantity = 7\n",
      "Nima: Orders = 1, Total = $210.50, Quantity = 6\n"
     ]
    }
   ],
   "source": [
    "# Step 6: Pre-Customer Summary\n",
    "summary = {}\n",
    "\n",
    "for order in orders:\n",
    "    if order[\"customer\"] not in summary:\n",
    "        summary[order[\"customer\"]] = {\"total_sales\": 0, \"total_quantity\": 0, \"completed_orders\": 0}\n",
    "        \n",
    "    if order[\"status\"] == \"completed\":\n",
    "        summary[order[\"customer\"]][\"total_sales\"] += order[\"total_price\"]\n",
    "        summary[order[\"customer\"]][\"total_quantity\"] += order[\"quantity\"]\n",
    "        summary[order[\"customer\"]][\"completed_orders\"] += 1\n",
    "        \n",
    "print(\"Pre-Customer Summary:\")\n",
    "for customer, data in summary.items():\n",
    "    print(f\"{customer}: Orders = {data[\"completed_orders\"]}, Total = ${data[\"total_sales\"]:.2f}, Quantity = {data[\"total_quantity\"]}\")"
   ]
  },
  {
   "cell_type": "code",
   "execution_count": 10,
   "id": "f3de0197",
   "metadata": {},
   "outputs": [
    {
     "name": "stdout",
     "output_type": "stream",
     "text": [
      "Top customers with highest total sales:\n",
      "- Hannah: $450.50\n"
     ]
    }
   ],
   "source": [
    "# step 7: Find Top Customer(s) by Total Sales\n",
    "\n",
    "# Find the maximum total_sales value\n",
    "max_total = max(summary.values(), key=lambda info: info[\"total_sales\"])[\"total_sales\"]\n",
    "\n",
    "# Find all customers who match the max total_sales\n",
    "top_customers = {\n",
    "    name: info[\"total_sales\"]\n",
    "    for name, info in summary.items()\n",
    "    if info[\"total_sales\"] == max_total\n",
    "}\n",
    "\n",
    "# Debug: print raw data before formatting\n",
    "# print(top_customers)\n",
    "\n",
    "print(\"Top customers with highest total sales:\")\n",
    "for name, total in top_customers.items():\n",
    "    print(f\"- {name}: ${total:.2f}\")"
   ]
  },
  {
   "cell_type": "code",
   "execution_count": 13,
   "id": "7208a1b0",
   "metadata": {},
   "outputs": [
    {
     "name": "stdout",
     "output_type": "stream",
     "text": [
      "📦 Order Summary\n",
      "- Total orders: 10\n",
      "- Completed orders: 8\n",
      "- Total Sales: 1073.03\n",
      "- Unique customers: {'Hannah', 'Sarina', 'Nima', 'Sara'}\n",
      "- Number of unique customers: 4\n",
      "--------------\n",
      "👥 Pre-Customer Summary:\n",
      "- Hannah: Orders = 3, Total = $450.50, Quantity = 12, Contribution = 42.0%\n",
      "- Sarina: Orders = 2, Total = $250.00, Quantity = 7, Contribution = 23.3%\n",
      "- Sara: Orders = 2, Total = $220.90, Quantity = 5, Contribution = 20.6%\n",
      "- Nima: Orders = 1, Total = $210.50, Quantity = 6, Contribution = 19.6%\n",
      "--------------\n",
      "🏆 Top customers with highest total sales:\n",
      "- Hannah: $450.50\n"
     ]
    }
   ],
   "source": [
    "# Step 8: Final Report / Merge Output\n",
    "\n",
    "print(\"📦 Order Summary\")\n",
    "\n",
    "total_orders = len(orders)\n",
    "print(\"- Total orders:\", total_orders)\n",
    "\n",
    "completed_orders = list(filter(lambda order: order[\"status\"] == \"completed\", orders))\n",
    "print(\"- Completed orders:\", len(completed_orders))\n",
    "\n",
    "total_sales = sum(\n",
    "    order[\"total_price\"] * 0.9 if order[\"discount\"] else order[\"total_price\"]\n",
    "    for order in orders\n",
    "    if order[\"status\"] == \"completed\"\n",
    ")\n",
    "print(\"- Total Sales:\", round(total_sales, 2))\n",
    "\n",
    "unique_users = set(map(lambda x: x[\"customer\"], orders))\n",
    "print(\"- Unique customers:\", unique_users)\n",
    "print(\"- Number of unique customers:\", len(unique_users))\n",
    "\n",
    "\n",
    "summary = {}\n",
    "\n",
    "for order in orders:\n",
    "    if order[\"customer\"] not in summary:\n",
    "        summary[order[\"customer\"]] = {\"total_sales\": 0, \"total_quantity\": 0, \"completed_orders\": 0}\n",
    "        \n",
    "    if order[\"status\"] == \"completed\":\n",
    "        summary[order[\"customer\"]][\"total_sales\"] += order[\"total_price\"]\n",
    "        summary[order[\"customer\"]][\"total_quantity\"] += order[\"quantity\"]\n",
    "        summary[order[\"customer\"]][\"completed_orders\"] += 1\n",
    "        \n",
    "print(\"--------------\")\n",
    "print(\"👥 Pre-Customer Summary:\")\n",
    "for customer, data in sorted(summary.items(), key=lambda x: x[1][\"total_sales\"], reverse=True):\n",
    "    if data[\"total_sales\"] == 0:\n",
    "        continue\n",
    "    percent = (data[\"total_sales\"] / total_sales) * 100\n",
    "    print(f\"- {customer}: Orders = {data[\"completed_orders\"]}, Total = ${data[\"total_sales\"]:.2f}, Quantity = {data[\"total_quantity\"]}, Contribution = {percent:.1f}%\")\n",
    "\n",
    "print(\"--------------\")\n",
    "\n",
    "\n",
    "max_total = max(summary.values(), key=lambda info: info[\"total_sales\"])[\"total_sales\"]\n",
    "\n",
    "top_customers = {\n",
    "    name: info[\"total_sales\"]\n",
    "    for name, info in summary.items()\n",
    "    if info[\"total_sales\"] == max_total\n",
    "}\n",
    "\n",
    "\n",
    "print(\"🏆 Top customers with highest total sales:\")\n",
    "for name, total in top_customers.items():\n",
    "    print(f\"- {name}: ${total:.2f}\")\n",
    "\n",
    "with open(\"final_report.txt\", \"w\") as f:\n",
    "    f.write(\"Report goes here...\")\n"
   ]
  },
  {
   "cell_type": "code",
   "execution_count": 14,
   "id": "39fd7356",
   "metadata": {},
   "outputs": [],
   "source": [
    "# 🔍 Personal Note:\n",
    "# Through this exercise, I realized that before jumping into coding,\n",
    "# it's really helpful to break down the problem in my own words (even in Farsi),\n",
    "# step by step. For example: \"First I make an empty list, then loop, then filter...\" etc.\n",
    "# This helps clarify the logic and makes it easier to write or debug the actual code.\n"
   ]
  }
 ],
 "metadata": {
  "kernelspec": {
   "display_name": "envone",
   "language": "python",
   "name": "python3"
  },
  "language_info": {
   "codemirror_mode": {
    "name": "ipython",
    "version": 3
   },
   "file_extension": ".py",
   "mimetype": "text/x-python",
   "name": "python",
   "nbconvert_exporter": "python",
   "pygments_lexer": "ipython3",
   "version": "3.13.2"
  }
 },
 "nbformat": 4,
 "nbformat_minor": 5
}
