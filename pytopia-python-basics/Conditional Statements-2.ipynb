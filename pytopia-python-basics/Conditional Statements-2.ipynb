{
 "cells": [
  {
   "cell_type": "code",
   "execution_count": 5,
   "id": "a957b435",
   "metadata": {},
   "outputs": [],
   "source": [
    "# May 3, 2025\n",
    "# My Python Journey - Conditional Statements Exercise\n",
    "# This notebook documents my learning process, including the first and second version of my code."
   ]
  },
  {
   "cell_type": "code",
   "execution_count": 4,
   "id": "4212e4f3",
   "metadata": {},
   "outputs": [
    {
     "name": "stdout",
     "output_type": "stream",
     "text": [
      "40.0 Dollars!\n",
      "Enjoy your workout!\n",
      "None\n"
     ]
    }
   ],
   "source": [
    "# First Version (rough draft)\n",
    "# I just wrote what came to mind.\n",
    "# it didn't work right.\n",
    "# The code kept printing only one result\n",
    "\n",
    "members_info = input(\"Age - Number of classes - First-timer? (yes/no)\")\n",
    "\n",
    "list(members_info.split('-'))\n",
    "age = int(members_info[0])\n",
    "number_of_classes = int(members_info[1])\n",
    "first_time = members_info[2]\n",
    "\n",
    "base_price = 50\n",
    "under_18_discount = base_price * (20 / 100)\n",
    "upper_60_discount = base_price * (30 / 100)\n",
    "first_time_discount = base_price * (15 / 100)\n",
    "\n",
    "if age < 18:\n",
    "    print(f\"{base_price - under_18_discount} Dollars!\")\n",
    "    print(\"Enjoy your workout!\")\n",
    "    if first_time == \"yes\":\n",
    "        print(\"{base_price - firs_time_discount} Dollars!\")\n",
    "        print(\"Glad to have you! Have an awesome session!\")\n",
    "    else:\n",
    "        None\n",
    "elif age >= 60:\n",
    "    print(f\"{base_price - upper_60_discount} Dollars!\")\n",
    "    print(\"Enjoy your workout!\")\n",
    "    if first_time == \"yes\":\n",
    "        print(\"{base_price - firs_time_discount} Dollars!\")\n",
    "        print(\"Glad to have you! Have an awesome session!\")\n",
    "    else:\n",
    "        None\n",
    "else:\n",
    "    print(f\"{base_price} Dollars!\")\n",
    "    print(\"Enjoy your workout!\")\n",
    "    if first_time == \"yes\":\n",
    "        print(\"{base_price - firs_time_discount} Dollars!\")\n",
    "        print(\"Glad to have you! Have an awesome session!\")\n",
    "    else:\n",
    "        None\n",
    "extra_charge = base_price + 10 if number_of_classes > 8 else None\n",
    "print(extra_charge)\n"
   ]
  },
  {
   "cell_type": "code",
   "execution_count": 3,
   "id": "505056ca",
   "metadata": {},
   "outputs": [
    {
     "name": "stdout",
     "output_type": "stream",
     "text": [
      "Enjoy your workout!\n",
      "Confirmed amount: 35.0 Dollars. Transaction complete.\n"
     ]
    }
   ],
   "source": [
    "# Second Version (cleaner)\n",
    "# I worked step by step with GPT's help.\n",
    "\n",
    "members_info = input(\"Age - Number of classes - First-timer? (yes/no)\")\n",
    "\n",
    "list_member_info = list(members_info.split('-'))\n",
    "age = int(list_member_info[0])\n",
    "number_of_classes = int(list_member_info[1])\n",
    "first_time = list_member_info[2]\n",
    "\n",
    "base_price = 50\n",
    "under_18_discount = base_price * (20 / 100)\n",
    "upper_60_discount = base_price * (30 / 100)\n",
    "first_time_discount = base_price * (15 / 100)\n",
    "\n",
    "if age < 18:\n",
    "    final_price = base_price\n",
    "    final_price -= under_18_discount\n",
    "    print(\"Enjoy your workout!\")\n",
    "    if first_time == \"yes\":\n",
    "        final_price -= first_time_discount\n",
    "        print(\"Glad to have you! Have an awesome session!\")\n",
    "\n",
    "elif age >= 60:\n",
    "    final_price = base_price\n",
    "    final_price -= upper_60_discount\n",
    "    print(\"Enjoy your workout!\")\n",
    "    if first_time == \"yes\":\n",
    "        final_price -= first_time_discount\n",
    "        print(\"Glad to have you! Have an awesome session!\")\n",
    "\n",
    "else:\n",
    "    final_price = base_price\n",
    "    print(\"Enjoy your workout!\")\n",
    "    if first_time == \"yes\":\n",
    "        final_price -= first_time_discount\n",
    "        print(\"Glad to have you! Have an awesome session!\")\n",
    "\n",
    "# final_price += 10 if number_of_classes > 8 else None | i hate this kinda conditional statements.\n",
    "if number_of_classes > 8:\n",
    "    final_price += 10\n",
    "    print(\"You're on Fire!\")\n",
    "\n",
    "print(f\"Confirmed amount: {final_price} Dollars. Transaction complete.\")\n",
    "\n",
    "    \n"
   ]
  }
 ],
 "metadata": {
  "kernelspec": {
   "display_name": "envone",
   "language": "python",
   "name": "python3"
  },
  "language_info": {
   "codemirror_mode": {
    "name": "ipython",
    "version": 3
   },
   "file_extension": ".py",
   "mimetype": "text/x-python",
   "name": "python",
   "nbconvert_exporter": "python",
   "pygments_lexer": "ipython3",
   "version": "3.13.2"
  }
 },
 "nbformat": 4,
 "nbformat_minor": 5
}
