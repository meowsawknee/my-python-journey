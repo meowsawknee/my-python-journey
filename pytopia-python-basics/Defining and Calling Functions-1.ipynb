{
 "cells": [
  {
   "cell_type": "code",
   "execution_count": 51,
   "id": "2aa53384",
   "metadata": {},
   "outputs": [],
   "source": [
    "# This notebook covers basic function definitions and usage in Python.\n",
    "# Practive includes simple functions, functions with parameters, multiple parameteres,\n",
    "# no return functions, and returning multiple values.\n",
    "# Goal: get familiar with functions and understand the diffrence between parameters and arguments."
   ]
  },
  {
   "cell_type": "code",
   "execution_count": 52,
   "id": "96c27e90",
   "metadata": {},
   "outputs": [
    {
     "name": "stdout",
     "output_type": "stream",
     "text": [
      "Hello, World!\n"
     ]
    }
   ],
   "source": [
    "# 1 \n",
    "\n",
    "def greet():\n",
    "    print(\"Hello, World!\")\n",
    "greet()\n"
   ]
  },
  {
   "cell_type": "code",
   "execution_count": 53,
   "id": "1467f15d",
   "metadata": {},
   "outputs": [
    {
     "data": {
      "text/plain": [
       "'Hello, Meowsawknee!'"
      ]
     },
     "execution_count": 53,
     "metadata": {},
     "output_type": "execute_result"
    }
   ],
   "source": [
    "# 2\n",
    "\n",
    "def personalize_greeting(name):\n",
    "    return (f\"Hello, {name.capitalize()}!\")\n",
    "\n",
    "personalize_greeting(\"meowsawknee\")"
   ]
  },
  {
   "cell_type": "code",
   "execution_count": 54,
   "id": "6e467f20",
   "metadata": {},
   "outputs": [
    {
     "name": "stdout",
     "output_type": "stream",
     "text": [
      "Hello, Hossein!\n"
     ]
    }
   ],
   "source": [
    "# 2 (gpt)\n",
    "# My first version was using 'return', so it sent back the greeting instead of printing it.\n",
    "# But the question asked to PRINT   the greetin, not just return it.\n",
    "\n",
    "def personalize_greeting(name):\n",
    "    print(f\"Hello, {name.capitalize()}!\")\n",
    "\n",
    "personalize_greeting(\"hossein\")\n",
    "\n",
    "# to remember:\n",
    "# if you use 'return' but except to see output, nothing shows unless you print it later.\n",
    "# if you use 'print' but need the result in your code, it will not return any value (just print)."
   ]
  },
  {
   "cell_type": "code",
   "execution_count": 55,
   "id": "b0491a09",
   "metadata": {},
   "outputs": [
    {
     "name": "stdout",
     "output_type": "stream",
     "text": [
      "The area of the circle with radius 5 is 21.99113.\n"
     ]
    }
   ],
   "source": [
    "# 3\n",
    "# This function calculates the area of a circle based on the radius.\n",
    "\n",
    "def circle_area(radius):\n",
    "    π = 3.14159\n",
    "    area = π * (radius ^ 2)\n",
    "    return area\n",
    "\n",
    "area = circle_area(5)\n",
    "print(f\"The area of the circle with radius 5 is {area}.\")"
   ]
  },
  {
   "cell_type": "code",
   "execution_count": 56,
   "id": "636efe54",
   "metadata": {},
   "outputs": [
    {
     "name": "stdout",
     "output_type": "stream",
     "text": [
      "1000\n"
     ]
    }
   ],
   "source": [
    "# 4 \n",
    "# This function adds two numbers and return the result.\n",
    "\n",
    "def add_numbers(x, y):\n",
    "    return x + y\n",
    "\n",
    "result = add_numbers(999, 1)\n",
    "print(result)"
   ]
  },
  {
   "cell_type": "code",
   "execution_count": 57,
   "id": "1166fc2b",
   "metadata": {},
   "outputs": [
    {
     "name": "stdout",
     "output_type": "stream",
     "text": [
      "['Burger', 'Cheese Pizza', 'Fried Chicken', 'Fries', 'Hot Dog', 'Nuggets']\n"
     ]
    }
   ],
   "source": [
    "# 5\n",
    "# Prints a simple fast food menu.\n",
    "\n",
    "def print_menu():\n",
    "    print([\"Burger\", \"Cheese Pizza\", \"Fried Chicken\", \"Fries\", \"Hot Dog\", \"Nuggets\"])\n",
    "\n",
    "print_menu()\n"
   ]
  },
  {
   "cell_type": "code",
   "execution_count": 58,
   "id": "9b978ce7",
   "metadata": {},
   "outputs": [
    {
     "data": {
      "text/plain": [
       "'Minimum number: -54, Maximum number: 100'"
      ]
     },
     "execution_count": 58,
     "metadata": {},
     "output_type": "execute_result"
    }
   ],
   "source": [
    "# 6\n",
    "\n",
    "def min_max(list_of_numbers):\n",
    "    return f\"Minimum number: {min(list_of_numbers)}, Maximum number: {max(list_of_numbers)}\"\n",
    "    \n",
    "min_max([1,2,3,4,100,-54])\n"
   ]
  },
  {
   "cell_type": "code",
   "execution_count": 59,
   "id": "e7e58e40",
   "metadata": {},
   "outputs": [
    {
     "name": "stdout",
     "output_type": "stream",
     "text": [
      "Minimum: -99, Maximum: 101\n"
     ]
    }
   ],
   "source": [
    "# 6\n",
    "# This function returns min and max as separate values (not a single string like last one)\n",
    "# The task was to unpack both values into variables and print them.\n",
    "\n",
    "def min_max(list_of_numbers):\n",
    "    return min(list_of_numbers), max(list_of_numbers)\n",
    "    \n",
    "min_value, max_value = min_max([1, 2, 3, 4, 100, -54, -99, 101])\n",
    "print(f\"Minimum: {min_value}, Maximum: {max_value}\")\n"
   ]
  }
 ],
 "metadata": {
  "kernelspec": {
   "display_name": "envone",
   "language": "python",
   "name": "python3"
  },
  "language_info": {
   "codemirror_mode": {
    "name": "ipython",
    "version": 3
   },
   "file_extension": ".py",
   "mimetype": "text/x-python",
   "name": "python",
   "nbconvert_exporter": "python",
   "pygments_lexer": "ipython3",
   "version": "3.13.2"
  }
 },
 "nbformat": 4,
 "nbformat_minor": 5
}
