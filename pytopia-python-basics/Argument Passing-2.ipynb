{
 "cells": [
  {
   "cell_type": "code",
   "execution_count": 41,
   "id": "ee2356bf",
   "metadata": {},
   "outputs": [],
   "source": [
    "# Hotel Booking System Project\n",
    "# this project is desgined to practice positional, keyword, and defualr arguments\n",
    "# by simulating hotel bookings with optional services (breakfast, parking, discount)."
   ]
  },
  {
   "cell_type": "code",
   "execution_count": 42,
   "id": "5ba202c7",
   "metadata": {},
   "outputs": [],
   "source": [
    "# standard: 100$/night\n",
    "# deluxe: 150$/night\n",
    "# suite: 250$/night\n",
    "# breakfast: +20$/night\n",
    "# parking: +10$/night"
   ]
  },
  {
   "cell_type": "code",
   "execution_count": 43,
   "id": "9773935e",
   "metadata": {},
   "outputs": [],
   "source": [
    "def book_room(guest_name, nights, room_type=\"standard\", breakfast=True, parking=False):\n",
    "    total_cost = 0\n",
    "    room_prices = {\n",
    "        \"standard\": 100,\n",
    "        \"deluxe\": 150,\n",
    "        \"suite\": 250\n",
    "\n",
    "    }\n",
    "    extra_cost = {\n",
    "        \"breakfast\": 20,\n",
    "        \"parking\": 10\n",
    "    }\n",
    "\n",
    "    total_cost += room_prices[room_type]\n",
    "\n",
    "    if breakfast:\n",
    "        total_cost += extra_cost[\"breakfast\"]\n",
    "    if parking:\n",
    "        total_cost += extra_cost[\"parking\"]\n",
    "    \n",
    "    total_cost = nights * total_cost\n",
    "\n",
    "    breakfast_status = \"Yes\" if breakfast else \"No\"\n",
    "    parking_status = \"Yes\" if parking else \"No\"\n",
    "\n",
    "    print(f\"Booking confirmed for {guest_name}: {nights} nights in a {room_type} room.\")\n",
    "    print(f\"Breakfast: {breakfast_status}\")\n",
    "    print(f\"Parking: {parking_status}\")\n",
    "    print(f\"Total price: ${total_cost:.2f}\")\n"
   ]
  },
  {
   "cell_type": "code",
   "execution_count": 44,
   "id": "60d7107d",
   "metadata": {},
   "outputs": [
    {
     "name": "stdout",
     "output_type": "stream",
     "text": [
      "Booking confirmed for John Doe: 3 nights in a standard room.\n",
      "Breakfast: Yes\n",
      "Parking: No\n",
      "Total price: $360.00\n",
      "----------\n",
      "Booking confirmed for Alice: 2 nights in a suite room.\n",
      "Breakfast: No\n",
      "Parking: Yes\n",
      "Total price: $520.00\n",
      "----------\n",
      "Booking confirmed for Bob: 5 nights in a deluxe room.\n",
      "Breakfast: Yes\n",
      "Parking: No\n",
      "Total price: $850.00\n"
     ]
    }
   ],
   "source": [
    "# test\n",
    "book_room(\"John Doe\", 3)\n",
    "print(\"----------\")\n",
    "book_room(\"Alice\", 2, room_type=\"suite\", breakfast=False, parking=True)\n",
    "print(\"----------\")\n",
    "book_room(\"Bob\", 5, room_type=\"deluxe\")\n"
   ]
  },
  {
   "cell_type": "code",
   "execution_count": 45,
   "id": "448b2f49",
   "metadata": {},
   "outputs": [],
   "source": [
    "# part 2\n",
    "# first attempt.\n",
    "def add_special_note(guest_name, note=None):\n",
    "    if note != None:\n",
    "        print(f\"Special note for {guest_name}: {note}\")\n",
    "    else:\n",
    "        print(f\"No special notes provided for {guest_name}.\")\n"
   ]
  },
  {
   "cell_type": "code",
   "execution_count": 46,
   "id": "e17a2c2d",
   "metadata": {},
   "outputs": [],
   "source": [
    "# gpt revised version (but both work fine)\n",
    "\n",
    "def add_special_note(guest_name, note=None):\n",
    "    if note:\n",
    "        print(f\"Special note for {guest_name}: {note}\")\n",
    "    else:\n",
    "        print(f\"No special notes provided for {guest_name}.\")"
   ]
  },
  {
   "cell_type": "code",
   "execution_count": 47,
   "id": "252d2d5c",
   "metadata": {},
   "outputs": [
    {
     "name": "stdout",
     "output_type": "stream",
     "text": [
      "Special note for John Doe: Please prepare a birthday cake.\n",
      "No special notes provided for Alice.\n"
     ]
    }
   ],
   "source": [
    "# test\n",
    "add_special_note(\"John Doe\", \"Please prepare a birthday cake.\")\n",
    "add_special_note(\"Alice\")"
   ]
  },
  {
   "cell_type": "code",
   "execution_count": 48,
   "id": "ca942820",
   "metadata": {},
   "outputs": [],
   "source": [
    "# part 3\n",
    "\n",
    "def apply_discount(guest_name, discount_percentage=0):\n",
    "    if discount_percentage:\n",
    "        print(f\"A discount of {discount_percentage}% has been applied to {guest_name}'s booking.\")\n",
    "    else:\n",
    "        print(f\"No discount was applied to {guest_name}'s booking\")"
   ]
  },
  {
   "cell_type": "code",
   "execution_count": 49,
   "id": "9d4bdfd4",
   "metadata": {},
   "outputs": [
    {
     "name": "stdout",
     "output_type": "stream",
     "text": [
      "A discount of 15% has been applied to John Doe's booking.\n",
      "No discount was applied to Alice's booking\n"
     ]
    }
   ],
   "source": [
    "# test\n",
    "apply_discount(\"John Doe\", 15)\n",
    "apply_discount(\"Alice\")"
   ]
  },
  {
   "cell_type": "code",
   "execution_count": 50,
   "id": "b74b791f",
   "metadata": {},
   "outputs": [],
   "source": [
    "# Future ideas:\n",
    "# connect the discount to real price calculations.\n",
    "# save booking info to a file or database\n",
    "# add more services (e.g., spa, airport pickup).\n",
    "# build a simple menu to take user input."
   ]
  }
 ],
 "metadata": {
  "kernelspec": {
   "display_name": "envone",
   "language": "python",
   "name": "python3"
  },
  "language_info": {
   "codemirror_mode": {
    "name": "ipython",
    "version": 3
   },
   "file_extension": ".py",
   "mimetype": "text/x-python",
   "name": "python",
   "nbconvert_exporter": "python",
   "pygments_lexer": "ipython3",
   "version": "3.13.2"
  }
 },
 "nbformat": 4,
 "nbformat_minor": 5
}
