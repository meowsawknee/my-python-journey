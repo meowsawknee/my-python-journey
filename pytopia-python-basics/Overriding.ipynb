{
 "cells": [
  {
   "cell_type": "code",
   "execution_count": 14,
   "id": "368283c8",
   "metadata": {},
   "outputs": [],
   "source": [
    "# 🧙‍♂️ Council of Middle-earth - Extended Edition\n",
    "# 🎯 Focus: Method Overriding - __str__, __repr__, __eq__, work()\n",
    "# 🔧 Uses super() to extend overridden methods\n",
    "# Involves hierarchical class design with inheritance to control behavior\n",
    "# Scenario: A council is formed in Middle-earch to prepare for the war of the Ring.\n",
    "# Members are chosen from different races: Elves, Dwarves, Humans, and Hobbits."
   ]
  },
  {
   "cell_type": "code",
   "execution_count": 25,
   "id": "56edf13c",
   "metadata": {},
   "outputs": [],
   "source": [
    "class CouncilMember:\n",
    "    \"\"\"\n",
    "    Represents a member of the Middle-earth council.\n",
    "\n",
    "    Attributes:\n",
    "        name (str): The member's name.\n",
    "        race (str): The member's race (e.g., Elf, Dwarf, Human, Hobbit)\n",
    "        realm (str): The place they repersent (e.g., Gondor, Mirkwood)\n",
    "    \"\"\"\n",
    "    def __init__(self, name: str, race: str, realm: str) -> None:\n",
    "        \"\"\"\n",
    "        Initialize a council member with name, race, and realm.\n",
    "        \"\"\"\n",
    "        self.name = name\n",
    "        self.race = race\n",
    "        self.realm = realm\n",
    "    \n",
    "    def __str__(self) -> str:\n",
    "        \"\"\"\n",
    "        Return a readable string representation of the member.\n",
    "        \"\"\"\n",
    "        return f\"{self.name} of {self.realm} ({self.race})\"\n",
    "    \n",
    "    def __repr__(self) -> str:\n",
    "        \"\"\"\n",
    "        Return an unambiguous string representation for debugging.\n",
    "        \"\"\"\n",
    "        return f\"{self.__class__.__name__}({self.name!r}, {self.race!r}, {self.realm!r})\"\n",
    "    \n",
    "    def __eq__(self, other: object) -> bool:\n",
    "        \"\"\"\n",
    "        Compare two members by name and race.\n",
    "        \"\"\"\n",
    "        if not isinstance(other, CouncilMember):\n",
    "            return NotImplemented # Allow Python to handle comparison with different types\n",
    "        return self.name == other.name and self.race == other.race\n",
    "    \n",
    "    def work(self):\n",
    "        \"\"\"\n",
    "        Return a general statement about the member's duty.\n",
    "        \"\"\"\n",
    "        return \"Fulfilling duties of a council member.\"\n",
    "        "
   ]
  },
  {
   "cell_type": "code",
   "execution_count": 18,
   "id": "b19eddd4",
   "metadata": {},
   "outputs": [],
   "source": [
    "class Hobbit(CouncilMember):\n",
    "    def work(self):\n",
    "        return f\"{super().work()}\\nUsing courage and unexpected resiliance in the face of darkness.\"\n",
    "    \n",
    "class Elf(CouncilMember):\n",
    "    def work(self):\n",
    "        return f\"{super().work()}\\nUsing elven wisdom to guide decisions and sense distant threats.\"\n",
    "\n",
    "class Dwarf(CouncilMember):\n",
    "    def work(self):\n",
    "        return f\"{super().work()}\\nUsing strength and craftsmanship to defend the realm with honor.\"\n",
    "\n",
    "class Human(CouncilMember):\n",
    "    def work(self):\n",
    "        return f\"{super().work()}\\nUsing leadership and ambition to unite the free peoples of Middle-earth.\""
   ]
  },
  {
   "cell_type": "code",
   "execution_count": 24,
   "id": "54d3ba3d",
   "metadata": {},
   "outputs": [],
   "source": [
    "# 🧙‍♂️ Assembling the Council of Middle-earth\n",
    "# Each member is an instance of a race-specific subclass of CouncilMember\n",
    "elrond = Elf(\"Elrond\", \"Elf\", \"Rivendell\")\n",
    "frodo_baggins = Hobbit(\"Frodo Baggins\", \"Hobbit\", \"The Shire\")\n",
    "boromir = Human(\"Boromir son of Denethor\", \"Man\", \"Gondor\")\n",
    "aragorn = Human(\"Aragorn son of Arathorn(Elessar)\", \"Man\", \"Gondor(raised in Rivendell)\")\n",
    "gimli = Dwarf(\"Gimli son of Gloin\", \"Dwarf\", \"Erebor(Lonely Mountain)\")\n",
    "legolas = Elf(\"Legolas Greenleaf\", \"Elf\", \"Mirkwood\")\n",
    "gloin = Dwarf(\"Gloin son of Grolin\", \"Dwarf\", \"Erebor(Lonely Mountain)\")\n",
    "glorfindel = Elf(\"Glorfindel\", \"Elf\", \"Rivendell\")"
   ]
  },
  {
   "cell_type": "code",
   "execution_count": 21,
   "id": "03bd21d8",
   "metadata": {},
   "outputs": [
    {
     "name": "stdout",
     "output_type": "stream",
     "text": [
      "Elrond of Rivendell (Elf)\n",
      "Elf('Elrond', 'Elf', 'Rivendell')\n",
      "Fulfilling duties of a council member.\n",
      "Using elven wisdom to guide decisions and sense distant threats.\n",
      "---------------------------------\n",
      "Frodo Baggins of The Shire (Hobbit)\n",
      "Hobbit('Frodo Baggins', 'Hobbit', 'The Shire')\n",
      "Fulfilling duties of a council member.\n",
      "Using courage and unexpected resiliance in the face of darkness.\n",
      "---------------------------------\n",
      "Boromir son of Denethor of Gondor (Man)\n",
      "Human('Boromir son of Denethor', 'Man', 'Gondor')\n",
      "Fulfilling duties of a council member.\n",
      "Using leadership and ambition to unite the free peoples of Middle-earth.\n",
      "---------------------------------\n",
      "Aragorn son of Arathorn(Elessar) of Gondor(raised in Rivendell) (Man)\n",
      "Human('Aragorn son of Arathorn(Elessar)', 'Man', 'Gondor(raised in Rivendell)')\n",
      "Fulfilling duties of a council member.\n",
      "Using leadership and ambition to unite the free peoples of Middle-earth.\n",
      "---------------------------------\n",
      "Gimli son of Gloin of Erebor(Lonely Mountain) (Dwarf)\n",
      "Dwarf('Gimli son of Gloin', 'Dwarf', 'Erebor(Lonely Mountain)')\n",
      "Fulfilling duties of a council member.\n",
      "Using strength and craftsmanship to defend the realm with honor.\n",
      "---------------------------------\n",
      "Legolas Greenleaf of Mirkwood (Elf)\n",
      "Elf('Legolas Greenleaf', 'Elf', 'Mirkwood')\n",
      "Fulfilling duties of a council member.\n",
      "Using elven wisdom to guide decisions and sense distant threats.\n",
      "---------------------------------\n",
      "Gloin son of Grolin of Erebor(Lonely Mountain) (Dwarf)\n",
      "Dwarf('Gloin son of Grolin', 'Dwarf', 'Erebor(Lonely Mountain)')\n",
      "Fulfilling duties of a council member.\n",
      "Using strength and craftsmanship to defend the realm with honor.\n",
      "---------------------------------\n",
      "Glorfindel of Rivendell (Elf)\n",
      "Elf('Glorfindel', 'Elf', 'Rivendell')\n",
      "Fulfilling duties of a council member.\n",
      "Using elven wisdom to guide decisions and sense distant threats.\n",
      "---------------------------------\n"
     ]
    }
   ],
   "source": [
    "members = [elrond, frodo_baggins, boromir, aragorn, gimli, legolas, gloin, glorfindel]\n",
    "\n",
    "for member in members:\n",
    "    print(member)           # Tests __str__ method\n",
    "    print(repr(member))     # Tests __repr__ method\n",
    "    print(member.work())    # Outputs race-specific behavior\n",
    "    print(\"-\" * 33)"
   ]
  },
  {
   "cell_type": "code",
   "execution_count": 29,
   "id": "698a3d7c",
   "metadata": {},
   "outputs": [],
   "source": [
    "# End of Project: Council of Middle-earth (Method Overriding Practice)\n",
    "# \n",
    "# Summary:\n",
    "# - Class design and logic were fully self-built.\n",
    "# - GPT was used for polishing docstrings, work() text, and __eq__ tweaks.\n",
    "# - Helped solidify my understanding of method overriding, especially __str__ vs __repr__.\n",
    "# \n",
    "# Key Insight:\n",
    "# __repr__ is for developers — precise and debug-friendly, unlike __str__.\n"
   ]
  }
 ],
 "metadata": {
  "kernelspec": {
   "display_name": "envone",
   "language": "python",
   "name": "python3"
  },
  "language_info": {
   "codemirror_mode": {
    "name": "ipython",
    "version": 3
   },
   "file_extension": ".py",
   "mimetype": "text/x-python",
   "name": "python",
   "nbconvert_exporter": "python",
   "pygments_lexer": "ipython3",
   "version": "3.13.2"
  }
 },
 "nbformat": 4,
 "nbformat_minor": 5
}
