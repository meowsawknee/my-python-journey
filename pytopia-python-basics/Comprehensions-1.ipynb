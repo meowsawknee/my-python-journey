{
 "cells": [
  {
   "cell_type": "code",
   "execution_count": 2,
   "id": "33c0f97e",
   "metadata": {},
   "outputs": [],
   "source": [
    "# May 7 \n",
    "# Comprehensions excercise pytopia \n",
    "\n",
    "# Imagine you have a list of dictionaries representing various products in a store.\n",
    "#  Each dictionary contains the product name, category, and price.\n",
    "#  Your task is to use comprehensions to perform the following operations:\n",
    "\n",
    "# Generate a list of product names that are in the category \"Electronics\".\n",
    "# Create a dictionary that maps product names to their prices, but only for products that cost more than $50.\n",
    "# Compute the average price of all the products in the \"Books\" category."
   ]
  },
  {
   "cell_type": "code",
   "execution_count": 3,
   "id": "e0834a5e",
   "metadata": {},
   "outputs": [],
   "source": [
    "products = [\n",
    "    {\"name\": \"Laptop\", \"category\": \"Electronics\", \"price\": 999.99},\n",
    "    {\"name\": \"Smartphone\", \"category\": \"Electronics\", \"price\": 699.99},\n",
    "    {\"name\": \"Book: The Alchemist\", \"category\": \"Books\", \"price\": 14.99},\n",
    "    {\"name\": \"Book: Harry Potter\", \"category\": \"Books\", \"price\": 29.99},\n",
    "    {\"name\": \"Bluetooth Headphones\", \"category\": \"Electronics\", \"price\": 199.99},\n",
    "    {\"name\": \"Monitor\", \"category\": \"Electronics\", \"price\": 149.99},\n",
    "    {\"name\": \"Book: Python Programming\", \"category\": \"Books\", \"price\": 49.99},\n",
    "    {\"name\": \"Desk Lamp\", \"category\": \"Furniture\", \"price\": 24.99},\n",
    "    {\"name\": \"Mousepad\", \"category\": \"Accessories\", \"price\": 5.99},\n",
    "    {\"name\": \"Stylus Pen\", \"category\": \"Accessories\", \"price\": 12.99},\n",
    "]\n"
   ]
  },
  {
   "cell_type": "code",
   "execution_count": 4,
   "id": "d0ca7ee5",
   "metadata": {},
   "outputs": [
    {
     "data": {
      "text/plain": [
       "['Laptop', 'Smartphone', 'Bluetooth Headphones', 'Monitor']"
      ]
     },
     "execution_count": 4,
     "metadata": {},
     "output_type": "execute_result"
    }
   ],
   "source": [
    "# Electronics\n",
    "# products is a list of dictionaries.\n",
    "# each product is a dictionary that has \"name\", \"category\", and \"price\" keys.\n",
    "\n",
    "[product[\"name\"] for product in products if product[\"category\"] == \"Electronics\"]\n",
    "\n",
    "# just some hint to remebebr. for refrence only:\n",
    "# [expression for item in iterable if condition]\n",
    "# expression = what you want in your new list.\n",
    "# item = any member of iterable\n",
    "# iterable = where to loop? (your list, dictionary, etc.)\n",
    "# condition = your filter (optional)"
   ]
  },
  {
   "cell_type": "code",
   "execution_count": 5,
   "id": "211e8710",
   "metadata": {},
   "outputs": [
    {
     "data": {
      "text/plain": [
       "{'Laptop': 999.99,\n",
       " 'Smartphone': 699.99,\n",
       " 'Bluetooth Headphones': 199.99,\n",
       " 'Monitor': 149.99}"
      ]
     },
     "execution_count": 5,
     "metadata": {},
     "output_type": "execute_result"
    }
   ],
   "source": [
    "{product[\"name\"]: product[\"price\"] for product in products if product[\"price\"] > 50 }\n",
    "\n",
    "# Only 'name' and 'price' are used here because we need a dictionary\n",
    "# mapping product names to their prices (other fields are ignored).\n",
    "# it's obvious now, but at first it was confusing for me."
   ]
  },
  {
   "cell_type": "code",
   "execution_count": 11,
   "id": "99d8d6cd",
   "metadata": {},
   "outputs": [
    {
     "name": "stdout",
     "output_type": "stream",
     "text": [
      "Book prices: [14.99, 29.99, 49.99]\n",
      "Total: 94.97\n",
      "Average: 31.66\n"
     ]
    }
   ],
   "source": [
    "book_prices = [product[\"price\"] for product in products if product[\"category\"] == \"Books\"]\n",
    "print(f\"Book prices: {book_prices}\")\n",
    "\n",
    "total = sum(book_prices)\n",
    "print(f\"Total: {total}\")\n",
    "\n",
    "average = total / len(book_prices)\n",
    "print(f\"Average: {average:.2f}\")\n",
    "\n",
    "# Note for myself:\n",
    "# I need to always ask: what exactly do I want to achieve?\n",
    "# Here the goal is to calculate an average, which is just a single number,\n",
    "# so I don't need a dictionary or extra stuff—just a list of prices.\n",
    "# Next time, before writing code, think: which data structure fits the goal?\n",
    "# (Don't just write code blindly!)\n"
   ]
  }
 ],
 "metadata": {
  "kernelspec": {
   "display_name": "envone",
   "language": "python",
   "name": "python3"
  },
  "language_info": {
   "codemirror_mode": {
    "name": "ipython",
    "version": 3
   },
   "file_extension": ".py",
   "mimetype": "text/x-python",
   "name": "python",
   "nbconvert_exporter": "python",
   "pygments_lexer": "ipython3",
   "version": "3.13.2"
  }
 },
 "nbformat": 4,
 "nbformat_minor": 5
}
