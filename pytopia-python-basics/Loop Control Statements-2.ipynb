{
 "cells": [
  {
   "cell_type": "code",
   "execution_count": 1,
   "id": "08cfc290",
   "metadata": {},
   "outputs": [],
   "source": [
    "# Interactive Narrative Project – \"Facing Yourself\"\n",
    "# Created on May 7, 2025\n",
    "#\n",
    "# This notebook contains a 3-level interactive fiction game written in Python,\n",
    "# combining 'input', 'while True', 'break', and 'continue' to present philosophical choices.\n",
    "# The project was technically inspired by a Python lesson (loop control statements) from Pytopia.\n",
    "# The narrative concept was designed with GPT's assistance, while I decided the ending and finalized the flow.\n",
    "# Along the way, this project sparked an idea: maybe one day I could combine my background in art\n",
    "# with coding and storytelling to create interactive web comics."
   ]
  },
  {
   "cell_type": "code",
   "execution_count": 2,
   "id": "9523c175",
   "metadata": {},
   "outputs": [
    {
     "name": "stdout",
     "output_type": "stream",
     "text": [
      "welcome welcome bluh bluh bluh\n",
      "Are you coming in?\n",
      "yes\n"
     ]
    },
    {
     "ename": "SyntaxError",
     "evalue": "'break' outside loop (1013729985.py, line 10)",
     "output_type": "error",
     "traceback": [
      "  \u001b[36mCell\u001b[39m\u001b[36m \u001b[39m\u001b[32mIn[2]\u001b[39m\u001b[32m, line 10\u001b[39m\n\u001b[31m    \u001b[39m\u001b[31mbreak # ? or continue idk\u001b[39m\n    ^\n\u001b[31mSyntaxError\u001b[39m\u001b[31m:\u001b[39m 'break' outside loop\n"
     ]
    }
   ],
   "source": [
    "# thinking process\n",
    "# dirty version (thumbnail)\n",
    "# level 1 : ???\n",
    "print(\"welcome welcome bluh bluh bluh\") \n",
    "# i wanna these messages come and go with 2 sec delay! but how?\n",
    "print(\"Are you coming in?\")\n",
    "first_question = input(\"Are you coming in? (yes or no)\")\n",
    "print(first_question) # just for test\n",
    "if first_question == \"yes\":\n",
    "    break # ? or continue idk\n",
    "elif first_question == \"no\":\n",
    "    continue #?\n",
    "else:\n",
    "    continue"
   ]
  },
  {
   "cell_type": "code",
   "execution_count": 8,
   "id": "66164cfd",
   "metadata": {},
   "outputs": [
    {
     "name": "stdout",
     "output_type": "stream",
     "text": [
      "🚨 [SYSTEM WARNING] Critical instability detected abroad U.S.S. Absurdity.\n",
      "🤖 [AI]: 'Welcome, traveler. Or perhaps... wintness.'\n",
      "\n",
      "💨 The doorway ahead is shrouded in smoke, as if hiding something... or nothing.\n",
      "[LOG] Player answered: no\n",
      "\n",
      "🤖 [AI]: 'Refusal is... a choice. And yet, even still, the door waits.'\n",
      "\n",
      "💨 The doorway ahead is shrouded in smoke, as if hiding something... or nothing.\n",
      "[LOG] Player answered: yes\n",
      "\n",
      "🤖 [AI]: 'Curious. Every answer leads closer to the same place... yet you persist.'\n",
      "\n",
      "🚪 You step forward. The smoke parts-not revealing, but consuming. Ahead lies... The unknown.\n",
      " 👉 Level 1 complete. Proceeding to Level 2 ...\n"
     ]
    }
   ],
   "source": [
    "# gpt revised based on previous code \n",
    "\n",
    "import time\n",
    "\n",
    "print(\"🚨 [SYSTEM WARNING] Critical instability detected abroad U.S.S. Absurdity.\")\n",
    "time.sleep(2)\n",
    "print(\"🤖 [AI]: 'Welcome, traveler. Or perhaps... wintness.'\")\n",
    "time.sleep(2)\n",
    "\n",
    "while True:\n",
    "    print(\"\\n💨 The doorway ahead is shrouded in smoke, as if hiding something... or nothing.\")\n",
    "    time.sleep(2)\n",
    "    first_question = input(\"🤖 [AI]: 'Will you enter? (yes or no)': \").lower().strip()\n",
    "\n",
    "    print(f\"[LOG] Player answered: {first_question}\") # oprional debug log\n",
    "\n",
    "    if first_question == \"yes\":\n",
    "        print(\"\\n🤖 [AI]: 'Curious. Every answer leads closer to the same place... yet you persist.'\")\n",
    "        break\n",
    "    elif first_question == \"no\":\n",
    "        print(\"\\n🤖 [AI]: 'Refusal is... a choice. And yet, even still, the door waits.'\")\n",
    "        continue\n",
    "    else:\n",
    "        print(\"\\n🤖 [AI]: 'Words outside the binary... fascinating. Yet irrelevant.'\")\n",
    "        continue\n",
    "\n",
    "print(\"\\n🚪 You step forward. The smoke parts-not revealing, but consuming. Ahead lies... The unknown.\")\n",
    "print(\" 👉 Level 1 complete. Proceeding to Level 2 ...\")\n"
   ]
  },
  {
   "cell_type": "code",
   "execution_count": 7,
   "id": "5dfb11a5",
   "metadata": {},
   "outputs": [
    {
     "name": "stdout",
     "output_type": "stream",
     "text": [
      "\n",
      "🕳️ You arrive at a dimly lit chamber.\n",
      "🟥 In the center stands a large red button on a metallic pedestal.\n",
      "🔴 A faint red glow pulses from it.\n",
      "\n",
      "🤖[AI]: There is a button in front of you. It wants to be pressed... or does it?\n",
      "[LOG] Player answered: yes\n",
      "\n",
      "🤖[AI]: 'Ah. The inevitable surrender to curiosity. But every press... is a confession.'\n",
      "\n",
      "🔓 The button clicks beneath your finger. A hum fills the chamber.\n",
      "Level 2 complete. Proceeding to Level 3 ...\n"
     ]
    }
   ],
   "source": [
    "# My first attempt at level 2! I really relied on the previous clean version to write this one.\n",
    "\n",
    "import time\n",
    "\n",
    "print(\"\\n🕳️ You arrive at a dimly lit chamber.\")\n",
    "time.sleep(2)\n",
    "print(\"🟥 In the center stands a large red button on a metallic pedestal.\")\n",
    "time.sleep(2)\n",
    "print(\"🔴 A faint red glow pulses from it.\")\n",
    "\n",
    "while True:\n",
    "    print(\"\\n🤖[AI]: There is a button in front of you. It wants to be pressed... or does it?\")\n",
    "    time.sleep(2)\n",
    "    second_question = input(\"🤖[AI]: 'Will you press the button? (yes or no)\").lower().strip()\n",
    "\n",
    "    print(f\"[LOG] Player answered: {second_question}\")\n",
    "\n",
    "    if second_question == \"yes\":\n",
    "        print(\"\\n🤖[AI]: 'Ah. The inevitable surrender to curiosity. But every press... is a confession.'\" )\n",
    "        break\n",
    "    elif second_question == \"no\":\n",
    "        print(\"\\n🤖[AI]: 'Refusal prolongs... but never prevents. The button remains.'\")\n",
    "        continue\n",
    "    else:\n",
    "        print(\"\\n🤖[AI]: 'Beyond yes or no lies... nothing actionable. Decide.'\")\n",
    "        continue\n",
    "\n",
    "print(\"\\n🔓 The button clicks beneath your finger. A hum fills the chamber.\")\n",
    "print(\"Level 2 complete. Proceeding to Level 3 ...\")"
   ]
  },
  {
   "cell_type": "code",
   "execution_count": 9,
   "id": "b5f9aa30",
   "metadata": {},
   "outputs": [
    {
     "name": "stdout",
     "output_type": "stream",
     "text": [
      "🤖[AI]: A presence steps forward closer...\n",
      "🤖[AI]: The outline is familiar...\n",
      "🤖[AI]: It is ...\n",
      "🤖[AI]: YOU!!!!\n",
      "\n",
      "🤖[AI]: You stand before... yourself. Reflection or apparition?\n",
      "(LOG) Player answered: talk\n",
      "\n",
      "🤖 [AI]:'Dialogue begins. Word between mirrored minds. The question is no longer what... but why.'\n",
      "\n",
      "🤖 [AI]:'Integration compelete. The journey ends where it began... whithin.'\n",
      "\n",
      "🤖 [AI]:'Thank you for walking the path.'\n",
      "\n",
      "🌓 [END OF EXPERIENCE?]\n"
     ]
    }
   ],
   "source": [
    "# level 3\n",
    "\n",
    "import time\n",
    "\n",
    "print(\"🤖[AI]: A presence steps forward closer...\")\n",
    "time.sleep(2)\n",
    "print(\"🤖[AI]: The outline is familiar...\")\n",
    "time.sleep(2)\n",
    "print(\"🤖[AI]: It is ...\")\n",
    "time.sleep(2)\n",
    "print(\"🤖[AI]: YOU!!!!\")\n",
    "\n",
    "while True:\n",
    "    print(\"\\n🤖[AI]: You stand before... yourself. Reflection or apparition?\")\n",
    "    time.sleep(2)\n",
    "    third_question = input(\"🤖[AI]: You have three choices: 'run','talk', or'freeze':\").lower().strip()\n",
    "    \n",
    "    print(f\"(LOG) Player answered: {third_question}\")\n",
    "\n",
    "    if third_question == \"talk\":\n",
    "        print(\"\\n🤖 [AI]:'Dialogue begins. Word between mirrored minds. The question is no longer what... but why.'\")\n",
    "        break\n",
    "    elif third_question == \"run\":\n",
    "        print(\"\\n🤖 [AI]:'You flee... yet every step circles back. There is no running from yourself.'\")\n",
    "        continue\n",
    "    elif third_question == \"freeze\":\n",
    "        print(\"\\n🤖 [AI]:'Stillness... a choice to do nothing. But even stillness... moves time forward.'\")\n",
    "        continue\n",
    "    else:\n",
    "        print(\"\\n🤖 [AI]:'Beyond these choices... is only silence. Choose again.!'\")\n",
    "        continue\n",
    "\n",
    "print(\"\\n🤖 [AI]:'Integration compelete. The journey ends where it began... whithin.'\")\n",
    "time.sleep(3)\n",
    "print(\"\\n🤖 [AI]:'Thank you for walking the path.'\")\n",
    "time.sleep(2)\n",
    "print(\"\\n🌓 [END OF EXPERIENCE?]\")"
   ]
  }
 ],
 "metadata": {
  "kernelspec": {
   "display_name": "envone",
   "language": "python",
   "name": "python3"
  },
  "language_info": {
   "codemirror_mode": {
    "name": "ipython",
    "version": 3
   },
   "file_extension": ".py",
   "mimetype": "text/x-python",
   "name": "python",
   "nbconvert_exporter": "python",
   "pygments_lexer": "ipython3",
   "version": "3.13.2"
  }
 },
 "nbformat": 4,
 "nbformat_minor": 5
}
