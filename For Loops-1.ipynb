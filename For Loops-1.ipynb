{
 "cells": [
  {
   "cell_type": "code",
   "execution_count": 11,
   "id": "9d51e0d7",
   "metadata": {},
   "outputs": [
    {
     "name": "stdout",
     "output_type": "stream",
     "text": [
      "21.142857142857142\n",
      "21.142857142857142\n",
      "21.142857142857142\n",
      "21.142857142857142\n",
      "21.142857142857142\n",
      "21.142857142857142\n",
      "21.142857142857142\n",
      "24\n",
      "24\n",
      "24\n",
      "24\n",
      "24\n",
      "24\n",
      "24\n",
      "19\n",
      "19\n",
      "19\n",
      "19\n",
      "19\n",
      "19\n",
      "19\n"
     ]
    },
    {
     "ename": "TypeError",
     "evalue": "int() argument must be a string, a bytes-like object or a real number, not 'list'",
     "output_type": "error",
     "traceback": [
      "\u001b[31m---------------------------------------------------------------------------\u001b[39m",
      "\u001b[31mTypeError\u001b[39m                                 Traceback (most recent call last)",
      "\u001b[36mCell\u001b[39m\u001b[36m \u001b[39m\u001b[32mIn[11]\u001b[39m\u001b[32m, line 15\u001b[39m\n\u001b[32m     13\u001b[39m warm_days_counter = \u001b[32m0\u001b[39m\n\u001b[32m     14\u001b[39m \u001b[38;5;28;01mfor\u001b[39;00m warm_days_count \u001b[38;5;129;01min\u001b[39;00m temperatures:\n\u001b[32m---> \u001b[39m\u001b[32m15\u001b[39m     \u001b[38;5;28;01mif\u001b[39;00m \u001b[38;5;28mint\u001b[39m(temperatures) >= \u001b[32m22\u001b[39m:\n\u001b[32m     16\u001b[39m         \u001b[38;5;28mprint\u001b[39m(warm_days_counter)\n\u001b[32m     17\u001b[39m         warm_days_counter += \u001b[32m1\u001b[39m\n",
      "\u001b[31mTypeError\u001b[39m: int() argument must be a string, a bytes-like object or a real number, not 'list'"
     ]
    }
   ],
   "source": [
    "# pytopia for loops excecise.\n",
    "# first try\n",
    "\n",
    "temperatures = [19, 21, 22, 24, 23, 19, 20]\n",
    "\n",
    "for average in temperatures:\n",
    "    print(sum(temperatures) / len(temperatures))\n",
    "for max_tmperature in temperatures:\n",
    "    print(max(temperatures))\n",
    "for min_temperature in temperatures:\n",
    "    print(min(temperatures))\n",
    "\n",
    "warm_days_counter = 0\n",
    "for warm_days_count in temperatures:\n",
    "    if int(temperatures) >= 22:\n",
    "        print(warm_days_counter)\n",
    "        warm_days_counter += 1\n"
   ]
  },
  {
   "cell_type": "code",
   "execution_count": 14,
   "id": "cc98ebf3",
   "metadata": {},
   "outputs": [
    {
     "name": "stdout",
     "output_type": "stream",
     "text": [
      "Average temprature for the week: 21.142857142857142\n",
      "Warning! This week's temperature reached 24°C !!!\n",
      "19\n",
      "19\n",
      "19\n",
      "19\n",
      "19\n",
      "19\n",
      "19\n"
     ]
    },
    {
     "ename": "TypeError",
     "evalue": "int() argument must be a string, a bytes-like object or a real number, not 'list'",
     "output_type": "error",
     "traceback": [
      "\u001b[31m---------------------------------------------------------------------------\u001b[39m",
      "\u001b[31mTypeError\u001b[39m                                 Traceback (most recent call last)",
      "\u001b[36mCell\u001b[39m\u001b[36m \u001b[39m\u001b[32mIn[14]\u001b[39m\u001b[32m, line 21\u001b[39m\n\u001b[32m     19\u001b[39m warm_days_counter = \u001b[32m0\u001b[39m\n\u001b[32m     20\u001b[39m \u001b[38;5;28;01mfor\u001b[39;00m warm_days_count \u001b[38;5;129;01min\u001b[39;00m temperatures:\n\u001b[32m---> \u001b[39m\u001b[32m21\u001b[39m     \u001b[38;5;28;01mif\u001b[39;00m \u001b[38;5;28mint\u001b[39m(temperatures) >= \u001b[32m22\u001b[39m:\n\u001b[32m     22\u001b[39m         \u001b[38;5;28mprint\u001b[39m(warm_days_counter)\n\u001b[32m     23\u001b[39m         warm_days_counter += \u001b[32m1\u001b[39m\n",
      "\u001b[31mTypeError\u001b[39m: int() argument must be a string, a bytes-like object or a real number, not 'list'"
     ]
    }
   ],
   "source": [
    "# second one\n",
    "temperatures = [19, 21, 22, 24, 23, 19, 20]\n",
    "\n",
    "total_temperatures = 0\n",
    "for average in temperatures:\n",
    "    total_temperatures += average\n",
    "average_temprature = total_temperatures / len(temperatures)\n",
    "print(f\"Average temprature for the week: {average_temprature}\")\n",
    "\n",
    "max_tmperature = temperatures[0]\n",
    "for max_tmp in temperatures:\n",
    "    if max_tmp > max_tmperature:\n",
    "        max_tmperature = max_tmp\n",
    "print(f\"Warning! This week's temperature reached {max_tmperature}°C !!!\")\n",
    "\n",
    "for min_temperature in temperatures:\n",
    "    print(min(temperatures))\n",
    "\n",
    "warm_days_counter = 0\n",
    "for warm_days_count in temperatures:\n",
    "    if int(temperatures) >= 22:\n",
    "        print(warm_days_counter)\n",
    "        warm_days_counter += 1"
   ]
  }
 ],
 "metadata": {
  "kernelspec": {
   "display_name": "envone",
   "language": "python",
   "name": "python3"
  },
  "language_info": {
   "codemirror_mode": {
    "name": "ipython",
    "version": 3
   },
   "file_extension": ".py",
   "mimetype": "text/x-python",
   "name": "python",
   "nbconvert_exporter": "python",
   "pygments_lexer": "ipython3",
   "version": "3.13.2"
  }
 },
 "nbformat": 4,
 "nbformat_minor": 5
}
